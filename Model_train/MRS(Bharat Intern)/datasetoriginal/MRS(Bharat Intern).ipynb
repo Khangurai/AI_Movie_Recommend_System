{
 "cells": [
  {
   "cell_type": "code",
   "id": "3f04a173",
   "metadata": {
    "ExecuteTime": {
     "end_time": "2024-08-02T14:28:47.187588Z",
     "start_time": "2024-08-02T14:28:46.509487Z"
    }
   },
   "source": [
    "import pandas as pd"
   ],
   "outputs": [],
   "execution_count": 1
  },
  {
   "cell_type": "code",
   "id": "dead6fc2",
   "metadata": {
    "ExecuteTime": {
     "end_time": "2024-08-02T14:28:47.249032Z",
     "start_time": "2024-08-02T14:28:47.189590Z"
    }
   },
   "source": [
    "movies=pd.read_csv('dataset.csv')"
   ],
   "outputs": [],
   "execution_count": 2
  },
  {
   "cell_type": "code",
   "id": "5b1a49bf",
   "metadata": {
    "ExecuteTime": {
     "end_time": "2024-08-02T14:28:48.667309Z",
     "start_time": "2024-08-02T14:28:48.638805Z"
    }
   },
   "source": "movies",
   "outputs": [
    {
     "data": {
      "text/plain": [
       "          id                     title                             genre  \\\n",
       "0      27205                 Inception  Action,Science Fiction,Adventure   \n",
       "1     157336              Interstellar   Adventure,Drama,Science Fiction   \n",
       "2        155           The Dark Knight       Drama,Action,Crime,Thriller   \n",
       "3      24428              The Avengers  Science Fiction,Action,Adventure   \n",
       "4     293660                  Deadpool           Action,Adventure,Comedy   \n",
       "...      ...                       ...                               ...   \n",
       "9995   28569     Splendor in the Grass                     Drama,Romance   \n",
       "9996    4952               Pillow Talk                    Comedy,Romance   \n",
       "9997   15515  The 7th Voyage of Sinbad   Action,Adventure,Family,Fantasy   \n",
       "9998    9077                 Tarantula   Horror,Science Fiction,Thriller   \n",
       "9999   12232       The Thief of Bagdad   Action,Adventure,Family,Fantasy   \n",
       "\n",
       "     original_language                                           overview  \\\n",
       "0                   en  Cobb, a skilled thief who commits corporate es...   \n",
       "1                   en  The adventures of a group of explorers who mak...   \n",
       "2                   en  Batman raises the stakes in his war on crime. ...   \n",
       "3                   en  When an unexpected enemy emerges and threatens...   \n",
       "4                   en  The origin story of former Special Forces oper...   \n",
       "...                ...                                                ...   \n",
       "9995                en  A fragile Kansas girl's unrequited and forbidd...   \n",
       "9996                en  A man and woman share a telephone line and des...   \n",
       "9997                en  When a princess is shrunken by an evil wizard,...   \n",
       "9998                en  A lone-wolf scientist sequestered in a mansion...   \n",
       "9999                en  When Prince Ahmad is blinded and cast out of B...   \n",
       "\n",
       "      popularity release_date  vote_average  vote_count  \n",
       "0        111.757    7/15/2010           8.4       31917  \n",
       "1        191.220    11/5/2014           8.4       28920  \n",
       "2         82.230    7/14/2008           8.5       27925  \n",
       "3        278.980    4/25/2012           7.7       27250  \n",
       "4        230.309     2/9/2016           7.6       27028  \n",
       "...          ...          ...           ...         ...  \n",
       "9995       8.734   10/10/1961           7.6         200  \n",
       "9996       6.256    10/7/1959           7.2         200  \n",
       "9997      10.421    12/5/1958           6.9         200  \n",
       "9998      10.909   12/14/1955           6.4         200  \n",
       "9999       7.836   12/25/1940           7.2         200  \n",
       "\n",
       "[10000 rows x 9 columns]"
      ],
      "text/html": [
       "<div>\n",
       "<style scoped>\n",
       "    .dataframe tbody tr th:only-of-type {\n",
       "        vertical-align: middle;\n",
       "    }\n",
       "\n",
       "    .dataframe tbody tr th {\n",
       "        vertical-align: top;\n",
       "    }\n",
       "\n",
       "    .dataframe thead th {\n",
       "        text-align: right;\n",
       "    }\n",
       "</style>\n",
       "<table border=\"1\" class=\"dataframe\">\n",
       "  <thead>\n",
       "    <tr style=\"text-align: right;\">\n",
       "      <th></th>\n",
       "      <th>id</th>\n",
       "      <th>title</th>\n",
       "      <th>genre</th>\n",
       "      <th>original_language</th>\n",
       "      <th>overview</th>\n",
       "      <th>popularity</th>\n",
       "      <th>release_date</th>\n",
       "      <th>vote_average</th>\n",
       "      <th>vote_count</th>\n",
       "    </tr>\n",
       "  </thead>\n",
       "  <tbody>\n",
       "    <tr>\n",
       "      <th>0</th>\n",
       "      <td>27205</td>\n",
       "      <td>Inception</td>\n",
       "      <td>Action,Science Fiction,Adventure</td>\n",
       "      <td>en</td>\n",
       "      <td>Cobb, a skilled thief who commits corporate es...</td>\n",
       "      <td>111.757</td>\n",
       "      <td>7/15/2010</td>\n",
       "      <td>8.4</td>\n",
       "      <td>31917</td>\n",
       "    </tr>\n",
       "    <tr>\n",
       "      <th>1</th>\n",
       "      <td>157336</td>\n",
       "      <td>Interstellar</td>\n",
       "      <td>Adventure,Drama,Science Fiction</td>\n",
       "      <td>en</td>\n",
       "      <td>The adventures of a group of explorers who mak...</td>\n",
       "      <td>191.220</td>\n",
       "      <td>11/5/2014</td>\n",
       "      <td>8.4</td>\n",
       "      <td>28920</td>\n",
       "    </tr>\n",
       "    <tr>\n",
       "      <th>2</th>\n",
       "      <td>155</td>\n",
       "      <td>The Dark Knight</td>\n",
       "      <td>Drama,Action,Crime,Thriller</td>\n",
       "      <td>en</td>\n",
       "      <td>Batman raises the stakes in his war on crime. ...</td>\n",
       "      <td>82.230</td>\n",
       "      <td>7/14/2008</td>\n",
       "      <td>8.5</td>\n",
       "      <td>27925</td>\n",
       "    </tr>\n",
       "    <tr>\n",
       "      <th>3</th>\n",
       "      <td>24428</td>\n",
       "      <td>The Avengers</td>\n",
       "      <td>Science Fiction,Action,Adventure</td>\n",
       "      <td>en</td>\n",
       "      <td>When an unexpected enemy emerges and threatens...</td>\n",
       "      <td>278.980</td>\n",
       "      <td>4/25/2012</td>\n",
       "      <td>7.7</td>\n",
       "      <td>27250</td>\n",
       "    </tr>\n",
       "    <tr>\n",
       "      <th>4</th>\n",
       "      <td>293660</td>\n",
       "      <td>Deadpool</td>\n",
       "      <td>Action,Adventure,Comedy</td>\n",
       "      <td>en</td>\n",
       "      <td>The origin story of former Special Forces oper...</td>\n",
       "      <td>230.309</td>\n",
       "      <td>2/9/2016</td>\n",
       "      <td>7.6</td>\n",
       "      <td>27028</td>\n",
       "    </tr>\n",
       "    <tr>\n",
       "      <th>...</th>\n",
       "      <td>...</td>\n",
       "      <td>...</td>\n",
       "      <td>...</td>\n",
       "      <td>...</td>\n",
       "      <td>...</td>\n",
       "      <td>...</td>\n",
       "      <td>...</td>\n",
       "      <td>...</td>\n",
       "      <td>...</td>\n",
       "    </tr>\n",
       "    <tr>\n",
       "      <th>9995</th>\n",
       "      <td>28569</td>\n",
       "      <td>Splendor in the Grass</td>\n",
       "      <td>Drama,Romance</td>\n",
       "      <td>en</td>\n",
       "      <td>A fragile Kansas girl's unrequited and forbidd...</td>\n",
       "      <td>8.734</td>\n",
       "      <td>10/10/1961</td>\n",
       "      <td>7.6</td>\n",
       "      <td>200</td>\n",
       "    </tr>\n",
       "    <tr>\n",
       "      <th>9996</th>\n",
       "      <td>4952</td>\n",
       "      <td>Pillow Talk</td>\n",
       "      <td>Comedy,Romance</td>\n",
       "      <td>en</td>\n",
       "      <td>A man and woman share a telephone line and des...</td>\n",
       "      <td>6.256</td>\n",
       "      <td>10/7/1959</td>\n",
       "      <td>7.2</td>\n",
       "      <td>200</td>\n",
       "    </tr>\n",
       "    <tr>\n",
       "      <th>9997</th>\n",
       "      <td>15515</td>\n",
       "      <td>The 7th Voyage of Sinbad</td>\n",
       "      <td>Action,Adventure,Family,Fantasy</td>\n",
       "      <td>en</td>\n",
       "      <td>When a princess is shrunken by an evil wizard,...</td>\n",
       "      <td>10.421</td>\n",
       "      <td>12/5/1958</td>\n",
       "      <td>6.9</td>\n",
       "      <td>200</td>\n",
       "    </tr>\n",
       "    <tr>\n",
       "      <th>9998</th>\n",
       "      <td>9077</td>\n",
       "      <td>Tarantula</td>\n",
       "      <td>Horror,Science Fiction,Thriller</td>\n",
       "      <td>en</td>\n",
       "      <td>A lone-wolf scientist sequestered in a mansion...</td>\n",
       "      <td>10.909</td>\n",
       "      <td>12/14/1955</td>\n",
       "      <td>6.4</td>\n",
       "      <td>200</td>\n",
       "    </tr>\n",
       "    <tr>\n",
       "      <th>9999</th>\n",
       "      <td>12232</td>\n",
       "      <td>The Thief of Bagdad</td>\n",
       "      <td>Action,Adventure,Family,Fantasy</td>\n",
       "      <td>en</td>\n",
       "      <td>When Prince Ahmad is blinded and cast out of B...</td>\n",
       "      <td>7.836</td>\n",
       "      <td>12/25/1940</td>\n",
       "      <td>7.2</td>\n",
       "      <td>200</td>\n",
       "    </tr>\n",
       "  </tbody>\n",
       "</table>\n",
       "<p>10000 rows × 9 columns</p>\n",
       "</div>"
      ]
     },
     "execution_count": 3,
     "metadata": {},
     "output_type": "execute_result"
    }
   ],
   "execution_count": 3
  },
  {
   "cell_type": "code",
   "id": "7485c5d2",
   "metadata": {
    "ExecuteTime": {
     "end_time": "2024-08-02T14:28:50.348436Z",
     "start_time": "2024-08-02T14:28:50.328561Z"
    }
   },
   "source": [
    "movies.describe()"
   ],
   "outputs": [
    {
     "data": {
      "text/plain": [
       "                  id    popularity  vote_average    vote_count\n",
       "count   10000.000000  10000.000000  10000.000000  10000.000000\n",
       "mean   161243.505000     34.697267      6.621150   1547.309400\n",
       "std    211422.046043    211.684175      0.766231   2648.295789\n",
       "min         5.000000      0.600000      4.600000    200.000000\n",
       "25%     10127.750000      9.154750      6.100000    315.000000\n",
       "50%     30002.500000     13.637500      6.600000    583.500000\n",
       "75%    310133.500000     25.651250      7.200000   1460.000000\n",
       "max    934761.000000  10436.917000      8.700000  31917.000000"
      ],
      "text/html": [
       "<div>\n",
       "<style scoped>\n",
       "    .dataframe tbody tr th:only-of-type {\n",
       "        vertical-align: middle;\n",
       "    }\n",
       "\n",
       "    .dataframe tbody tr th {\n",
       "        vertical-align: top;\n",
       "    }\n",
       "\n",
       "    .dataframe thead th {\n",
       "        text-align: right;\n",
       "    }\n",
       "</style>\n",
       "<table border=\"1\" class=\"dataframe\">\n",
       "  <thead>\n",
       "    <tr style=\"text-align: right;\">\n",
       "      <th></th>\n",
       "      <th>id</th>\n",
       "      <th>popularity</th>\n",
       "      <th>vote_average</th>\n",
       "      <th>vote_count</th>\n",
       "    </tr>\n",
       "  </thead>\n",
       "  <tbody>\n",
       "    <tr>\n",
       "      <th>count</th>\n",
       "      <td>10000.000000</td>\n",
       "      <td>10000.000000</td>\n",
       "      <td>10000.000000</td>\n",
       "      <td>10000.000000</td>\n",
       "    </tr>\n",
       "    <tr>\n",
       "      <th>mean</th>\n",
       "      <td>161243.505000</td>\n",
       "      <td>34.697267</td>\n",
       "      <td>6.621150</td>\n",
       "      <td>1547.309400</td>\n",
       "    </tr>\n",
       "    <tr>\n",
       "      <th>std</th>\n",
       "      <td>211422.046043</td>\n",
       "      <td>211.684175</td>\n",
       "      <td>0.766231</td>\n",
       "      <td>2648.295789</td>\n",
       "    </tr>\n",
       "    <tr>\n",
       "      <th>min</th>\n",
       "      <td>5.000000</td>\n",
       "      <td>0.600000</td>\n",
       "      <td>4.600000</td>\n",
       "      <td>200.000000</td>\n",
       "    </tr>\n",
       "    <tr>\n",
       "      <th>25%</th>\n",
       "      <td>10127.750000</td>\n",
       "      <td>9.154750</td>\n",
       "      <td>6.100000</td>\n",
       "      <td>315.000000</td>\n",
       "    </tr>\n",
       "    <tr>\n",
       "      <th>50%</th>\n",
       "      <td>30002.500000</td>\n",
       "      <td>13.637500</td>\n",
       "      <td>6.600000</td>\n",
       "      <td>583.500000</td>\n",
       "    </tr>\n",
       "    <tr>\n",
       "      <th>75%</th>\n",
       "      <td>310133.500000</td>\n",
       "      <td>25.651250</td>\n",
       "      <td>7.200000</td>\n",
       "      <td>1460.000000</td>\n",
       "    </tr>\n",
       "    <tr>\n",
       "      <th>max</th>\n",
       "      <td>934761.000000</td>\n",
       "      <td>10436.917000</td>\n",
       "      <td>8.700000</td>\n",
       "      <td>31917.000000</td>\n",
       "    </tr>\n",
       "  </tbody>\n",
       "</table>\n",
       "</div>"
      ]
     },
     "execution_count": 4,
     "metadata": {},
     "output_type": "execute_result"
    }
   ],
   "execution_count": 4
  },
  {
   "cell_type": "code",
   "id": "017fc86e",
   "metadata": {
    "ExecuteTime": {
     "end_time": "2024-08-02T14:28:51.365649Z",
     "start_time": "2024-08-02T14:28:51.339490Z"
    }
   },
   "source": [
    "movies.info()"
   ],
   "outputs": [
    {
     "name": "stdout",
     "output_type": "stream",
     "text": [
      "<class 'pandas.core.frame.DataFrame'>\n",
      "RangeIndex: 10000 entries, 0 to 9999\n",
      "Data columns (total 9 columns):\n",
      " #   Column             Non-Null Count  Dtype  \n",
      "---  ------             --------------  -----  \n",
      " 0   id                 10000 non-null  int64  \n",
      " 1   title              10000 non-null  object \n",
      " 2   genre              9997 non-null   object \n",
      " 3   original_language  10000 non-null  object \n",
      " 4   overview           9987 non-null   object \n",
      " 5   popularity         10000 non-null  float64\n",
      " 6   release_date       10000 non-null  object \n",
      " 7   vote_average       10000 non-null  float64\n",
      " 8   vote_count         10000 non-null  int64  \n",
      "dtypes: float64(2), int64(2), object(5)\n",
      "memory usage: 703.2+ KB\n"
     ]
    }
   ],
   "execution_count": 5
  },
  {
   "cell_type": "code",
   "id": "903ea29b",
   "metadata": {
    "ExecuteTime": {
     "end_time": "2024-08-02T14:28:52.269108Z",
     "start_time": "2024-08-02T14:28:52.247525Z"
    }
   },
   "source": [
    "movies.isnull().sum()"
   ],
   "outputs": [
    {
     "data": {
      "text/plain": [
       "id                    0\n",
       "title                 0\n",
       "genre                 3\n",
       "original_language     0\n",
       "overview             13\n",
       "popularity            0\n",
       "release_date          0\n",
       "vote_average          0\n",
       "vote_count            0\n",
       "dtype: int64"
      ]
     },
     "execution_count": 6,
     "metadata": {},
     "output_type": "execute_result"
    }
   ],
   "execution_count": 6
  },
  {
   "cell_type": "markdown",
   "id": "8d08a5cf",
   "metadata": {},
   "source": [
    "Feature Selection Part"
   ]
  },
  {
   "cell_type": "code",
   "id": "f4c03a00",
   "metadata": {
    "ExecuteTime": {
     "end_time": "2024-08-02T14:28:56.150806Z",
     "start_time": "2024-08-02T14:28:56.130189Z"
    }
   },
   "source": [
    "movies.columns"
   ],
   "outputs": [
    {
     "data": {
      "text/plain": [
       "Index(['id', 'title', 'genre', 'original_language', 'overview', 'popularity',\n",
       "       'release_date', 'vote_average', 'vote_count'],\n",
       "      dtype='object')"
      ]
     },
     "execution_count": 7,
     "metadata": {},
     "output_type": "execute_result"
    }
   ],
   "execution_count": 7
  },
  {
   "cell_type": "code",
   "id": "0a54c777",
   "metadata": {
    "ExecuteTime": {
     "end_time": "2024-08-02T14:28:58.270231Z",
     "start_time": "2024-08-02T14:28:58.250715Z"
    }
   },
   "source": [
    "movies=movies[['id', 'title', 'overview', 'genre']]"
   ],
   "outputs": [],
   "execution_count": 8
  },
  {
   "cell_type": "code",
   "id": "9e6b07f3",
   "metadata": {
    "ExecuteTime": {
     "end_time": "2024-08-02T14:31:23.198624Z",
     "start_time": "2024-08-02T14:31:23.175554Z"
    }
   },
   "source": [
    "movies"
   ],
   "outputs": [
    {
     "data": {
      "text/plain": [
       "          id                     title  \\\n",
       "0      27205                 Inception   \n",
       "1     157336              Interstellar   \n",
       "2        155           The Dark Knight   \n",
       "3      24428              The Avengers   \n",
       "4     293660                  Deadpool   \n",
       "...      ...                       ...   \n",
       "9995   28569     Splendor in the Grass   \n",
       "9996    4952               Pillow Talk   \n",
       "9997   15515  The 7th Voyage of Sinbad   \n",
       "9998    9077                 Tarantula   \n",
       "9999   12232       The Thief of Bagdad   \n",
       "\n",
       "                                               overview  \\\n",
       "0     Cobb, a skilled thief who commits corporate es...   \n",
       "1     The adventures of a group of explorers who mak...   \n",
       "2     Batman raises the stakes in his war on crime. ...   \n",
       "3     When an unexpected enemy emerges and threatens...   \n",
       "4     The origin story of former Special Forces oper...   \n",
       "...                                                 ...   \n",
       "9995  A fragile Kansas girl's unrequited and forbidd...   \n",
       "9996  A man and woman share a telephone line and des...   \n",
       "9997  When a princess is shrunken by an evil wizard,...   \n",
       "9998  A lone-wolf scientist sequestered in a mansion...   \n",
       "9999  When Prince Ahmad is blinded and cast out of B...   \n",
       "\n",
       "                                 genre  \\\n",
       "0     Action,Science Fiction,Adventure   \n",
       "1      Adventure,Drama,Science Fiction   \n",
       "2          Drama,Action,Crime,Thriller   \n",
       "3     Science Fiction,Action,Adventure   \n",
       "4              Action,Adventure,Comedy   \n",
       "...                                ...   \n",
       "9995                     Drama,Romance   \n",
       "9996                    Comedy,Romance   \n",
       "9997   Action,Adventure,Family,Fantasy   \n",
       "9998   Horror,Science Fiction,Thriller   \n",
       "9999   Action,Adventure,Family,Fantasy   \n",
       "\n",
       "                                                   tags  \n",
       "0     Cobb, a skilled thief who commits corporate es...  \n",
       "1     The adventures of a group of explorers who mak...  \n",
       "2     Batman raises the stakes in his war on crime. ...  \n",
       "3     When an unexpected enemy emerges and threatens...  \n",
       "4     The origin story of former Special Forces oper...  \n",
       "...                                                 ...  \n",
       "9995  A fragile Kansas girl's unrequited and forbidd...  \n",
       "9996  A man and woman share a telephone line and des...  \n",
       "9997  When a princess is shrunken by an evil wizard,...  \n",
       "9998  A lone-wolf scientist sequestered in a mansion...  \n",
       "9999  When Prince Ahmad is blinded and cast out of B...  \n",
       "\n",
       "[10000 rows x 5 columns]"
      ],
      "text/html": [
       "<div>\n",
       "<style scoped>\n",
       "    .dataframe tbody tr th:only-of-type {\n",
       "        vertical-align: middle;\n",
       "    }\n",
       "\n",
       "    .dataframe tbody tr th {\n",
       "        vertical-align: top;\n",
       "    }\n",
       "\n",
       "    .dataframe thead th {\n",
       "        text-align: right;\n",
       "    }\n",
       "</style>\n",
       "<table border=\"1\" class=\"dataframe\">\n",
       "  <thead>\n",
       "    <tr style=\"text-align: right;\">\n",
       "      <th></th>\n",
       "      <th>id</th>\n",
       "      <th>title</th>\n",
       "      <th>overview</th>\n",
       "      <th>genre</th>\n",
       "      <th>tags</th>\n",
       "    </tr>\n",
       "  </thead>\n",
       "  <tbody>\n",
       "    <tr>\n",
       "      <th>0</th>\n",
       "      <td>27205</td>\n",
       "      <td>Inception</td>\n",
       "      <td>Cobb, a skilled thief who commits corporate es...</td>\n",
       "      <td>Action,Science Fiction,Adventure</td>\n",
       "      <td>Cobb, a skilled thief who commits corporate es...</td>\n",
       "    </tr>\n",
       "    <tr>\n",
       "      <th>1</th>\n",
       "      <td>157336</td>\n",
       "      <td>Interstellar</td>\n",
       "      <td>The adventures of a group of explorers who mak...</td>\n",
       "      <td>Adventure,Drama,Science Fiction</td>\n",
       "      <td>The adventures of a group of explorers who mak...</td>\n",
       "    </tr>\n",
       "    <tr>\n",
       "      <th>2</th>\n",
       "      <td>155</td>\n",
       "      <td>The Dark Knight</td>\n",
       "      <td>Batman raises the stakes in his war on crime. ...</td>\n",
       "      <td>Drama,Action,Crime,Thriller</td>\n",
       "      <td>Batman raises the stakes in his war on crime. ...</td>\n",
       "    </tr>\n",
       "    <tr>\n",
       "      <th>3</th>\n",
       "      <td>24428</td>\n",
       "      <td>The Avengers</td>\n",
       "      <td>When an unexpected enemy emerges and threatens...</td>\n",
       "      <td>Science Fiction,Action,Adventure</td>\n",
       "      <td>When an unexpected enemy emerges and threatens...</td>\n",
       "    </tr>\n",
       "    <tr>\n",
       "      <th>4</th>\n",
       "      <td>293660</td>\n",
       "      <td>Deadpool</td>\n",
       "      <td>The origin story of former Special Forces oper...</td>\n",
       "      <td>Action,Adventure,Comedy</td>\n",
       "      <td>The origin story of former Special Forces oper...</td>\n",
       "    </tr>\n",
       "    <tr>\n",
       "      <th>...</th>\n",
       "      <td>...</td>\n",
       "      <td>...</td>\n",
       "      <td>...</td>\n",
       "      <td>...</td>\n",
       "      <td>...</td>\n",
       "    </tr>\n",
       "    <tr>\n",
       "      <th>9995</th>\n",
       "      <td>28569</td>\n",
       "      <td>Splendor in the Grass</td>\n",
       "      <td>A fragile Kansas girl's unrequited and forbidd...</td>\n",
       "      <td>Drama,Romance</td>\n",
       "      <td>A fragile Kansas girl's unrequited and forbidd...</td>\n",
       "    </tr>\n",
       "    <tr>\n",
       "      <th>9996</th>\n",
       "      <td>4952</td>\n",
       "      <td>Pillow Talk</td>\n",
       "      <td>A man and woman share a telephone line and des...</td>\n",
       "      <td>Comedy,Romance</td>\n",
       "      <td>A man and woman share a telephone line and des...</td>\n",
       "    </tr>\n",
       "    <tr>\n",
       "      <th>9997</th>\n",
       "      <td>15515</td>\n",
       "      <td>The 7th Voyage of Sinbad</td>\n",
       "      <td>When a princess is shrunken by an evil wizard,...</td>\n",
       "      <td>Action,Adventure,Family,Fantasy</td>\n",
       "      <td>When a princess is shrunken by an evil wizard,...</td>\n",
       "    </tr>\n",
       "    <tr>\n",
       "      <th>9998</th>\n",
       "      <td>9077</td>\n",
       "      <td>Tarantula</td>\n",
       "      <td>A lone-wolf scientist sequestered in a mansion...</td>\n",
       "      <td>Horror,Science Fiction,Thriller</td>\n",
       "      <td>A lone-wolf scientist sequestered in a mansion...</td>\n",
       "    </tr>\n",
       "    <tr>\n",
       "      <th>9999</th>\n",
       "      <td>12232</td>\n",
       "      <td>The Thief of Bagdad</td>\n",
       "      <td>When Prince Ahmad is blinded and cast out of B...</td>\n",
       "      <td>Action,Adventure,Family,Fantasy</td>\n",
       "      <td>When Prince Ahmad is blinded and cast out of B...</td>\n",
       "    </tr>\n",
       "  </tbody>\n",
       "</table>\n",
       "<p>10000 rows × 5 columns</p>\n",
       "</div>"
      ]
     },
     "execution_count": 16,
     "metadata": {},
     "output_type": "execute_result"
    }
   ],
   "execution_count": 16
  },
  {
   "cell_type": "code",
   "id": "e6677b81",
   "metadata": {
    "ExecuteTime": {
     "end_time": "2024-08-02T14:31:24.902240Z",
     "start_time": "2024-08-02T14:31:24.877652Z"
    }
   },
   "source": [
    "# Make a copy of the DataFrame\n",
    "movies_copy = movies.copy()\n",
    "\n",
    "# Add the 'tags' column\n",
    "movies_copy['tags'] = movies_copy['overview'] + movies_copy['genre']\n"
   ],
   "outputs": [],
   "execution_count": 17
  },
  {
   "cell_type": "code",
   "id": "c8bd5650",
   "metadata": {
    "ExecuteTime": {
     "end_time": "2024-08-02T14:31:27.748364Z",
     "start_time": "2024-08-02T14:31:27.729863Z"
    }
   },
   "source": "movies_copy",
   "outputs": [
    {
     "data": {
      "text/plain": [
       "          id                     title  \\\n",
       "0      27205                 Inception   \n",
       "1     157336              Interstellar   \n",
       "2        155           The Dark Knight   \n",
       "3      24428              The Avengers   \n",
       "4     293660                  Deadpool   \n",
       "...      ...                       ...   \n",
       "9995   28569     Splendor in the Grass   \n",
       "9996    4952               Pillow Talk   \n",
       "9997   15515  The 7th Voyage of Sinbad   \n",
       "9998    9077                 Tarantula   \n",
       "9999   12232       The Thief of Bagdad   \n",
       "\n",
       "                                               overview  \\\n",
       "0     Cobb, a skilled thief who commits corporate es...   \n",
       "1     The adventures of a group of explorers who mak...   \n",
       "2     Batman raises the stakes in his war on crime. ...   \n",
       "3     When an unexpected enemy emerges and threatens...   \n",
       "4     The origin story of former Special Forces oper...   \n",
       "...                                                 ...   \n",
       "9995  A fragile Kansas girl's unrequited and forbidd...   \n",
       "9996  A man and woman share a telephone line and des...   \n",
       "9997  When a princess is shrunken by an evil wizard,...   \n",
       "9998  A lone-wolf scientist sequestered in a mansion...   \n",
       "9999  When Prince Ahmad is blinded and cast out of B...   \n",
       "\n",
       "                                 genre  \\\n",
       "0     Action,Science Fiction,Adventure   \n",
       "1      Adventure,Drama,Science Fiction   \n",
       "2          Drama,Action,Crime,Thriller   \n",
       "3     Science Fiction,Action,Adventure   \n",
       "4              Action,Adventure,Comedy   \n",
       "...                                ...   \n",
       "9995                     Drama,Romance   \n",
       "9996                    Comedy,Romance   \n",
       "9997   Action,Adventure,Family,Fantasy   \n",
       "9998   Horror,Science Fiction,Thriller   \n",
       "9999   Action,Adventure,Family,Fantasy   \n",
       "\n",
       "                                                   tags  \n",
       "0     Cobb, a skilled thief who commits corporate es...  \n",
       "1     The adventures of a group of explorers who mak...  \n",
       "2     Batman raises the stakes in his war on crime. ...  \n",
       "3     When an unexpected enemy emerges and threatens...  \n",
       "4     The origin story of former Special Forces oper...  \n",
       "...                                                 ...  \n",
       "9995  A fragile Kansas girl's unrequited and forbidd...  \n",
       "9996  A man and woman share a telephone line and des...  \n",
       "9997  When a princess is shrunken by an evil wizard,...  \n",
       "9998  A lone-wolf scientist sequestered in a mansion...  \n",
       "9999  When Prince Ahmad is blinded and cast out of B...  \n",
       "\n",
       "[10000 rows x 5 columns]"
      ],
      "text/html": [
       "<div>\n",
       "<style scoped>\n",
       "    .dataframe tbody tr th:only-of-type {\n",
       "        vertical-align: middle;\n",
       "    }\n",
       "\n",
       "    .dataframe tbody tr th {\n",
       "        vertical-align: top;\n",
       "    }\n",
       "\n",
       "    .dataframe thead th {\n",
       "        text-align: right;\n",
       "    }\n",
       "</style>\n",
       "<table border=\"1\" class=\"dataframe\">\n",
       "  <thead>\n",
       "    <tr style=\"text-align: right;\">\n",
       "      <th></th>\n",
       "      <th>id</th>\n",
       "      <th>title</th>\n",
       "      <th>overview</th>\n",
       "      <th>genre</th>\n",
       "      <th>tags</th>\n",
       "    </tr>\n",
       "  </thead>\n",
       "  <tbody>\n",
       "    <tr>\n",
       "      <th>0</th>\n",
       "      <td>27205</td>\n",
       "      <td>Inception</td>\n",
       "      <td>Cobb, a skilled thief who commits corporate es...</td>\n",
       "      <td>Action,Science Fiction,Adventure</td>\n",
       "      <td>Cobb, a skilled thief who commits corporate es...</td>\n",
       "    </tr>\n",
       "    <tr>\n",
       "      <th>1</th>\n",
       "      <td>157336</td>\n",
       "      <td>Interstellar</td>\n",
       "      <td>The adventures of a group of explorers who mak...</td>\n",
       "      <td>Adventure,Drama,Science Fiction</td>\n",
       "      <td>The adventures of a group of explorers who mak...</td>\n",
       "    </tr>\n",
       "    <tr>\n",
       "      <th>2</th>\n",
       "      <td>155</td>\n",
       "      <td>The Dark Knight</td>\n",
       "      <td>Batman raises the stakes in his war on crime. ...</td>\n",
       "      <td>Drama,Action,Crime,Thriller</td>\n",
       "      <td>Batman raises the stakes in his war on crime. ...</td>\n",
       "    </tr>\n",
       "    <tr>\n",
       "      <th>3</th>\n",
       "      <td>24428</td>\n",
       "      <td>The Avengers</td>\n",
       "      <td>When an unexpected enemy emerges and threatens...</td>\n",
       "      <td>Science Fiction,Action,Adventure</td>\n",
       "      <td>When an unexpected enemy emerges and threatens...</td>\n",
       "    </tr>\n",
       "    <tr>\n",
       "      <th>4</th>\n",
       "      <td>293660</td>\n",
       "      <td>Deadpool</td>\n",
       "      <td>The origin story of former Special Forces oper...</td>\n",
       "      <td>Action,Adventure,Comedy</td>\n",
       "      <td>The origin story of former Special Forces oper...</td>\n",
       "    </tr>\n",
       "    <tr>\n",
       "      <th>...</th>\n",
       "      <td>...</td>\n",
       "      <td>...</td>\n",
       "      <td>...</td>\n",
       "      <td>...</td>\n",
       "      <td>...</td>\n",
       "    </tr>\n",
       "    <tr>\n",
       "      <th>9995</th>\n",
       "      <td>28569</td>\n",
       "      <td>Splendor in the Grass</td>\n",
       "      <td>A fragile Kansas girl's unrequited and forbidd...</td>\n",
       "      <td>Drama,Romance</td>\n",
       "      <td>A fragile Kansas girl's unrequited and forbidd...</td>\n",
       "    </tr>\n",
       "    <tr>\n",
       "      <th>9996</th>\n",
       "      <td>4952</td>\n",
       "      <td>Pillow Talk</td>\n",
       "      <td>A man and woman share a telephone line and des...</td>\n",
       "      <td>Comedy,Romance</td>\n",
       "      <td>A man and woman share a telephone line and des...</td>\n",
       "    </tr>\n",
       "    <tr>\n",
       "      <th>9997</th>\n",
       "      <td>15515</td>\n",
       "      <td>The 7th Voyage of Sinbad</td>\n",
       "      <td>When a princess is shrunken by an evil wizard,...</td>\n",
       "      <td>Action,Adventure,Family,Fantasy</td>\n",
       "      <td>When a princess is shrunken by an evil wizard,...</td>\n",
       "    </tr>\n",
       "    <tr>\n",
       "      <th>9998</th>\n",
       "      <td>9077</td>\n",
       "      <td>Tarantula</td>\n",
       "      <td>A lone-wolf scientist sequestered in a mansion...</td>\n",
       "      <td>Horror,Science Fiction,Thriller</td>\n",
       "      <td>A lone-wolf scientist sequestered in a mansion...</td>\n",
       "    </tr>\n",
       "    <tr>\n",
       "      <th>9999</th>\n",
       "      <td>12232</td>\n",
       "      <td>The Thief of Bagdad</td>\n",
       "      <td>When Prince Ahmad is blinded and cast out of B...</td>\n",
       "      <td>Action,Adventure,Family,Fantasy</td>\n",
       "      <td>When Prince Ahmad is blinded and cast out of B...</td>\n",
       "    </tr>\n",
       "  </tbody>\n",
       "</table>\n",
       "<p>10000 rows × 5 columns</p>\n",
       "</div>"
      ]
     },
     "execution_count": 18,
     "metadata": {},
     "output_type": "execute_result"
    }
   ],
   "execution_count": 18
  },
  {
   "cell_type": "code",
   "id": "30e6fe24",
   "metadata": {
    "ExecuteTime": {
     "end_time": "2024-08-02T14:31:35.427877Z",
     "start_time": "2024-08-02T14:31:35.414927Z"
    }
   },
   "source": [
    "new_data  = movies.drop(columns=['overview', 'genre'])"
   ],
   "outputs": [],
   "execution_count": 19
  },
  {
   "cell_type": "code",
   "id": "c7469d83",
   "metadata": {
    "ExecuteTime": {
     "end_time": "2024-08-02T14:31:38.298464Z",
     "start_time": "2024-08-02T14:31:38.277460Z"
    }
   },
   "source": [
    "new_data"
   ],
   "outputs": [
    {
     "data": {
      "text/plain": [
       "          id                     title  \\\n",
       "0      27205                 Inception   \n",
       "1     157336              Interstellar   \n",
       "2        155           The Dark Knight   \n",
       "3      24428              The Avengers   \n",
       "4     293660                  Deadpool   \n",
       "...      ...                       ...   \n",
       "9995   28569     Splendor in the Grass   \n",
       "9996    4952               Pillow Talk   \n",
       "9997   15515  The 7th Voyage of Sinbad   \n",
       "9998    9077                 Tarantula   \n",
       "9999   12232       The Thief of Bagdad   \n",
       "\n",
       "                                                   tags  \n",
       "0     Cobb, a skilled thief who commits corporate es...  \n",
       "1     The adventures of a group of explorers who mak...  \n",
       "2     Batman raises the stakes in his war on crime. ...  \n",
       "3     When an unexpected enemy emerges and threatens...  \n",
       "4     The origin story of former Special Forces oper...  \n",
       "...                                                 ...  \n",
       "9995  A fragile Kansas girl's unrequited and forbidd...  \n",
       "9996  A man and woman share a telephone line and des...  \n",
       "9997  When a princess is shrunken by an evil wizard,...  \n",
       "9998  A lone-wolf scientist sequestered in a mansion...  \n",
       "9999  When Prince Ahmad is blinded and cast out of B...  \n",
       "\n",
       "[10000 rows x 3 columns]"
      ],
      "text/html": [
       "<div>\n",
       "<style scoped>\n",
       "    .dataframe tbody tr th:only-of-type {\n",
       "        vertical-align: middle;\n",
       "    }\n",
       "\n",
       "    .dataframe tbody tr th {\n",
       "        vertical-align: top;\n",
       "    }\n",
       "\n",
       "    .dataframe thead th {\n",
       "        text-align: right;\n",
       "    }\n",
       "</style>\n",
       "<table border=\"1\" class=\"dataframe\">\n",
       "  <thead>\n",
       "    <tr style=\"text-align: right;\">\n",
       "      <th></th>\n",
       "      <th>id</th>\n",
       "      <th>title</th>\n",
       "      <th>tags</th>\n",
       "    </tr>\n",
       "  </thead>\n",
       "  <tbody>\n",
       "    <tr>\n",
       "      <th>0</th>\n",
       "      <td>27205</td>\n",
       "      <td>Inception</td>\n",
       "      <td>Cobb, a skilled thief who commits corporate es...</td>\n",
       "    </tr>\n",
       "    <tr>\n",
       "      <th>1</th>\n",
       "      <td>157336</td>\n",
       "      <td>Interstellar</td>\n",
       "      <td>The adventures of a group of explorers who mak...</td>\n",
       "    </tr>\n",
       "    <tr>\n",
       "      <th>2</th>\n",
       "      <td>155</td>\n",
       "      <td>The Dark Knight</td>\n",
       "      <td>Batman raises the stakes in his war on crime. ...</td>\n",
       "    </tr>\n",
       "    <tr>\n",
       "      <th>3</th>\n",
       "      <td>24428</td>\n",
       "      <td>The Avengers</td>\n",
       "      <td>When an unexpected enemy emerges and threatens...</td>\n",
       "    </tr>\n",
       "    <tr>\n",
       "      <th>4</th>\n",
       "      <td>293660</td>\n",
       "      <td>Deadpool</td>\n",
       "      <td>The origin story of former Special Forces oper...</td>\n",
       "    </tr>\n",
       "    <tr>\n",
       "      <th>...</th>\n",
       "      <td>...</td>\n",
       "      <td>...</td>\n",
       "      <td>...</td>\n",
       "    </tr>\n",
       "    <tr>\n",
       "      <th>9995</th>\n",
       "      <td>28569</td>\n",
       "      <td>Splendor in the Grass</td>\n",
       "      <td>A fragile Kansas girl's unrequited and forbidd...</td>\n",
       "    </tr>\n",
       "    <tr>\n",
       "      <th>9996</th>\n",
       "      <td>4952</td>\n",
       "      <td>Pillow Talk</td>\n",
       "      <td>A man and woman share a telephone line and des...</td>\n",
       "    </tr>\n",
       "    <tr>\n",
       "      <th>9997</th>\n",
       "      <td>15515</td>\n",
       "      <td>The 7th Voyage of Sinbad</td>\n",
       "      <td>When a princess is shrunken by an evil wizard,...</td>\n",
       "    </tr>\n",
       "    <tr>\n",
       "      <th>9998</th>\n",
       "      <td>9077</td>\n",
       "      <td>Tarantula</td>\n",
       "      <td>A lone-wolf scientist sequestered in a mansion...</td>\n",
       "    </tr>\n",
       "    <tr>\n",
       "      <th>9999</th>\n",
       "      <td>12232</td>\n",
       "      <td>The Thief of Bagdad</td>\n",
       "      <td>When Prince Ahmad is blinded and cast out of B...</td>\n",
       "    </tr>\n",
       "  </tbody>\n",
       "</table>\n",
       "<p>10000 rows × 3 columns</p>\n",
       "</div>"
      ]
     },
     "execution_count": 20,
     "metadata": {},
     "output_type": "execute_result"
    }
   ],
   "execution_count": 20
  },
  {
   "cell_type": "code",
   "id": "5c40b711",
   "metadata": {
    "ExecuteTime": {
     "end_time": "2024-08-02T14:31:43.823404Z",
     "start_time": "2024-08-02T14:31:40.690195Z"
    }
   },
   "source": [
    "from sklearn.feature_extraction.text import CountVectorizer"
   ],
   "outputs": [],
   "execution_count": 21
  },
  {
   "cell_type": "code",
   "id": "1ef07ab5",
   "metadata": {
    "ExecuteTime": {
     "end_time": "2024-08-02T14:31:44.710126Z",
     "start_time": "2024-08-02T14:31:44.705672Z"
    }
   },
   "source": [
    "cv=CountVectorizer(max_features=10000, stop_words='english')"
   ],
   "outputs": [],
   "execution_count": 22
  },
  {
   "cell_type": "code",
   "id": "5f47235f",
   "metadata": {
    "ExecuteTime": {
     "end_time": "2024-08-02T14:31:45.515456Z",
     "start_time": "2024-08-02T14:31:45.507378Z"
    }
   },
   "source": [
    "cv"
   ],
   "outputs": [
    {
     "data": {
      "text/plain": [
       "CountVectorizer(max_features=10000, stop_words='english')"
      ],
      "text/html": [
       "<style>#sk-container-id-1 {color: black;}#sk-container-id-1 pre{padding: 0;}#sk-container-id-1 div.sk-toggleable {background-color: white;}#sk-container-id-1 label.sk-toggleable__label {cursor: pointer;display: block;width: 100%;margin-bottom: 0;padding: 0.3em;box-sizing: border-box;text-align: center;}#sk-container-id-1 label.sk-toggleable__label-arrow:before {content: \"▸\";float: left;margin-right: 0.25em;color: #696969;}#sk-container-id-1 label.sk-toggleable__label-arrow:hover:before {color: black;}#sk-container-id-1 div.sk-estimator:hover label.sk-toggleable__label-arrow:before {color: black;}#sk-container-id-1 div.sk-toggleable__content {max-height: 0;max-width: 0;overflow: hidden;text-align: left;background-color: #f0f8ff;}#sk-container-id-1 div.sk-toggleable__content pre {margin: 0.2em;color: black;border-radius: 0.25em;background-color: #f0f8ff;}#sk-container-id-1 input.sk-toggleable__control:checked~div.sk-toggleable__content {max-height: 200px;max-width: 100%;overflow: auto;}#sk-container-id-1 input.sk-toggleable__control:checked~label.sk-toggleable__label-arrow:before {content: \"▾\";}#sk-container-id-1 div.sk-estimator input.sk-toggleable__control:checked~label.sk-toggleable__label {background-color: #d4ebff;}#sk-container-id-1 div.sk-label input.sk-toggleable__control:checked~label.sk-toggleable__label {background-color: #d4ebff;}#sk-container-id-1 input.sk-hidden--visually {border: 0;clip: rect(1px 1px 1px 1px);clip: rect(1px, 1px, 1px, 1px);height: 1px;margin: -1px;overflow: hidden;padding: 0;position: absolute;width: 1px;}#sk-container-id-1 div.sk-estimator {font-family: monospace;background-color: #f0f8ff;border: 1px dotted black;border-radius: 0.25em;box-sizing: border-box;margin-bottom: 0.5em;}#sk-container-id-1 div.sk-estimator:hover {background-color: #d4ebff;}#sk-container-id-1 div.sk-parallel-item::after {content: \"\";width: 100%;border-bottom: 1px solid gray;flex-grow: 1;}#sk-container-id-1 div.sk-label:hover label.sk-toggleable__label {background-color: #d4ebff;}#sk-container-id-1 div.sk-serial::before {content: \"\";position: absolute;border-left: 1px solid gray;box-sizing: border-box;top: 0;bottom: 0;left: 50%;z-index: 0;}#sk-container-id-1 div.sk-serial {display: flex;flex-direction: column;align-items: center;background-color: white;padding-right: 0.2em;padding-left: 0.2em;position: relative;}#sk-container-id-1 div.sk-item {position: relative;z-index: 1;}#sk-container-id-1 div.sk-parallel {display: flex;align-items: stretch;justify-content: center;background-color: white;position: relative;}#sk-container-id-1 div.sk-item::before, #sk-container-id-1 div.sk-parallel-item::before {content: \"\";position: absolute;border-left: 1px solid gray;box-sizing: border-box;top: 0;bottom: 0;left: 50%;z-index: -1;}#sk-container-id-1 div.sk-parallel-item {display: flex;flex-direction: column;z-index: 1;position: relative;background-color: white;}#sk-container-id-1 div.sk-parallel-item:first-child::after {align-self: flex-end;width: 50%;}#sk-container-id-1 div.sk-parallel-item:last-child::after {align-self: flex-start;width: 50%;}#sk-container-id-1 div.sk-parallel-item:only-child::after {width: 0;}#sk-container-id-1 div.sk-dashed-wrapped {border: 1px dashed gray;margin: 0 0.4em 0.5em 0.4em;box-sizing: border-box;padding-bottom: 0.4em;background-color: white;}#sk-container-id-1 div.sk-label label {font-family: monospace;font-weight: bold;display: inline-block;line-height: 1.2em;}#sk-container-id-1 div.sk-label-container {text-align: center;}#sk-container-id-1 div.sk-container {/* jupyter's `normalize.less` sets `[hidden] { display: none; }` but bootstrap.min.css set `[hidden] { display: none !important; }` so we also need the `!important` here to be able to override the default hidden behavior on the sphinx rendered scikit-learn.org. See: https://github.com/scikit-learn/scikit-learn/issues/21755 */display: inline-block !important;position: relative;}#sk-container-id-1 div.sk-text-repr-fallback {display: none;}</style><div id=\"sk-container-id-1\" class=\"sk-top-container\"><div class=\"sk-text-repr-fallback\"><pre>CountVectorizer(max_features=10000, stop_words=&#x27;english&#x27;)</pre><b>In a Jupyter environment, please rerun this cell to show the HTML representation or trust the notebook. <br />On GitHub, the HTML representation is unable to render, please try loading this page with nbviewer.org.</b></div><div class=\"sk-container\" hidden><div class=\"sk-item\"><div class=\"sk-estimator sk-toggleable\"><input class=\"sk-toggleable__control sk-hidden--visually\" id=\"sk-estimator-id-1\" type=\"checkbox\" checked><label for=\"sk-estimator-id-1\" class=\"sk-toggleable__label sk-toggleable__label-arrow\">CountVectorizer</label><div class=\"sk-toggleable__content\"><pre>CountVectorizer(max_features=10000, stop_words=&#x27;english&#x27;)</pre></div></div></div></div></div>"
      ]
     },
     "execution_count": 23,
     "metadata": {},
     "output_type": "execute_result"
    }
   ],
   "execution_count": 23
  },
  {
   "cell_type": "code",
   "id": "47d712fd",
   "metadata": {
    "ExecuteTime": {
     "end_time": "2024-08-02T14:31:47.810432Z",
     "start_time": "2024-08-02T14:31:47.126441Z"
    }
   },
   "source": [
    "vector=cv.fit_transform(new_data['tags'].values.astype('U')).toarray()"
   ],
   "outputs": [],
   "execution_count": 24
  },
  {
   "cell_type": "code",
   "id": "626e5066",
   "metadata": {
    "ExecuteTime": {
     "end_time": "2024-08-02T14:31:48.852267Z",
     "start_time": "2024-08-02T14:31:48.836349Z"
    }
   },
   "source": [
    "vector.shape"
   ],
   "outputs": [
    {
     "data": {
      "text/plain": [
       "(10000, 10000)"
      ]
     },
     "execution_count": 25,
     "metadata": {},
     "output_type": "execute_result"
    }
   ],
   "execution_count": 25
  },
  {
   "cell_type": "code",
   "id": "9858a65d",
   "metadata": {
    "ExecuteTime": {
     "end_time": "2024-08-02T14:31:50.106440Z",
     "start_time": "2024-08-02T14:31:49.853083Z"
    }
   },
   "source": [
    "from sklearn.metrics.pairwise import cosine_similarity"
   ],
   "outputs": [],
   "execution_count": 26
  },
  {
   "cell_type": "code",
   "id": "0851120b",
   "metadata": {
    "ExecuteTime": {
     "end_time": "2024-08-02T14:31:57.659535Z",
     "start_time": "2024-08-02T14:31:50.940212Z"
    }
   },
   "source": [
    "similarity=cosine_similarity(vector)"
   ],
   "outputs": [],
   "execution_count": 27
  },
  {
   "cell_type": "code",
   "id": "70d0277a",
   "metadata": {
    "ExecuteTime": {
     "end_time": "2024-08-02T14:31:59.624388Z",
     "start_time": "2024-08-02T14:31:59.606384Z"
    }
   },
   "source": [
    "similarity"
   ],
   "outputs": [
    {
     "data": {
      "text/plain": [
       "array([[1.        , 0.14350946, 0.03074377, ..., 0.11145564, 0.06019293,\n",
       "        0.14350946],\n",
       "       [0.14350946, 1.        , 0.0338255 , ..., 0.06131393, 0.06622662,\n",
       "        0.05263158],\n",
       "       [0.03074377, 0.0338255 , 1.        , ..., 0.07881104, 0.02128141,\n",
       "        0.0338255 ],\n",
       "       ...,\n",
       "       [0.11145564, 0.06131393, 0.07881104, ..., 1.        , 0.        ,\n",
       "        0.30656967],\n",
       "       [0.06019293, 0.06622662, 0.02128141, ..., 0.        , 1.        ,\n",
       "        0.        ],\n",
       "       [0.14350946, 0.05263158, 0.0338255 , ..., 0.30656967, 0.        ,\n",
       "        1.        ]])"
      ]
     },
     "execution_count": 28,
     "metadata": {},
     "output_type": "execute_result"
    }
   ],
   "execution_count": 28
  },
  {
   "cell_type": "code",
   "id": "33767086",
   "metadata": {
    "ExecuteTime": {
     "end_time": "2024-08-02T14:32:02.261932Z",
     "start_time": "2024-08-02T14:32:02.248895Z"
    }
   },
   "source": [
    "new_data[new_data['title']==\"The Godfather\"].index[0]"
   ],
   "outputs": [
    {
     "data": {
      "text/plain": [
       "63"
      ]
     },
     "execution_count": 29,
     "metadata": {},
     "output_type": "execute_result"
    }
   ],
   "execution_count": 29
  },
  {
   "cell_type": "code",
   "id": "18f8e048",
   "metadata": {
    "ExecuteTime": {
     "end_time": "2024-08-02T14:32:08.006486Z",
     "start_time": "2024-08-02T14:32:07.992640Z"
    }
   },
   "source": [
    "distance = sorted(list(enumerate(similarity[2])), reverse=True, key=lambda vector:vector[1])\n",
    "for i in distance[0:5]:\n",
    "    print(new_data.iloc[i[0]].title)"
   ],
   "outputs": [
    {
     "name": "stdout",
     "output_type": "stream",
     "text": [
      "The Dark Knight\n",
      "Batman: The Long Halloween, Part Two\n",
      "Batman: The Long Halloween, Part One\n",
      "The Dark Knight Rises\n",
      "Ricochet\n"
     ]
    }
   ],
   "execution_count": 30
  },
  {
   "cell_type": "code",
   "id": "abc0f54e",
   "metadata": {
    "ExecuteTime": {
     "end_time": "2024-08-02T14:32:11.909259Z",
     "start_time": "2024-08-02T14:32:11.904409Z"
    }
   },
   "source": [
    "def recommand(movies):\n",
    "    index=new_data[new_data['title']==movies].index[0]\n",
    "    distance = sorted(list(enumerate(similarity[index])), reverse=True, key=lambda vector:vector[1])\n",
    "    for i in distance[0:5]:\n",
    "        print(new_data.iloc[i[0]].title)"
   ],
   "outputs": [],
   "execution_count": 31
  },
  {
   "cell_type": "code",
   "id": "45f26d8e",
   "metadata": {
    "ExecuteTime": {
     "end_time": "2024-08-02T14:32:13.397985Z",
     "start_time": "2024-08-02T14:32:13.373475Z"
    }
   },
   "source": [
    "recommand(\"Iron Man\")"
   ],
   "outputs": [
    {
     "name": "stdout",
     "output_type": "stream",
     "text": [
      "Iron Man\n",
      "Iron Man 3\n",
      "Guardians of the Galaxy Vol. 2\n",
      "Avengers: Age of Ultron\n",
      "Star Wars: Episode III - Revenge of the Sith\n"
     ]
    }
   ],
   "execution_count": 32
  },
  {
   "cell_type": "code",
   "id": "27f3c2d2",
   "metadata": {
    "ExecuteTime": {
     "end_time": "2024-08-02T17:10:10.104795Z",
     "start_time": "2024-08-02T17:10:10.092209Z"
    }
   },
   "source": [
    "import pickle"
   ],
   "outputs": [],
   "execution_count": 4
  },
  {
   "cell_type": "code",
   "id": "2662fb93",
   "metadata": {
    "ExecuteTime": {
     "end_time": "2024-08-02T14:32:19.329320Z",
     "start_time": "2024-08-02T14:32:19.317155Z"
    }
   },
   "source": [
    "pickle.dump(new_data, open('movies_list.pkl', 'wb'))"
   ],
   "outputs": [],
   "execution_count": 34
  },
  {
   "cell_type": "code",
   "id": "73e32c4e",
   "metadata": {
    "ExecuteTime": {
     "end_time": "2024-08-02T14:33:30.662530Z",
     "start_time": "2024-08-02T14:33:28.522744Z"
    }
   },
   "source": [
    "pickle.dump(similarity, open('similarity.pkl', 'wb'))"
   ],
   "outputs": [],
   "execution_count": 35
  },
  {
   "cell_type": "code",
   "id": "e96d2c35",
   "metadata": {
    "ExecuteTime": {
     "end_time": "2024-08-02T17:10:13.102425Z",
     "start_time": "2024-08-02T17:10:13.074419Z"
    }
   },
   "source": [
    "pickle.load(open('movies_list.pkl', 'rb'))"
   ],
   "outputs": [
    {
     "ename": "ModuleNotFoundError",
     "evalue": "No module named 'numpy._core'",
     "output_type": "error",
     "traceback": [
      "\u001B[1;31m---------------------------------------------------------------------------\u001B[0m",
      "\u001B[1;31mModuleNotFoundError\u001B[0m                       Traceback (most recent call last)",
      "Cell \u001B[1;32mIn[5], line 1\u001B[0m\n\u001B[1;32m----> 1\u001B[0m \u001B[43mpickle\u001B[49m\u001B[38;5;241;43m.\u001B[39;49m\u001B[43mload\u001B[49m\u001B[43m(\u001B[49m\u001B[38;5;28;43mopen\u001B[39;49m\u001B[43m(\u001B[49m\u001B[38;5;124;43m'\u001B[39;49m\u001B[38;5;124;43mmovies_list.pkl\u001B[39;49m\u001B[38;5;124;43m'\u001B[39;49m\u001B[43m,\u001B[49m\u001B[43m \u001B[49m\u001B[38;5;124;43m'\u001B[39;49m\u001B[38;5;124;43mrb\u001B[39;49m\u001B[38;5;124;43m'\u001B[39;49m\u001B[43m)\u001B[49m\u001B[43m)\u001B[49m\n",
      "\u001B[1;31mModuleNotFoundError\u001B[0m: No module named 'numpy._core'"
     ]
    }
   ],
   "execution_count": 5
  },
  {
   "cell_type": "code",
   "id": "ae20e180",
   "metadata": {
    "ExecuteTime": {
     "end_time": "2024-08-02T17:12:04.248386Z",
     "start_time": "2024-08-02T17:12:02.575099Z"
    }
   },
   "source": "pickle.load(open('similarity.pkl', 'rb'))",
   "outputs": [
    {
     "data": {
      "text/plain": [
       "array([[1.        , 0.14350946, 0.03074377, ..., 0.11145564, 0.06019293,\n",
       "        0.14350946],\n",
       "       [0.14350946, 1.        , 0.0338255 , ..., 0.06131393, 0.06622662,\n",
       "        0.05263158],\n",
       "       [0.03074377, 0.0338255 , 1.        , ..., 0.07881104, 0.02128141,\n",
       "        0.0338255 ],\n",
       "       ...,\n",
       "       [0.11145564, 0.06131393, 0.07881104, ..., 1.        , 0.        ,\n",
       "        0.30656967],\n",
       "       [0.06019293, 0.06622662, 0.02128141, ..., 0.        , 1.        ,\n",
       "        0.        ],\n",
       "       [0.14350946, 0.05263158, 0.0338255 , ..., 0.30656967, 0.        ,\n",
       "        1.        ]])"
      ]
     },
     "execution_count": 6,
     "metadata": {},
     "output_type": "execute_result"
    }
   ],
   "execution_count": 6
  },
  {
   "metadata": {},
   "cell_type": "code",
   "outputs": [],
   "execution_count": null,
   "source": "",
   "id": "47e291df04c2cecd"
  }
 ],
 "metadata": {
  "kernelspec": {
   "display_name": "Python 3",
   "language": "python",
   "name": "python3"
  },
  "language_info": {
   "codemirror_mode": {
    "name": "ipython",
    "version": 3
   },
   "file_extension": ".py",
   "mimetype": "text/x-python",
   "name": "python",
   "nbconvert_exporter": "python",
   "pygments_lexer": "ipython3",
   "version": "3.8.5"
  }
 },
 "nbformat": 4,
 "nbformat_minor": 5
}
