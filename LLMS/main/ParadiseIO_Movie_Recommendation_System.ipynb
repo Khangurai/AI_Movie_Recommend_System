{
 "cells": [
  {
   "metadata": {
    "ExecuteTime": {
     "end_time": "2024-08-02T16:44:45.730996Z",
     "start_time": "2024-08-02T16:44:43.300244Z"
    }
   },
   "cell_type": "code",
   "source": "!pip install streamlit requests cohere python-dotenv deep-translator",
   "id": "408f78fc44a47e9c",
   "outputs": [
    {
     "name": "stdout",
     "output_type": "stream",
     "text": [
      "Requirement already satisfied: streamlit in e:\\anaconda3\\envs\\movie_recommendation_system_project\\lib\\site-packages (1.32.0)\n",
      "Requirement already satisfied: requests in e:\\anaconda3\\envs\\movie_recommendation_system_project\\lib\\site-packages (2.32.3)\n",
      "Requirement already satisfied: cohere in e:\\anaconda3\\envs\\movie_recommendation_system_project\\lib\\site-packages (5.6.2)\n",
      "Requirement already satisfied: python-dotenv in e:\\anaconda3\\envs\\movie_recommendation_system_project\\lib\\site-packages (1.0.1)\n",
      "Requirement already satisfied: deep-translator in e:\\anaconda3\\envs\\movie_recommendation_system_project\\lib\\site-packages (1.11.4)\n",
      "Requirement already satisfied: altair<6,>=4.0 in e:\\anaconda3\\envs\\movie_recommendation_system_project\\lib\\site-packages (from streamlit) (5.0.1)\n",
      "Requirement already satisfied: blinker<2,>=1.0.0 in e:\\anaconda3\\envs\\movie_recommendation_system_project\\lib\\site-packages (from streamlit) (1.6.2)\n",
      "Requirement already satisfied: cachetools<6,>=4.0 in e:\\anaconda3\\envs\\movie_recommendation_system_project\\lib\\site-packages (from streamlit) (5.3.3)\n",
      "Requirement already satisfied: click<9,>=7.0 in e:\\anaconda3\\envs\\movie_recommendation_system_project\\lib\\site-packages (from streamlit) (8.1.7)\n",
      "Requirement already satisfied: numpy<2,>=1.19.3 in e:\\anaconda3\\envs\\movie_recommendation_system_project\\lib\\site-packages (from streamlit) (1.24.4)\n",
      "Requirement already satisfied: packaging<24,>=16.8 in e:\\anaconda3\\envs\\movie_recommendation_system_project\\lib\\site-packages (from streamlit) (23.2)\n",
      "Requirement already satisfied: pandas<3,>=1.3.0 in e:\\anaconda3\\envs\\movie_recommendation_system_project\\lib\\site-packages (from streamlit) (2.0.3)\n",
      "Requirement already satisfied: pillow<11,>=7.1.0 in e:\\anaconda3\\envs\\movie_recommendation_system_project\\lib\\site-packages (from streamlit) (9.3.0)\n",
      "Requirement already satisfied: protobuf<5,>=3.20 in e:\\anaconda3\\envs\\movie_recommendation_system_project\\lib\\site-packages (from streamlit) (4.23.3)\n",
      "Requirement already satisfied: pyarrow>=7.0 in e:\\anaconda3\\envs\\movie_recommendation_system_project\\lib\\site-packages (from streamlit) (11.0.0)\n",
      "Requirement already satisfied: rich<14,>=10.14.0 in e:\\anaconda3\\envs\\movie_recommendation_system_project\\lib\\site-packages (from streamlit) (13.7.1)\n",
      "Requirement already satisfied: tenacity<9,>=8.1.0 in e:\\anaconda3\\envs\\movie_recommendation_system_project\\lib\\site-packages (from streamlit) (8.2.3)\n",
      "Requirement already satisfied: toml<2,>=0.10.1 in e:\\anaconda3\\envs\\movie_recommendation_system_project\\lib\\site-packages (from streamlit) (0.10.2)\n",
      "Requirement already satisfied: typing-extensions<5,>=4.3.0 in e:\\anaconda3\\envs\\movie_recommendation_system_project\\lib\\site-packages (from streamlit) (4.11.0)\n",
      "Requirement already satisfied: gitpython!=3.1.19,<4,>=3.0.7 in e:\\anaconda3\\envs\\movie_recommendation_system_project\\lib\\site-packages (from streamlit) (3.1.43)\n",
      "Requirement already satisfied: pydeck<1,>=0.8.0b4 in e:\\anaconda3\\envs\\movie_recommendation_system_project\\lib\\site-packages (from streamlit) (0.8.0b4)\n",
      "Requirement already satisfied: tornado<7,>=6.0.3 in e:\\anaconda3\\envs\\movie_recommendation_system_project\\lib\\site-packages (from streamlit) (6.4.1)\n",
      "Requirement already satisfied: watchdog>=2.1.5 in e:\\anaconda3\\envs\\movie_recommendation_system_project\\lib\\site-packages (from streamlit) (4.0.1)\n",
      "Requirement already satisfied: charset-normalizer<4,>=2 in e:\\anaconda3\\envs\\movie_recommendation_system_project\\lib\\site-packages (from requests) (3.3.2)\n",
      "Requirement already satisfied: idna<4,>=2.5 in e:\\anaconda3\\envs\\movie_recommendation_system_project\\lib\\site-packages (from requests) (3.7)\n",
      "Requirement already satisfied: urllib3<3,>=1.21.1 in e:\\anaconda3\\envs\\movie_recommendation_system_project\\lib\\site-packages (from requests) (1.26.19)\n",
      "Requirement already satisfied: certifi>=2017.4.17 in e:\\anaconda3\\envs\\movie_recommendation_system_project\\lib\\site-packages (from requests) (2024.7.4)\n",
      "Requirement already satisfied: boto3<2.0.0,>=1.34.0 in e:\\anaconda3\\envs\\movie_recommendation_system_project\\lib\\site-packages (from cohere) (1.34.152)\n",
      "Requirement already satisfied: fastavro<2.0.0,>=1.9.4 in e:\\anaconda3\\envs\\movie_recommendation_system_project\\lib\\site-packages (from cohere) (1.9.5)\n",
      "Requirement already satisfied: httpx>=0.21.2 in e:\\anaconda3\\envs\\movie_recommendation_system_project\\lib\\site-packages (from cohere) (0.27.0)\n",
      "Requirement already satisfied: httpx-sse<0.5.0,>=0.4.0 in e:\\anaconda3\\envs\\movie_recommendation_system_project\\lib\\site-packages (from cohere) (0.4.0)\n",
      "Requirement already satisfied: parameterized<0.10.0,>=0.9.0 in e:\\anaconda3\\envs\\movie_recommendation_system_project\\lib\\site-packages (from cohere) (0.9.0)\n",
      "Requirement already satisfied: pydantic>=1.9.2 in e:\\anaconda3\\envs\\movie_recommendation_system_project\\lib\\site-packages (from cohere) (2.8.2)\n",
      "Requirement already satisfied: tokenizers<1,>=0.15 in e:\\anaconda3\\envs\\movie_recommendation_system_project\\lib\\site-packages (from cohere) (0.19.1)\n",
      "Requirement already satisfied: types-requests<3.0.0,>=2.0.0 in e:\\anaconda3\\envs\\movie_recommendation_system_project\\lib\\site-packages (from cohere) (2.31.0.6)\n",
      "Requirement already satisfied: beautifulsoup4<5.0.0,>=4.9.1 in e:\\anaconda3\\envs\\movie_recommendation_system_project\\lib\\site-packages (from deep-translator) (4.12.3)\n",
      "Requirement already satisfied: jinja2 in e:\\anaconda3\\envs\\movie_recommendation_system_project\\lib\\site-packages (from altair<6,>=4.0->streamlit) (3.1.4)\n",
      "Requirement already satisfied: jsonschema>=3.0 in e:\\anaconda3\\envs\\movie_recommendation_system_project\\lib\\site-packages (from altair<6,>=4.0->streamlit) (4.19.2)\n",
      "Requirement already satisfied: toolz in e:\\anaconda3\\envs\\movie_recommendation_system_project\\lib\\site-packages (from altair<6,>=4.0->streamlit) (0.12.0)\n",
      "Requirement already satisfied: soupsieve>1.2 in e:\\anaconda3\\envs\\movie_recommendation_system_project\\lib\\site-packages (from beautifulsoup4<5.0.0,>=4.9.1->deep-translator) (2.5)\n",
      "Requirement already satisfied: botocore<1.35.0,>=1.34.152 in e:\\anaconda3\\envs\\movie_recommendation_system_project\\lib\\site-packages (from boto3<2.0.0,>=1.34.0->cohere) (1.34.152)\n",
      "Requirement already satisfied: jmespath<2.0.0,>=0.7.1 in e:\\anaconda3\\envs\\movie_recommendation_system_project\\lib\\site-packages (from boto3<2.0.0,>=1.34.0->cohere) (1.0.1)\n",
      "Requirement already satisfied: s3transfer<0.11.0,>=0.10.0 in e:\\anaconda3\\envs\\movie_recommendation_system_project\\lib\\site-packages (from boto3<2.0.0,>=1.34.0->cohere) (0.10.2)\n",
      "Requirement already satisfied: colorama in e:\\anaconda3\\envs\\movie_recommendation_system_project\\lib\\site-packages (from click<9,>=7.0->streamlit) (0.4.6)\n",
      "Requirement already satisfied: gitdb<5,>=4.0.1 in e:\\anaconda3\\envs\\movie_recommendation_system_project\\lib\\site-packages (from gitpython!=3.1.19,<4,>=3.0.7->streamlit) (4.0.7)\n",
      "Requirement already satisfied: anyio in e:\\anaconda3\\envs\\movie_recommendation_system_project\\lib\\site-packages (from httpx>=0.21.2->cohere) (4.2.0)\n",
      "Requirement already satisfied: httpcore==1.* in e:\\anaconda3\\envs\\movie_recommendation_system_project\\lib\\site-packages (from httpx>=0.21.2->cohere) (1.0.5)\n",
      "Requirement already satisfied: sniffio in e:\\anaconda3\\envs\\movie_recommendation_system_project\\lib\\site-packages (from httpx>=0.21.2->cohere) (1.3.0)\n",
      "Requirement already satisfied: h11<0.15,>=0.13 in e:\\anaconda3\\envs\\movie_recommendation_system_project\\lib\\site-packages (from httpcore==1.*->httpx>=0.21.2->cohere) (0.14.0)\n",
      "Requirement already satisfied: python-dateutil>=2.8.2 in e:\\anaconda3\\envs\\movie_recommendation_system_project\\lib\\site-packages (from pandas<3,>=1.3.0->streamlit) (2.9.0.post0)\n",
      "Requirement already satisfied: pytz>=2020.1 in e:\\anaconda3\\envs\\movie_recommendation_system_project\\lib\\site-packages (from pandas<3,>=1.3.0->streamlit) (2024.1)\n",
      "Requirement already satisfied: tzdata>=2022.1 in e:\\anaconda3\\envs\\movie_recommendation_system_project\\lib\\site-packages (from pandas<3,>=1.3.0->streamlit) (2023.3)\n",
      "Requirement already satisfied: annotated-types>=0.4.0 in e:\\anaconda3\\envs\\movie_recommendation_system_project\\lib\\site-packages (from pydantic>=1.9.2->cohere) (0.7.0)\n",
      "Requirement already satisfied: pydantic-core==2.20.1 in e:\\anaconda3\\envs\\movie_recommendation_system_project\\lib\\site-packages (from pydantic>=1.9.2->cohere) (2.20.1)\n",
      "Requirement already satisfied: markdown-it-py>=2.2.0 in e:\\anaconda3\\envs\\movie_recommendation_system_project\\lib\\site-packages (from rich<14,>=10.14.0->streamlit) (2.2.0)\n",
      "Requirement already satisfied: pygments<3.0.0,>=2.13.0 in e:\\anaconda3\\envs\\movie_recommendation_system_project\\lib\\site-packages (from rich<14,>=10.14.0->streamlit) (2.15.1)\n",
      "Requirement already satisfied: huggingface-hub<1.0,>=0.16.4 in e:\\anaconda3\\envs\\movie_recommendation_system_project\\lib\\site-packages (from tokenizers<1,>=0.15->cohere) (0.24.5)\n",
      "Requirement already satisfied: types-urllib3 in e:\\anaconda3\\envs\\movie_recommendation_system_project\\lib\\site-packages (from types-requests<3.0.0,>=2.0.0->cohere) (1.26.25.14)\n",
      "Requirement already satisfied: smmap<5,>=3.0.1 in e:\\anaconda3\\envs\\movie_recommendation_system_project\\lib\\site-packages (from gitdb<5,>=4.0.1->gitpython!=3.1.19,<4,>=3.0.7->streamlit) (4.0.0)\n",
      "Requirement already satisfied: filelock in e:\\anaconda3\\envs\\movie_recommendation_system_project\\lib\\site-packages (from huggingface-hub<1.0,>=0.16.4->tokenizers<1,>=0.15->cohere) (3.15.4)\n",
      "Requirement already satisfied: fsspec>=2023.5.0 in e:\\anaconda3\\envs\\movie_recommendation_system_project\\lib\\site-packages (from huggingface-hub<1.0,>=0.16.4->tokenizers<1,>=0.15->cohere) (2024.6.1)\n",
      "Requirement already satisfied: pyyaml>=5.1 in e:\\anaconda3\\envs\\movie_recommendation_system_project\\lib\\site-packages (from huggingface-hub<1.0,>=0.16.4->tokenizers<1,>=0.15->cohere) (6.0.1)\n",
      "Requirement already satisfied: tqdm>=4.42.1 in e:\\anaconda3\\envs\\movie_recommendation_system_project\\lib\\site-packages (from huggingface-hub<1.0,>=0.16.4->tokenizers<1,>=0.15->cohere) (4.66.4)\n",
      "Requirement already satisfied: MarkupSafe>=2.0 in e:\\anaconda3\\envs\\movie_recommendation_system_project\\lib\\site-packages (from jinja2->altair<6,>=4.0->streamlit) (2.1.3)\n",
      "Requirement already satisfied: attrs>=22.2.0 in e:\\anaconda3\\envs\\movie_recommendation_system_project\\lib\\site-packages (from jsonschema>=3.0->altair<6,>=4.0->streamlit) (23.1.0)\n",
      "Requirement already satisfied: importlib-resources>=1.4.0 in e:\\anaconda3\\envs\\movie_recommendation_system_project\\lib\\site-packages (from jsonschema>=3.0->altair<6,>=4.0->streamlit) (6.4.0)\n",
      "Requirement already satisfied: jsonschema-specifications>=2023.03.6 in e:\\anaconda3\\envs\\movie_recommendation_system_project\\lib\\site-packages (from jsonschema>=3.0->altair<6,>=4.0->streamlit) (2023.7.1)\n",
      "Requirement already satisfied: pkgutil-resolve-name>=1.3.10 in e:\\anaconda3\\envs\\movie_recommendation_system_project\\lib\\site-packages (from jsonschema>=3.0->altair<6,>=4.0->streamlit) (1.3.10)\n",
      "Requirement already satisfied: referencing>=0.28.4 in e:\\anaconda3\\envs\\movie_recommendation_system_project\\lib\\site-packages (from jsonschema>=3.0->altair<6,>=4.0->streamlit) (0.30.2)\n",
      "Requirement already satisfied: rpds-py>=0.7.1 in e:\\anaconda3\\envs\\movie_recommendation_system_project\\lib\\site-packages (from jsonschema>=3.0->altair<6,>=4.0->streamlit) (0.10.6)\n",
      "Requirement already satisfied: mdurl~=0.1 in e:\\anaconda3\\envs\\movie_recommendation_system_project\\lib\\site-packages (from markdown-it-py>=2.2.0->rich<14,>=10.14.0->streamlit) (0.1.0)\n",
      "Requirement already satisfied: six>=1.5 in e:\\anaconda3\\envs\\movie_recommendation_system_project\\lib\\site-packages (from python-dateutil>=2.8.2->pandas<3,>=1.3.0->streamlit) (1.16.0)\n",
      "Requirement already satisfied: exceptiongroup>=1.0.2 in e:\\anaconda3\\envs\\movie_recommendation_system_project\\lib\\site-packages (from anyio->httpx>=0.21.2->cohere) (1.2.0)\n",
      "Requirement already satisfied: zipp>=3.1.0 in e:\\anaconda3\\envs\\movie_recommendation_system_project\\lib\\site-packages (from importlib-resources>=1.4.0->jsonschema>=3.0->altair<6,>=4.0->streamlit) (3.17.0)\n"
     ]
    }
   ],
   "execution_count": 15
  },
  {
   "cell_type": "code",
   "id": "bd2977f9a19b89e2",
   "metadata": {
    "collapsed": true,
    "ExecuteTime": {
     "end_time": "2024-08-02T16:44:45.745999Z",
     "start_time": "2024-08-02T16:44:45.732996Z"
    }
   },
   "source": [
    "\n",
    "import pickle\n",
    "import requests\n",
    "from urllib.parse import quote\n",
    "import cohere\n",
    "import os\n",
    "from dotenv import load_dotenv\n",
    "from deep_translator import GoogleTranslator"
   ],
   "outputs": [],
   "execution_count": 16
  },
  {
   "metadata": {
    "ExecuteTime": {
     "end_time": "2024-08-02T16:44:45.761003Z",
     "start_time": "2024-08-02T16:44:45.748999Z"
    }
   },
   "cell_type": "code",
   "source": [
    "\n",
    "# Load environment variables from .env file\n",
    "load_dotenv()\n",
    "\n",
    "# Get the API key from environment variables\n",
    "COHERE_API_KEY = os.getenv('COHERE_API_KEY')\n",
    "TMDB_API_KEY = os.getenv('TMDB_API_KEY')  # Make sure to set this in your .env file"
   ],
   "id": "c025659da3ecf09f",
   "outputs": [],
   "execution_count": 17
  },
  {
   "metadata": {
    "ExecuteTime": {
     "end_time": "2024-08-02T16:44:45.777006Z",
     "start_time": "2024-08-02T16:44:45.763002Z"
    }
   },
   "cell_type": "code",
   "source": [
    "\n",
    "folder_path = r'E:\\#CODING_Learining_PATH\\Movie_Recommendation_System_Project\\MRS\\PJ_withoutLLMS\\Data'  # Adjust the path as needed\n",
    "# Load the files from the specified folder\n",
    "try:\n",
    "    with open(os.path.join(folder_path, 'movies_list_update.pkl'), 'rb') as file:\n",
    "        movies = pickle.load(file)\n",
    "    with open(os.path.join(folder_path, 'similarity.pkl'), 'rb') as file:\n",
    "        similarity = pickle.load(file)\n",
    "\n",
    "    movies_list = movies['title'].values\n",
    "    print(\"Files loaded successfully!\")\n",
    "except FileNotFoundError as e:\n",
    "    print(f\"File not found: {e}\")\n",
    "except pickle.PickleError as e:\n",
    "    print(f\"Error loading pickle file: {e}\")\n",
    "except Exception as e:\n",
    "    print(f\"An unexpected error occurred: {e}\")"
   ],
   "id": "2c0e9fc6d4890266",
   "outputs": [
    {
     "name": "stdout",
     "output_type": "stream",
     "text": [
      "An unexpected error occurred: No module named 'numpy._core'\n"
     ]
    }
   ],
   "execution_count": 18
  },
  {
   "metadata": {
    "ExecuteTime": {
     "end_time": "2024-08-02T16:44:45.792819Z",
     "start_time": "2024-08-02T16:44:45.778007Z"
    }
   },
   "cell_type": "code",
   "source": "movies_list = movies['title'].values",
   "id": "3756916f0c11d8de",
   "outputs": [],
   "execution_count": 19
  },
  {
   "metadata": {
    "ExecuteTime": {
     "end_time": "2024-08-02T16:44:46.013884Z",
     "start_time": "2024-08-02T16:44:45.793819Z"
    }
   },
   "cell_type": "code",
   "source": [
    "\n",
    "# Load movies and similarity data\n",
    "\n",
    "# Configure Cohere API\n",
    "co = cohere.Client(COHERE_API_KEY)\n",
    "\n",
    "def fetch_movie_url(movie_title):\n",
    "    cleaned_title = movie_title.replace(' ', '-').replace('&', '').replace(':', '')\n",
    "    encoded_title = quote(cleaned_title.lower())\n",
    "    return f\"https://www.channelmyanmar.to/{encoded_title}/\""
   ],
   "id": "478361a650e6b23",
   "outputs": [],
   "execution_count": 20
  },
  {
   "metadata": {
    "ExecuteTime": {
     "end_time": "2024-08-02T16:44:46.028712Z",
     "start_time": "2024-08-02T16:44:46.014888Z"
    }
   },
   "cell_type": "code",
   "source": [
    "\n",
    "def fetch_poster(movie_id):\n",
    "    url = f\"https://api.themoviedb.org/3/movie/{movie_id}?api_key={TMDB_API_KEY}&language=en-US\"\n",
    "    response = requests.get(url).json()\n",
    "    poster_path = response.get('poster_path', '')\n",
    "    if poster_path:\n",
    "        return f\"https://image.tmdb.org/t/p/w500{poster_path}\"\n",
    "    return \"https://via.placeholder.com/500x750?text=No+Poster+Available\""
   ],
   "id": "1b183844dcd1073b",
   "outputs": [],
   "execution_count": 21
  },
  {
   "metadata": {
    "ExecuteTime": {
     "end_time": "2024-08-02T16:44:46.044715Z",
     "start_time": "2024-08-02T16:44:46.029711Z"
    }
   },
   "cell_type": "code",
   "source": [
    "\n",
    "def recommend(selected_movie_title):\n",
    "    index = movies[movies['title'] == selected_movie_title].index[0]\n",
    "    distances = sorted(list(enumerate(similarity[index])), reverse=True, key=lambda x: x[1])\n",
    "    recommend_movie = []\n",
    "    recommend_poster = []\n",
    "    movie_urls = []\n",
    "    for i in distances[0:5]:\n",
    "        movie_id = movies.iloc[i[0]].id\n",
    "        movie_title = movies.iloc[i[0]].title\n",
    "        recommend_movie.append(movie_title)\n",
    "        recommend_poster.append(fetch_poster(movie_id))\n",
    "        movie_urls.append(fetch_movie_url(movie_title))\n",
    "    return recommend_movie, recommend_poster, movie_urls"
   ],
   "id": "c16e21956cf2c06c",
   "outputs": [],
   "execution_count": 22
  },
  {
   "metadata": {
    "ExecuteTime": {
     "end_time": "2024-08-02T16:44:46.060718Z",
     "start_time": "2024-08-02T16:44:46.045714Z"
    }
   },
   "cell_type": "code",
   "source": [
    "def fetch_popular_movies():\n",
    "    url = f\"https://api.themoviedb.org/3/movie/popular?api_key={TMDB_API_KEY}&language=en-US\"\n",
    "    response = requests.get(url)\n",
    "    if response.status_code != 200:\n",
    "        st.error(f\"Failed to fetch popular movies. Status code: {response.status_code}\")\n",
    "        return []\n",
    "    data = response.json()\n",
    "    popular_movies = data.get('results', [])\n",
    "    return [(movie['title'], movie['id'], movie.get('poster_path', '')) for movie in popular_movies]"
   ],
   "id": "e709d1e008c3918d",
   "outputs": [],
   "execution_count": 23
  },
  {
   "metadata": {
    "ExecuteTime": {
     "end_time": "2024-08-02T16:44:46.263253Z",
     "start_time": "2024-08-02T16:44:46.062718Z"
    }
   },
   "cell_type": "code",
   "source": [
    "import streamlit as st\n",
    "# Streamlit UI\n",
    "st.title(\"AI Powered Movie Recommendation System\")\n",
    "\n",
    "# Inject custom CSS\n",
    "st.markdown(\n",
    "    \"\"\"\n",
    "    <style>\n",
    "    @import url('https://fonts.googleapis.com/css2?family=Roboto:wght@400;700&display=swap');\n",
    "    .poster-container {\n",
    "        display: inline-block;\n",
    "        position: relative;\n",
    "        cursor: pointer;\n",
    "        margin: 10px;\n",
    "    }\n",
    "\n",
    "    .poster-container img {\n",
    "        transition: transform 0.3s ease;\n",
    "        border-radius: 10px;\n",
    "    }\n",
    "\n",
    "    .poster-container img:hover {\n",
    "        transform: scale(1.1);\n",
    "    }\n",
    "\n",
    "    .poster-container .poster-title {\n",
    "        position: absolute;\n",
    "        font-family: 'Roboto', sans-serif;\n",
    "        bottom: 0;\n",
    "        left: 0;\n",
    "        width: 100%;\n",
    "        background: rgba(0, 0, 0, 0.6);\n",
    "        color: white;\n",
    "        text-align: center;\n",
    "        padding: 5px;\n",
    "        border-top: 0.5px solid #00f1ff;\n",
    "        border-bottom: 0.5px solid #00f1ff;\n",
    "        border-radius: 0 0 10px 10px;\n",
    "        opacity: 0;\n",
    "        transition: opacity 0.3s ease;\n",
    "    }\n",
    "\n",
    "    .poster-container:hover .poster-title {\n",
    "        opacity: 1;\n",
    "    }\n",
    "    </style>\n",
    "    \"\"\",\n",
    "    unsafe_allow_html=True\n",
    ")\n",
    "\n",
    "# Sidebar for popular movies\n",
    "st.sidebar.header('Popular Movies')\n",
    "popular_movies = fetch_popular_movies()\n",
    "if popular_movies:\n",
    "    for title, movie_id, poster_path in popular_movies:\n",
    "        poster_url = \"https://image.tmdb.org/t/p/w500/\" + poster_path if poster_path else \"https://via.placeholder.com/500x750?text=No+Poster+Available\"\n",
    "        movie_url = fetch_movie_url(title)\n",
    "        st.sidebar.markdown(\n",
    "            f'<div class=\"poster-container\">'\n",
    "            f'<a href=\"{movie_url}\" target=\"_blank\">'\n",
    "            f'<img src=\"{poster_url}\" width=\"200\" height=\"250\" />'\n",
    "            f'</a>'\n",
    "            f'<div class=\"poster-title\">{title}</div>'\n",
    "            f'</div>',\n",
    "            unsafe_allow_html=True\n",
    "        )\n",
    "else:\n",
    "    st.sidebar.write(\"No popular movies available.\")\n",
    "\n",
    "# Select movie from the database\n",
    "select_value = st.selectbox('Select Movie', movies_list)\n",
    "\n",
    "def translate_text_except_titles(text):\n",
    "    import re\n",
    "\n",
    "    # Find all titles within curly braces\n",
    "    titles = re.findall(r'\\{(.*?)\\}', text)\n",
    "\n",
    "    # Replace titles with placeholders\n",
    "    placeholder_text = re.sub(r'\\{(.*?)\\}', '{}', text)\n",
    "\n",
    "    # Translate the non-title text\n",
    "    translated_text = GoogleTranslator(source='auto', target='my').translate(placeholder_text)\n",
    "\n",
    "    # Reinsert titles into the translated text\n",
    "    for title in titles:\n",
    "        translated_text = translated_text.replace('{}', title, 1)\n",
    "\n",
    "    return translated_text\n",
    "\n",
    "def translate_to_burmese(text):\n",
    "    translator = GoogleTranslator(source='auto', target='my')\n",
    "    return translator.translate(text)\n",
    "\n",
    "# Generate prompt and get recommendation\n",
    "prompt = f\"Three Recommend similar movies with year title to '{select_value}' with very short description\"\n",
    "if st.button('Show Recommend'):\n",
    "    # Generate response from Cohere\n",
    "    response = co.generate(\n",
    "        model='command-xlarge-nightly',  # Use a valid model ID\n",
    "        prompt=prompt,\n",
    "        max_tokens=200,\n",
    "        temperature=0.9\n",
    "    )\n",
    "\n",
    "    response_text = response.generations[0].text\n",
    "\n",
    "    # Translate the text while preserving movie titles\n",
    "    translated_text = translate_text_except_titles(response_text)\n",
    "    #translated_text = translate_to_burmese(response.generations[0].text)\n",
    "    st.write(translated_text)\n",
    "    # st.write(response.generations[0].text)\n",
    "\n",
    "    # Get recommendations\n",
    "    movie_names, movie_posters, movie_urls = recommend(select_value)\n",
    "    columns = st.columns(len(movie_names))  # Dynamically create columns based on the number of movies\n",
    "\n",
    "    for i, col in enumerate(columns):\n",
    "        with col:\n",
    "            col.markdown(\n",
    "                f'''\n",
    "                <div class=\"poster-container\">\n",
    "                    <a href=\"{movie_urls[i]}\" target=\"_blank\">\n",
    "                        <img src=\"{movie_posters[i]}\" style=\"width: 200px; height: 150px;\n",
    "                        object-fit: cover;\" />\n",
    "                    </a>\n",
    "                    <div class=\"poster-title\">{movie_names[i]}</div>\n",
    "                </div>\n",
    "                ''',\n",
    "\n",
    "                unsafe_allow_html=True\n",
    "            )\n",
    "\n",
    "\n",
    "\n",
    "#f'''\n",
    "# <div style=\"text-align: center;\" class=\"poster-container\">\n",
    "#     <a href=\"{movie_urls[i]}\" target=\"_blank\">\n",
    "#         <img src=\"{movie_posters[i]}\" style=\"width: 200px; height: 250px;\n",
    "#         object-fit: cover; border-radius: 10px;\" />\n",
    "#     </a>\n",
    "#     <div>{movie_names[i]}</div>\n",
    "# </div>\n",
    "# ''',\n",
    "# unsafe_allow_html=True\n",
    "# )"
   ],
   "id": "initial_id",
   "outputs": [],
   "execution_count": 24
  },
  {
   "metadata": {
    "jupyter": {
     "is_executing": true
    },
    "ExecuteTime": {
     "start_time": "2024-08-02T16:44:46.264254Z"
    }
   },
   "cell_type": "code",
   "source": "!streamlit run ParadiseIO_Movie_Recommendation_System.py",
   "id": "cfbb3158a3665be1",
   "outputs": [],
   "execution_count": null
  },
  {
   "metadata": {
    "jupyter": {
     "is_executing": true
    }
   },
   "cell_type": "code",
   "source": "",
   "id": "4d25483dbe3de83e",
   "outputs": [],
   "execution_count": null
  }
 ],
 "metadata": {
  "kernelspec": {
   "display_name": "Python 3",
   "language": "python",
   "name": "python3"
  },
  "language_info": {
   "codemirror_mode": {
    "name": "ipython",
    "version": 2
   },
   "file_extension": ".py",
   "mimetype": "text/x-python",
   "name": "python",
   "nbconvert_exporter": "python",
   "pygments_lexer": "ipython2",
   "version": "2.7.6"
  }
 },
 "nbformat": 4,
 "nbformat_minor": 5
}
