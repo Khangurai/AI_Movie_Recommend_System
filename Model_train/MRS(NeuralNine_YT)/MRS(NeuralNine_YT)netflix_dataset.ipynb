{
 "cells": [
  {
   "metadata": {},
   "cell_type": "markdown",
   "source": "# select conda envirnment coz of FAISS library",
   "id": "1c9be17fed20c10f"
  },
  {
   "cell_type": "code",
   "id": "initial_id",
   "metadata": {
    "collapsed": true,
    "ExecuteTime": {
     "end_time": "2024-08-03T10:19:19.917721Z",
     "start_time": "2024-08-03T10:19:19.913035Z"
    }
   },
   "source": "import pandas as pd",
   "outputs": [],
   "execution_count": 5
  },
  {
   "metadata": {
    "ExecuteTime": {
     "end_time": "2024-08-03T10:19:20.338122Z",
     "start_time": "2024-08-03T10:19:20.276109Z"
    }
   },
   "cell_type": "code",
   "source": "df=pd.read_csv('netflix_titles.csv')",
   "id": "168da2c40e886ce3",
   "outputs": [],
   "execution_count": 6
  },
  {
   "metadata": {
    "ExecuteTime": {
     "end_time": "2024-08-03T10:19:20.851613Z",
     "start_time": "2024-08-03T10:19:20.818206Z"
    }
   },
   "cell_type": "code",
   "source": "df",
   "id": "43f9b715b014a107",
   "outputs": [
    {
     "data": {
      "text/plain": [
       "     show_id     type                  title         director  \\\n",
       "0         s1    Movie   Dick Johnson Is Dead  Kirsten Johnson   \n",
       "1         s2  TV Show          Blood & Water              NaN   \n",
       "2         s3  TV Show              Ganglands  Julien Leclercq   \n",
       "3         s4  TV Show  Jailbirds New Orleans              NaN   \n",
       "4         s5  TV Show           Kota Factory              NaN   \n",
       "...      ...      ...                    ...              ...   \n",
       "8802   s8803    Movie                 Zodiac    David Fincher   \n",
       "8803   s8804  TV Show            Zombie Dumb              NaN   \n",
       "8804   s8805    Movie             Zombieland  Ruben Fleischer   \n",
       "8805   s8806    Movie                   Zoom     Peter Hewitt   \n",
       "8806   s8807    Movie                 Zubaan      Mozez Singh   \n",
       "\n",
       "                                                   cast        country  \\\n",
       "0                                                   NaN  United States   \n",
       "1     Ama Qamata, Khosi Ngema, Gail Mabalane, Thaban...   South Africa   \n",
       "2     Sami Bouajila, Tracy Gotoas, Samuel Jouy, Nabi...            NaN   \n",
       "3                                                   NaN            NaN   \n",
       "4     Mayur More, Jitendra Kumar, Ranjan Raj, Alam K...          India   \n",
       "...                                                 ...            ...   \n",
       "8802  Mark Ruffalo, Jake Gyllenhaal, Robert Downey J...  United States   \n",
       "8803                                                NaN            NaN   \n",
       "8804  Jesse Eisenberg, Woody Harrelson, Emma Stone, ...  United States   \n",
       "8805  Tim Allen, Courteney Cox, Chevy Chase, Kate Ma...  United States   \n",
       "8806  Vicky Kaushal, Sarah-Jane Dias, Raaghav Chanan...          India   \n",
       "\n",
       "              date_added  release_year rating   duration  \\\n",
       "0     September 25, 2021          2020  PG-13     90 min   \n",
       "1     September 24, 2021          2021  TV-MA  2 Seasons   \n",
       "2     September 24, 2021          2021  TV-MA   1 Season   \n",
       "3     September 24, 2021          2021  TV-MA   1 Season   \n",
       "4     September 24, 2021          2021  TV-MA  2 Seasons   \n",
       "...                  ...           ...    ...        ...   \n",
       "8802   November 20, 2019          2007      R    158 min   \n",
       "8803        July 1, 2019          2018  TV-Y7  2 Seasons   \n",
       "8804    November 1, 2019          2009      R     88 min   \n",
       "8805    January 11, 2020          2006     PG     88 min   \n",
       "8806       March 2, 2019          2015  TV-14    111 min   \n",
       "\n",
       "                                              listed_in  \\\n",
       "0                                         Documentaries   \n",
       "1       International TV Shows, TV Dramas, TV Mysteries   \n",
       "2     Crime TV Shows, International TV Shows, TV Act...   \n",
       "3                                Docuseries, Reality TV   \n",
       "4     International TV Shows, Romantic TV Shows, TV ...   \n",
       "...                                                 ...   \n",
       "8802                     Cult Movies, Dramas, Thrillers   \n",
       "8803             Kids' TV, Korean TV Shows, TV Comedies   \n",
       "8804                            Comedies, Horror Movies   \n",
       "8805                 Children & Family Movies, Comedies   \n",
       "8806     Dramas, International Movies, Music & Musicals   \n",
       "\n",
       "                                            description  \n",
       "0     As her father nears the end of his life, filmm...  \n",
       "1     After crossing paths at a party, a Cape Town t...  \n",
       "2     To protect his family from a powerful drug lor...  \n",
       "3     Feuds, flirtations and toilet talk go down amo...  \n",
       "4     In a city of coaching centers known to train I...  \n",
       "...                                                 ...  \n",
       "8802  A political cartoonist, a crime reporter and a...  \n",
       "8803  While living alone in a spooky town, a young g...  \n",
       "8804  Looking to survive in a world taken over by zo...  \n",
       "8805  Dragged from civilian life, a former superhero...  \n",
       "8806  A scrappy but poor boy worms his way into a ty...  \n",
       "\n",
       "[8807 rows x 12 columns]"
      ],
      "text/html": [
       "<div>\n",
       "<style scoped>\n",
       "    .dataframe tbody tr th:only-of-type {\n",
       "        vertical-align: middle;\n",
       "    }\n",
       "\n",
       "    .dataframe tbody tr th {\n",
       "        vertical-align: top;\n",
       "    }\n",
       "\n",
       "    .dataframe thead th {\n",
       "        text-align: right;\n",
       "    }\n",
       "</style>\n",
       "<table border=\"1\" class=\"dataframe\">\n",
       "  <thead>\n",
       "    <tr style=\"text-align: right;\">\n",
       "      <th></th>\n",
       "      <th>show_id</th>\n",
       "      <th>type</th>\n",
       "      <th>title</th>\n",
       "      <th>director</th>\n",
       "      <th>cast</th>\n",
       "      <th>country</th>\n",
       "      <th>date_added</th>\n",
       "      <th>release_year</th>\n",
       "      <th>rating</th>\n",
       "      <th>duration</th>\n",
       "      <th>listed_in</th>\n",
       "      <th>description</th>\n",
       "    </tr>\n",
       "  </thead>\n",
       "  <tbody>\n",
       "    <tr>\n",
       "      <th>0</th>\n",
       "      <td>s1</td>\n",
       "      <td>Movie</td>\n",
       "      <td>Dick Johnson Is Dead</td>\n",
       "      <td>Kirsten Johnson</td>\n",
       "      <td>NaN</td>\n",
       "      <td>United States</td>\n",
       "      <td>September 25, 2021</td>\n",
       "      <td>2020</td>\n",
       "      <td>PG-13</td>\n",
       "      <td>90 min</td>\n",
       "      <td>Documentaries</td>\n",
       "      <td>As her father nears the end of his life, filmm...</td>\n",
       "    </tr>\n",
       "    <tr>\n",
       "      <th>1</th>\n",
       "      <td>s2</td>\n",
       "      <td>TV Show</td>\n",
       "      <td>Blood &amp; Water</td>\n",
       "      <td>NaN</td>\n",
       "      <td>Ama Qamata, Khosi Ngema, Gail Mabalane, Thaban...</td>\n",
       "      <td>South Africa</td>\n",
       "      <td>September 24, 2021</td>\n",
       "      <td>2021</td>\n",
       "      <td>TV-MA</td>\n",
       "      <td>2 Seasons</td>\n",
       "      <td>International TV Shows, TV Dramas, TV Mysteries</td>\n",
       "      <td>After crossing paths at a party, a Cape Town t...</td>\n",
       "    </tr>\n",
       "    <tr>\n",
       "      <th>2</th>\n",
       "      <td>s3</td>\n",
       "      <td>TV Show</td>\n",
       "      <td>Ganglands</td>\n",
       "      <td>Julien Leclercq</td>\n",
       "      <td>Sami Bouajila, Tracy Gotoas, Samuel Jouy, Nabi...</td>\n",
       "      <td>NaN</td>\n",
       "      <td>September 24, 2021</td>\n",
       "      <td>2021</td>\n",
       "      <td>TV-MA</td>\n",
       "      <td>1 Season</td>\n",
       "      <td>Crime TV Shows, International TV Shows, TV Act...</td>\n",
       "      <td>To protect his family from a powerful drug lor...</td>\n",
       "    </tr>\n",
       "    <tr>\n",
       "      <th>3</th>\n",
       "      <td>s4</td>\n",
       "      <td>TV Show</td>\n",
       "      <td>Jailbirds New Orleans</td>\n",
       "      <td>NaN</td>\n",
       "      <td>NaN</td>\n",
       "      <td>NaN</td>\n",
       "      <td>September 24, 2021</td>\n",
       "      <td>2021</td>\n",
       "      <td>TV-MA</td>\n",
       "      <td>1 Season</td>\n",
       "      <td>Docuseries, Reality TV</td>\n",
       "      <td>Feuds, flirtations and toilet talk go down amo...</td>\n",
       "    </tr>\n",
       "    <tr>\n",
       "      <th>4</th>\n",
       "      <td>s5</td>\n",
       "      <td>TV Show</td>\n",
       "      <td>Kota Factory</td>\n",
       "      <td>NaN</td>\n",
       "      <td>Mayur More, Jitendra Kumar, Ranjan Raj, Alam K...</td>\n",
       "      <td>India</td>\n",
       "      <td>September 24, 2021</td>\n",
       "      <td>2021</td>\n",
       "      <td>TV-MA</td>\n",
       "      <td>2 Seasons</td>\n",
       "      <td>International TV Shows, Romantic TV Shows, TV ...</td>\n",
       "      <td>In a city of coaching centers known to train I...</td>\n",
       "    </tr>\n",
       "    <tr>\n",
       "      <th>...</th>\n",
       "      <td>...</td>\n",
       "      <td>...</td>\n",
       "      <td>...</td>\n",
       "      <td>...</td>\n",
       "      <td>...</td>\n",
       "      <td>...</td>\n",
       "      <td>...</td>\n",
       "      <td>...</td>\n",
       "      <td>...</td>\n",
       "      <td>...</td>\n",
       "      <td>...</td>\n",
       "      <td>...</td>\n",
       "    </tr>\n",
       "    <tr>\n",
       "      <th>8802</th>\n",
       "      <td>s8803</td>\n",
       "      <td>Movie</td>\n",
       "      <td>Zodiac</td>\n",
       "      <td>David Fincher</td>\n",
       "      <td>Mark Ruffalo, Jake Gyllenhaal, Robert Downey J...</td>\n",
       "      <td>United States</td>\n",
       "      <td>November 20, 2019</td>\n",
       "      <td>2007</td>\n",
       "      <td>R</td>\n",
       "      <td>158 min</td>\n",
       "      <td>Cult Movies, Dramas, Thrillers</td>\n",
       "      <td>A political cartoonist, a crime reporter and a...</td>\n",
       "    </tr>\n",
       "    <tr>\n",
       "      <th>8803</th>\n",
       "      <td>s8804</td>\n",
       "      <td>TV Show</td>\n",
       "      <td>Zombie Dumb</td>\n",
       "      <td>NaN</td>\n",
       "      <td>NaN</td>\n",
       "      <td>NaN</td>\n",
       "      <td>July 1, 2019</td>\n",
       "      <td>2018</td>\n",
       "      <td>TV-Y7</td>\n",
       "      <td>2 Seasons</td>\n",
       "      <td>Kids' TV, Korean TV Shows, TV Comedies</td>\n",
       "      <td>While living alone in a spooky town, a young g...</td>\n",
       "    </tr>\n",
       "    <tr>\n",
       "      <th>8804</th>\n",
       "      <td>s8805</td>\n",
       "      <td>Movie</td>\n",
       "      <td>Zombieland</td>\n",
       "      <td>Ruben Fleischer</td>\n",
       "      <td>Jesse Eisenberg, Woody Harrelson, Emma Stone, ...</td>\n",
       "      <td>United States</td>\n",
       "      <td>November 1, 2019</td>\n",
       "      <td>2009</td>\n",
       "      <td>R</td>\n",
       "      <td>88 min</td>\n",
       "      <td>Comedies, Horror Movies</td>\n",
       "      <td>Looking to survive in a world taken over by zo...</td>\n",
       "    </tr>\n",
       "    <tr>\n",
       "      <th>8805</th>\n",
       "      <td>s8806</td>\n",
       "      <td>Movie</td>\n",
       "      <td>Zoom</td>\n",
       "      <td>Peter Hewitt</td>\n",
       "      <td>Tim Allen, Courteney Cox, Chevy Chase, Kate Ma...</td>\n",
       "      <td>United States</td>\n",
       "      <td>January 11, 2020</td>\n",
       "      <td>2006</td>\n",
       "      <td>PG</td>\n",
       "      <td>88 min</td>\n",
       "      <td>Children &amp; Family Movies, Comedies</td>\n",
       "      <td>Dragged from civilian life, a former superhero...</td>\n",
       "    </tr>\n",
       "    <tr>\n",
       "      <th>8806</th>\n",
       "      <td>s8807</td>\n",
       "      <td>Movie</td>\n",
       "      <td>Zubaan</td>\n",
       "      <td>Mozez Singh</td>\n",
       "      <td>Vicky Kaushal, Sarah-Jane Dias, Raaghav Chanan...</td>\n",
       "      <td>India</td>\n",
       "      <td>March 2, 2019</td>\n",
       "      <td>2015</td>\n",
       "      <td>TV-14</td>\n",
       "      <td>111 min</td>\n",
       "      <td>Dramas, International Movies, Music &amp; Musicals</td>\n",
       "      <td>A scrappy but poor boy worms his way into a ty...</td>\n",
       "    </tr>\n",
       "  </tbody>\n",
       "</table>\n",
       "<p>8807 rows × 12 columns</p>\n",
       "</div>"
      ]
     },
     "execution_count": 7,
     "metadata": {},
     "output_type": "execute_result"
    }
   ],
   "execution_count": 7
  },
  {
   "metadata": {
    "ExecuteTime": {
     "end_time": "2024-08-03T10:19:21.992665Z",
     "start_time": "2024-08-03T10:19:21.980988Z"
    }
   },
   "cell_type": "code",
   "source": [
    "def create_textual_representation(row):\n",
    "    textual_representation=f\"\"\"\n",
    "Title: {row['title']},\n",
    "Year: {row['release_year']},\n",
    "Genre: {row['listed_in']},\n",
    "\n",
    "Description: {row['description']},\"\"\"\n",
    "    return textual_representation"
   ],
   "id": "4fb2d312de29b89c",
   "outputs": [],
   "execution_count": 8
  },
  {
   "metadata": {
    "ExecuteTime": {
     "end_time": "2024-08-03T10:19:23.404493Z",
     "start_time": "2024-08-03T10:19:23.262103Z"
    }
   },
   "cell_type": "code",
   "source": [
    "df_copy = df.copy()\n",
    "df_copy['textual_representation'] = df_copy.apply(create_textual_representation, axis=1)"
   ],
   "id": "62628e77acd1ba6e",
   "outputs": [],
   "execution_count": 9
  },
  {
   "metadata": {
    "ExecuteTime": {
     "end_time": "2024-08-03T10:19:31.152877Z",
     "start_time": "2024-08-03T10:19:31.141360Z"
    }
   },
   "cell_type": "code",
   "source": "print(df_copy['textual_representation'].values[0])",
   "id": "5c2c3d44699d1c73",
   "outputs": [
    {
     "name": "stdout",
     "output_type": "stream",
     "text": [
      "\n",
      "Title: Dick Johnson Is Dead,\n",
      "Year: 2020,\n",
      "Genre: Documentaries,\n",
      "\n",
      "Description: As her father nears the end of his life, filmmaker Kirsten Johnson stages his death in inventive and comical ways to help them both face the inevitable.,\n"
     ]
    }
   ],
   "execution_count": 10
  },
  {
   "metadata": {
    "ExecuteTime": {
     "end_time": "2024-08-03T10:20:03.081748Z",
     "start_time": "2024-08-03T10:20:02.660873Z"
    }
   },
   "cell_type": "code",
   "source": [
    "import faiss\n",
    "print(faiss.__version__)\n",
    "import requests\n",
    "import numpy as np"
   ],
   "id": "a86a14c46ecd50e3",
   "outputs": [
    {
     "name": "stdout",
     "output_type": "stream",
     "text": [
      "1.7.4\n"
     ]
    }
   ],
   "execution_count": 11
  },
  {
   "metadata": {
    "ExecuteTime": {
     "end_time": "2024-08-03T10:20:26.953424Z",
     "start_time": "2024-08-03T10:20:26.934394Z"
    }
   },
   "cell_type": "code",
   "source": [
    "dim = 4096\n",
    "\n",
    "index = faiss.IndexFlatL2(dim)\n",
    "\n",
    "x = np.zeros((len(df_copy['textual_representation']), dim), dtype = 'float32')"
   ],
   "id": "369e82f17af14dc4",
   "outputs": [],
   "execution_count": 12
  },
  {
   "metadata": {
    "ExecuteTime": {
     "end_time": "2024-08-03T10:20:34.649699Z",
     "start_time": "2024-08-03T10:20:34.642600Z"
    }
   },
   "cell_type": "code",
   "source": "# x",
   "id": "49da000bab6d3ba8",
   "outputs": [
    {
     "data": {
      "text/plain": [
       "array([[0., 0., 0., ..., 0., 0., 0.],\n",
       "       [0., 0., 0., ..., 0., 0., 0.],\n",
       "       [0., 0., 0., ..., 0., 0., 0.],\n",
       "       ...,\n",
       "       [0., 0., 0., ..., 0., 0., 0.],\n",
       "       [0., 0., 0., ..., 0., 0., 0.],\n",
       "       [0., 0., 0., ..., 0., 0., 0.]], dtype=float32)"
      ]
     },
     "execution_count": 13,
     "metadata": {},
     "output_type": "execute_result"
    }
   ],
   "execution_count": 13
  },
  {
   "metadata": {
    "ExecuteTime": {
     "end_time": "2024-08-03T10:25:26.561756Z",
     "start_time": "2024-08-03T10:23:02.284545Z"
    }
   },
   "cell_type": "code",
   "source": [
    "for i, representation in enumerate(df_copy['textual_representation']):\n",
    "    if i % 200 == 0:\n",
    "        print(\"Processing textual representation\", i)\n",
    "        \n",
    "        res = requests.post('http://localhost:11434/api/embeddings', \n",
    "                            json={'model': 'llama2',\n",
    "                            'prompt': representation,\n",
    "                                }\n",
    "                            )\n",
    "        embedding = res.json()['embedding']\n",
    "        \n",
    "        x[i] = np.array(embedding)\n",
    "        \n",
    "index.add(x)"
   ],
   "id": "9760cbd31b1abc5b",
   "outputs": [
    {
     "name": "stdout",
     "output_type": "stream",
     "text": [
      "Processing textual representation 0\n",
      "Processing textual representation 200\n",
      "Processing textual representation 400\n",
      "Processing textual representation 600\n",
      "Processing textual representation 800\n",
      "Processing textual representation 1000\n",
      "Processing textual representation 1200\n",
      "Processing textual representation 1400\n",
      "Processing textual representation 1600\n",
      "Processing textual representation 1800\n",
      "Processing textual representation 2000\n",
      "Processing textual representation 2200\n",
      "Processing textual representation 2400\n",
      "Processing textual representation 2600\n",
      "Processing textual representation 2800\n",
      "Processing textual representation 3000\n",
      "Processing textual representation 3200\n",
      "Processing textual representation 3400\n",
      "Processing textual representation 3600\n",
      "Processing textual representation 3800\n",
      "Processing textual representation 4000\n",
      "Processing textual representation 4200\n",
      "Processing textual representation 4400\n",
      "Processing textual representation 4600\n",
      "Processing textual representation 4800\n",
      "Processing textual representation 5000\n",
      "Processing textual representation 5200\n",
      "Processing textual representation 5400\n",
      "Processing textual representation 5600\n",
      "Processing textual representation 5800\n",
      "Processing textual representation 6000\n",
      "Processing textual representation 6200\n",
      "Processing textual representation 6400\n",
      "Processing textual representation 6600\n",
      "Processing textual representation 6800\n",
      "Processing textual representation 7000\n",
      "Processing textual representation 7200\n",
      "Processing textual representation 7400\n",
      "Processing textual representation 7600\n",
      "Processing textual representation 7800\n",
      "Processing textual representation 8000\n",
      "Processing textual representation 8200\n",
      "Processing textual representation 8400\n",
      "Processing textual representation 8600\n",
      "Processing textual representation 8800\n"
     ]
    }
   ],
   "execution_count": 14
  },
  {
   "metadata": {
    "ExecuteTime": {
     "end_time": "2024-08-03T10:25:43.948640Z",
     "start_time": "2024-08-03T10:25:43.605340Z"
    }
   },
   "cell_type": "code",
   "source": "faiss.write_index(index, 'index')",
   "id": "c20420814099cefb",
   "outputs": [],
   "execution_count": 15
  },
  {
   "metadata": {
    "ExecuteTime": {
     "end_time": "2024-08-03T10:26:31.716583Z",
     "start_time": "2024-08-03T10:26:31.405725Z"
    }
   },
   "cell_type": "code",
   "source": "index = faiss.read_index('index')",
   "id": "7cf926e4a7a98dae",
   "outputs": [],
   "execution_count": 16
  },
  {
   "metadata": {
    "ExecuteTime": {
     "end_time": "2024-08-03T10:32:39.757906Z",
     "start_time": "2024-08-03T10:32:39.738576Z"
    }
   },
   "cell_type": "code",
   "source": "df_copy[df_copy.title.str.contains('Train to Busan')]",
   "id": "4e67c5968f097b0f",
   "outputs": [
    {
     "data": {
      "text/plain": [
       "     show_id   type           title      director  \\\n",
       "8613   s8614  Movie  Train to Busan  Sang-ho Yeon   \n",
       "\n",
       "                                                                                    cast  \\\n",
       "8613  Gong Yoo, Yu-mi Jung, Dong-seok Ma, Soo-an Kim, Woo Shik Choi, Sohee, Eui-sung Kim   \n",
       "\n",
       "          country      date_added  release_year rating duration  \\\n",
       "8613  South Korea  March 18, 2017          2016  TV-MA  118 min   \n",
       "\n",
       "                                                    listed_in  \\\n",
       "8613  Action & Adventure, Horror Movies, International Movies   \n",
       "\n",
       "                                                                                                                                                 description  \\\n",
       "8613  As a zombie outbreak sweeps the country, a dad and his daughter take a harrowing train journey in an attempt to reach the only city that's still safe.   \n",
       "\n",
       "                                                                                                                                                                                                                                                              textual_representation  \n",
       "8613  \\nTitle: Train to Busan,\\nYear: 2016,\\nGenre: Action & Adventure, Horror Movies, International Movies,\\n\\nDescription: As a zombie outbreak sweeps the country, a dad and his daughter take a harrowing train journey in an attempt to reach the only city that's still safe.,  "
      ],
      "text/html": [
       "<div>\n",
       "<style scoped>\n",
       "    .dataframe tbody tr th:only-of-type {\n",
       "        vertical-align: middle;\n",
       "    }\n",
       "\n",
       "    .dataframe tbody tr th {\n",
       "        vertical-align: top;\n",
       "    }\n",
       "\n",
       "    .dataframe thead th {\n",
       "        text-align: right;\n",
       "    }\n",
       "</style>\n",
       "<table border=\"1\" class=\"dataframe\">\n",
       "  <thead>\n",
       "    <tr style=\"text-align: right;\">\n",
       "      <th></th>\n",
       "      <th>show_id</th>\n",
       "      <th>type</th>\n",
       "      <th>title</th>\n",
       "      <th>director</th>\n",
       "      <th>cast</th>\n",
       "      <th>country</th>\n",
       "      <th>date_added</th>\n",
       "      <th>release_year</th>\n",
       "      <th>rating</th>\n",
       "      <th>duration</th>\n",
       "      <th>listed_in</th>\n",
       "      <th>description</th>\n",
       "      <th>textual_representation</th>\n",
       "    </tr>\n",
       "  </thead>\n",
       "  <tbody>\n",
       "    <tr>\n",
       "      <th>8613</th>\n",
       "      <td>s8614</td>\n",
       "      <td>Movie</td>\n",
       "      <td>Train to Busan</td>\n",
       "      <td>Sang-ho Yeon</td>\n",
       "      <td>Gong Yoo, Yu-mi Jung, Dong-seok Ma, Soo-an Kim, Woo Shik Choi, Sohee, Eui-sung Kim</td>\n",
       "      <td>South Korea</td>\n",
       "      <td>March 18, 2017</td>\n",
       "      <td>2016</td>\n",
       "      <td>TV-MA</td>\n",
       "      <td>118 min</td>\n",
       "      <td>Action &amp; Adventure, Horror Movies, International Movies</td>\n",
       "      <td>As a zombie outbreak sweeps the country, a dad and his daughter take a harrowing train journey in an attempt to reach the only city that's still safe.</td>\n",
       "      <td>\\nTitle: Train to Busan,\\nYear: 2016,\\nGenre: Action &amp; Adventure, Horror Movies, International Movies,\\n\\nDescription: As a zombie outbreak sweeps the country, a dad and his daughter take a harrowing train journey in an attempt to reach the only city that's still safe.,</td>\n",
       "    </tr>\n",
       "  </tbody>\n",
       "</table>\n",
       "</div>"
      ]
     },
     "execution_count": 24,
     "metadata": {},
     "output_type": "execute_result"
    }
   ],
   "execution_count": 24
  },
  {
   "metadata": {
    "ExecuteTime": {
     "end_time": "2024-08-03T10:32:44.461516Z",
     "start_time": "2024-08-03T10:32:44.449739Z"
    }
   },
   "cell_type": "code",
   "source": "favorite_movie = df_copy.iloc[8613]",
   "id": "ae8ee4e3de9ec5bd",
   "outputs": [],
   "execution_count": 25
  },
  {
   "metadata": {
    "ExecuteTime": {
     "end_time": "2024-08-03T10:32:45.876128Z",
     "start_time": "2024-08-03T10:32:45.863127Z"
    }
   },
   "cell_type": "code",
   "source": "favorite_movie",
   "id": "3c48f54c7f05a941",
   "outputs": [
    {
     "data": {
      "text/plain": [
       "show_id                                                                                                                                                                                                                                                                                            s8614\n",
       "type                                                                                                                                                                                                                                                                                               Movie\n",
       "title                                                                                                                                                                                                                                                                                     Train to Busan\n",
       "director                                                                                                                                                                                                                                                                                    Sang-ho Yeon\n",
       "cast                                                                                                                                                                                                                  Gong Yoo, Yu-mi Jung, Dong-seok Ma, Soo-an Kim, Woo Shik Choi, Sohee, Eui-sung Kim\n",
       "country                                                                                                                                                                                                                                                                                      South Korea\n",
       "date_added                                                                                                                                                                                                                                                                                March 18, 2017\n",
       "release_year                                                                                                                                                                                                                                                                                        2016\n",
       "rating                                                                                                                                                                                                                                                                                             TV-MA\n",
       "duration                                                                                                                                                                                                                                                                                         118 min\n",
       "listed_in                                                                                                                                                                                                                                        Action & Adventure, Horror Movies, International Movies\n",
       "description                                                                                                                                       As a zombie outbreak sweeps the country, a dad and his daughter take a harrowing train journey in an attempt to reach the only city that's still safe.\n",
       "textual_representation    \\nTitle: Train to Busan,\\nYear: 2016,\\nGenre: Action & Adventure, Horror Movies, International Movies,\\n\\nDescription: As a zombie outbreak sweeps the country, a dad and his daughter take a harrowing train journey in an attempt to reach the only city that's still safe.,\n",
       "Name: 8613, dtype: object"
      ]
     },
     "execution_count": 26,
     "metadata": {},
     "output_type": "execute_result"
    }
   ],
   "execution_count": 26
  },
  {
   "metadata": {
    "ExecuteTime": {
     "end_time": "2024-08-03T11:02:00.281143Z",
     "start_time": "2024-08-03T11:02:00.262136Z"
    }
   },
   "cell_type": "code",
   "source": [
    "recommend_movie = \"\"\"\n",
    "Title: devils,\n",
    "Year: 2024,\n",
    "Genre: \n",
    "\n",
    "Description: The Plot is a  South Korean crime thriller film directed by Lee Yo-sup, starring Gang Dong-won. An adaptation of the Hong Kong film, Accident, it tells the story of Yeong-il, a designer who orchestrates a commissioned murder as a perfect accidental death, and gets caught up in an unexpected incident\n",
    "\"\"\""
   ],
   "id": "50669e6c97fa9159",
   "outputs": [],
   "execution_count": 55
  },
  {
   "metadata": {
    "ExecuteTime": {
     "end_time": "2024-08-03T11:02:04.227571Z",
     "start_time": "2024-08-03T11:02:00.784886Z"
    }
   },
   "cell_type": "code",
   "source": [
    "res = requests.post('http://localhost:11434/api/embeddings', \n",
    "                            json={'model': 'llama2',\n",
    "                            'prompt': recommend_movie\n",
    "                                })"
   ],
   "id": "1c311c7cdf41ea8",
   "outputs": [],
   "execution_count": 56
  },
  {
   "metadata": {
    "ExecuteTime": {
     "end_time": "2024-08-03T11:02:04.257847Z",
     "start_time": "2024-08-03T11:02:04.229571Z"
    }
   },
   "cell_type": "code",
   "source": [
    "embedding = np.array([res.json()['embedding']], dtype = 'float32')\n",
    "\n",
    "D ,I = index.search(embedding, 5)"
   ],
   "id": "d3f4850f91c2d05c",
   "outputs": [],
   "execution_count": 57
  },
  {
   "metadata": {
    "ExecuteTime": {
     "end_time": "2024-08-03T11:02:04.272852Z",
     "start_time": "2024-08-03T11:02:04.258849Z"
    }
   },
   "cell_type": "code",
   "source": "# I",
   "id": "b448b547f79b4f2b",
   "outputs": [],
   "execution_count": 58
  },
  {
   "metadata": {
    "ExecuteTime": {
     "end_time": "2024-08-03T11:02:04.288854Z",
     "start_time": "2024-08-03T11:02:04.274852Z"
    }
   },
   "cell_type": "code",
   "source": "best_matches = np.array(df_copy['textual_representation'])[I.flatten()]",
   "id": "2603a7091cb254f",
   "outputs": [],
   "execution_count": 59
  },
  {
   "metadata": {
    "ExecuteTime": {
     "end_time": "2024-08-03T11:02:04.303859Z",
     "start_time": "2024-08-03T11:02:04.290856Z"
    }
   },
   "cell_type": "code",
   "source": [
    "for match in best_matches:\n",
    "    print('Next Movie')\n",
    "    print(match)\n",
    "    print()"
   ],
   "id": "d49952fd4037cdde",
   "outputs": [
    {
     "name": "stdout",
     "output_type": "stream",
     "text": [
      "Next Movie\n",
      "\n",
      "Title: The Long Goodbye: The Kara Tippetts Story,\n",
      "Year: 2019,\n",
      "Genre: Documentaries, Faith & Spirituality,\n",
      "\n",
      "Description: Faced with terminal breast cancer, a courageous wife and mother turns her suffering into a resilient message of faith, love and compassion.,\n",
      "\n",
      "Next Movie\n",
      "\n",
      "Title: Devil's Gate,\n",
      "Year: 2017,\n",
      "Genre: Horror Movies, Sci-Fi & Fantasy, Thrillers,\n",
      "\n",
      "Description: Seeking a missing woman in North Dakota, an FBI agent and a sheriff focus on her religious zealot husband but discover something far more sinister.,\n",
      "\n",
      "Next Movie\n",
      "\n",
      "Title: Tobot,\n",
      "Year: 2018,\n",
      "Genre: Kids' TV, Korean TV Shows,\n",
      "\n",
      "Description: They’re robots that can transform into cars – and the Tobots are committed to fighting villains to protect the city and root out crime.,\n",
      "\n",
      "Next Movie\n",
      "\n",
      "Title: The Game,\n",
      "Year: 1997,\n",
      "Genre: Thrillers,\n",
      "\n",
      "Description: An aloof investment banker's life spirals into peril and paranoia after his brother gives him an odd birthday gift: the chance to play a mysterious game.,\n",
      "\n",
      "Next Movie\n",
      "\n",
      "Title: Kulipari: An Army of Frogs,\n",
      "Year: 2016,\n",
      "Genre: Kids' TV,\n",
      "\n",
      "Description: In a tale of bravery and heroism, fearless frogs go to war against the sinister scorpions and spiders that have teamed up to conquer the amphibians.,\n",
      "\n"
     ]
    }
   ],
   "execution_count": 60
  },
  {
   "metadata": {},
   "cell_type": "code",
   "outputs": [],
   "execution_count": null,
   "source": "",
   "id": "4f85377ca23992a1"
  }
 ],
 "metadata": {
  "kernelspec": {
   "display_name": "Python 3",
   "language": "python",
   "name": "python3"
  },
  "language_info": {
   "codemirror_mode": {
    "name": "ipython",
    "version": 2
   },
   "file_extension": ".py",
   "mimetype": "text/x-python",
   "name": "python",
   "nbconvert_exporter": "python",
   "pygments_lexer": "ipython2",
   "version": "2.7.6"
  }
 },
 "nbformat": 4,
 "nbformat_minor": 5
}
