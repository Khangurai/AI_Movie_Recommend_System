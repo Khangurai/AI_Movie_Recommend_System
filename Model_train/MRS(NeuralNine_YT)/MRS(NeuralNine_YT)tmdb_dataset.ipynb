{
 "cells": [
  {
   "metadata": {},
   "cell_type": "markdown",
   "source": "# select conda envirnment coz of FAISS library",
   "id": "1c9be17fed20c10f"
  },
  {
   "cell_type": "code",
   "id": "initial_id",
   "metadata": {
    "collapsed": true,
    "ExecuteTime": {
     "end_time": "2024-08-02T18:30:23.627338Z",
     "start_time": "2024-08-02T18:30:22.597890Z"
    }
   },
   "source": "import pandas as pd",
   "outputs": [],
   "execution_count": 1
  },
  {
   "metadata": {
    "ExecuteTime": {
     "end_time": "2024-08-02T18:30:23.705357Z",
     "start_time": "2024-08-02T18:30:23.630843Z"
    }
   },
   "cell_type": "code",
   "source": "df=pd.read_csv('datasetUpdate.csv')",
   "id": "168da2c40e886ce3",
   "outputs": [],
   "execution_count": 2
  },
  {
   "metadata": {
    "ExecuteTime": {
     "end_time": "2024-08-02T18:30:23.736354Z",
     "start_time": "2024-08-02T18:30:23.707358Z"
    }
   },
   "cell_type": "code",
   "source": "df",
   "id": "43f9b715b014a107",
   "outputs": [
    {
     "data": {
      "text/plain": [
       "          id                     title                             genre  \\\n",
       "0      27205                 Inception  Action,Science Fiction,Adventure   \n",
       "1     157336              Interstellar   Adventure,Drama,Science Fiction   \n",
       "2        155           The Dark Knight       Drama,Action,Crime,Thriller   \n",
       "3      24428              The Avengers  Science Fiction,Action,Adventure   \n",
       "4     293660                  Deadpool           Action,Adventure,Comedy   \n",
       "...      ...                       ...                               ...   \n",
       "9995   28569     Splendor in the Grass                     Drama,Romance   \n",
       "9996    4952               Pillow Talk                    Comedy,Romance   \n",
       "9997   15515  The 7th Voyage of Sinbad   Action,Adventure,Family,Fantasy   \n",
       "9998    9077                 Tarantula   Horror,Science Fiction,Thriller   \n",
       "9999   12232       The Thief of Bagdad   Action,Adventure,Family,Fantasy   \n",
       "\n",
       "     original_language                                           overview  \\\n",
       "0                   en  Cobb, a skilled thief who commits corporate es...   \n",
       "1                   en  The adventures of a group of explorers who mak...   \n",
       "2                   en  Batman raises the stakes in his war on crime. ...   \n",
       "3                   en  When an unexpected enemy emerges and threatens...   \n",
       "4                   en  The origin story of former Special Forces oper...   \n",
       "...                ...                                                ...   \n",
       "9995                en  A fragile Kansas girl's unrequited and forbidd...   \n",
       "9996                en  A man and woman share a telephone line and des...   \n",
       "9997                en  When a princess is shrunken by an evil wizard,...   \n",
       "9998                en  A lone-wolf scientist sequestered in a mansion...   \n",
       "9999                en  When Prince Ahmad is blinded and cast out of B...   \n",
       "\n",
       "      popularity release_date  vote_average  vote_count  \n",
       "0        111.757    7/15/2010           8.4       31917  \n",
       "1        191.220    11/5/2014           8.4       28920  \n",
       "2         82.230    7/14/2008           8.5       27925  \n",
       "3        278.980    4/25/2012           7.7       27250  \n",
       "4        230.309     2/9/2016           7.6       27028  \n",
       "...          ...          ...           ...         ...  \n",
       "9995       8.734   10/10/1961           7.6         200  \n",
       "9996       6.256    10/7/1959           7.2         200  \n",
       "9997      10.421    12/5/1958           6.9         200  \n",
       "9998      10.909   12/14/1955           6.4         200  \n",
       "9999       7.836   12/25/1940           7.2         200  \n",
       "\n",
       "[10000 rows x 9 columns]"
      ],
      "text/html": [
       "<div>\n",
       "<style scoped>\n",
       "    .dataframe tbody tr th:only-of-type {\n",
       "        vertical-align: middle;\n",
       "    }\n",
       "\n",
       "    .dataframe tbody tr th {\n",
       "        vertical-align: top;\n",
       "    }\n",
       "\n",
       "    .dataframe thead th {\n",
       "        text-align: right;\n",
       "    }\n",
       "</style>\n",
       "<table border=\"1\" class=\"dataframe\">\n",
       "  <thead>\n",
       "    <tr style=\"text-align: right;\">\n",
       "      <th></th>\n",
       "      <th>id</th>\n",
       "      <th>title</th>\n",
       "      <th>genre</th>\n",
       "      <th>original_language</th>\n",
       "      <th>overview</th>\n",
       "      <th>popularity</th>\n",
       "      <th>release_date</th>\n",
       "      <th>vote_average</th>\n",
       "      <th>vote_count</th>\n",
       "    </tr>\n",
       "  </thead>\n",
       "  <tbody>\n",
       "    <tr>\n",
       "      <th>0</th>\n",
       "      <td>27205</td>\n",
       "      <td>Inception</td>\n",
       "      <td>Action,Science Fiction,Adventure</td>\n",
       "      <td>en</td>\n",
       "      <td>Cobb, a skilled thief who commits corporate es...</td>\n",
       "      <td>111.757</td>\n",
       "      <td>7/15/2010</td>\n",
       "      <td>8.4</td>\n",
       "      <td>31917</td>\n",
       "    </tr>\n",
       "    <tr>\n",
       "      <th>1</th>\n",
       "      <td>157336</td>\n",
       "      <td>Interstellar</td>\n",
       "      <td>Adventure,Drama,Science Fiction</td>\n",
       "      <td>en</td>\n",
       "      <td>The adventures of a group of explorers who mak...</td>\n",
       "      <td>191.220</td>\n",
       "      <td>11/5/2014</td>\n",
       "      <td>8.4</td>\n",
       "      <td>28920</td>\n",
       "    </tr>\n",
       "    <tr>\n",
       "      <th>2</th>\n",
       "      <td>155</td>\n",
       "      <td>The Dark Knight</td>\n",
       "      <td>Drama,Action,Crime,Thriller</td>\n",
       "      <td>en</td>\n",
       "      <td>Batman raises the stakes in his war on crime. ...</td>\n",
       "      <td>82.230</td>\n",
       "      <td>7/14/2008</td>\n",
       "      <td>8.5</td>\n",
       "      <td>27925</td>\n",
       "    </tr>\n",
       "    <tr>\n",
       "      <th>3</th>\n",
       "      <td>24428</td>\n",
       "      <td>The Avengers</td>\n",
       "      <td>Science Fiction,Action,Adventure</td>\n",
       "      <td>en</td>\n",
       "      <td>When an unexpected enemy emerges and threatens...</td>\n",
       "      <td>278.980</td>\n",
       "      <td>4/25/2012</td>\n",
       "      <td>7.7</td>\n",
       "      <td>27250</td>\n",
       "    </tr>\n",
       "    <tr>\n",
       "      <th>4</th>\n",
       "      <td>293660</td>\n",
       "      <td>Deadpool</td>\n",
       "      <td>Action,Adventure,Comedy</td>\n",
       "      <td>en</td>\n",
       "      <td>The origin story of former Special Forces oper...</td>\n",
       "      <td>230.309</td>\n",
       "      <td>2/9/2016</td>\n",
       "      <td>7.6</td>\n",
       "      <td>27028</td>\n",
       "    </tr>\n",
       "    <tr>\n",
       "      <th>...</th>\n",
       "      <td>...</td>\n",
       "      <td>...</td>\n",
       "      <td>...</td>\n",
       "      <td>...</td>\n",
       "      <td>...</td>\n",
       "      <td>...</td>\n",
       "      <td>...</td>\n",
       "      <td>...</td>\n",
       "      <td>...</td>\n",
       "    </tr>\n",
       "    <tr>\n",
       "      <th>9995</th>\n",
       "      <td>28569</td>\n",
       "      <td>Splendor in the Grass</td>\n",
       "      <td>Drama,Romance</td>\n",
       "      <td>en</td>\n",
       "      <td>A fragile Kansas girl's unrequited and forbidd...</td>\n",
       "      <td>8.734</td>\n",
       "      <td>10/10/1961</td>\n",
       "      <td>7.6</td>\n",
       "      <td>200</td>\n",
       "    </tr>\n",
       "    <tr>\n",
       "      <th>9996</th>\n",
       "      <td>4952</td>\n",
       "      <td>Pillow Talk</td>\n",
       "      <td>Comedy,Romance</td>\n",
       "      <td>en</td>\n",
       "      <td>A man and woman share a telephone line and des...</td>\n",
       "      <td>6.256</td>\n",
       "      <td>10/7/1959</td>\n",
       "      <td>7.2</td>\n",
       "      <td>200</td>\n",
       "    </tr>\n",
       "    <tr>\n",
       "      <th>9997</th>\n",
       "      <td>15515</td>\n",
       "      <td>The 7th Voyage of Sinbad</td>\n",
       "      <td>Action,Adventure,Family,Fantasy</td>\n",
       "      <td>en</td>\n",
       "      <td>When a princess is shrunken by an evil wizard,...</td>\n",
       "      <td>10.421</td>\n",
       "      <td>12/5/1958</td>\n",
       "      <td>6.9</td>\n",
       "      <td>200</td>\n",
       "    </tr>\n",
       "    <tr>\n",
       "      <th>9998</th>\n",
       "      <td>9077</td>\n",
       "      <td>Tarantula</td>\n",
       "      <td>Horror,Science Fiction,Thriller</td>\n",
       "      <td>en</td>\n",
       "      <td>A lone-wolf scientist sequestered in a mansion...</td>\n",
       "      <td>10.909</td>\n",
       "      <td>12/14/1955</td>\n",
       "      <td>6.4</td>\n",
       "      <td>200</td>\n",
       "    </tr>\n",
       "    <tr>\n",
       "      <th>9999</th>\n",
       "      <td>12232</td>\n",
       "      <td>The Thief of Bagdad</td>\n",
       "      <td>Action,Adventure,Family,Fantasy</td>\n",
       "      <td>en</td>\n",
       "      <td>When Prince Ahmad is blinded and cast out of B...</td>\n",
       "      <td>7.836</td>\n",
       "      <td>12/25/1940</td>\n",
       "      <td>7.2</td>\n",
       "      <td>200</td>\n",
       "    </tr>\n",
       "  </tbody>\n",
       "</table>\n",
       "<p>10000 rows × 9 columns</p>\n",
       "</div>"
      ]
     },
     "execution_count": 3,
     "metadata": {},
     "output_type": "execute_result"
    }
   ],
   "execution_count": 3
  },
  {
   "metadata": {
    "ExecuteTime": {
     "end_time": "2024-08-02T18:30:23.766702Z",
     "start_time": "2024-08-02T18:30:23.738355Z"
    }
   },
   "cell_type": "code",
   "source": "df.describe()",
   "id": "ca3aeb4f8086bffe",
   "outputs": [
    {
     "data": {
      "text/plain": [
       "                  id    popularity  vote_average    vote_count\n",
       "count   10000.000000  10000.000000  10000.000000  10000.000000\n",
       "mean   161243.505000     34.697267      6.621150   1547.309400\n",
       "std    211422.046043    211.684175      0.766231   2648.295789\n",
       "min         5.000000      0.600000      4.600000    200.000000\n",
       "25%     10127.750000      9.154750      6.100000    315.000000\n",
       "50%     30002.500000     13.637500      6.600000    583.500000\n",
       "75%    310133.500000     25.651250      7.200000   1460.000000\n",
       "max    934761.000000  10436.917000      8.700000  31917.000000"
      ],
      "text/html": [
       "<div>\n",
       "<style scoped>\n",
       "    .dataframe tbody tr th:only-of-type {\n",
       "        vertical-align: middle;\n",
       "    }\n",
       "\n",
       "    .dataframe tbody tr th {\n",
       "        vertical-align: top;\n",
       "    }\n",
       "\n",
       "    .dataframe thead th {\n",
       "        text-align: right;\n",
       "    }\n",
       "</style>\n",
       "<table border=\"1\" class=\"dataframe\">\n",
       "  <thead>\n",
       "    <tr style=\"text-align: right;\">\n",
       "      <th></th>\n",
       "      <th>id</th>\n",
       "      <th>popularity</th>\n",
       "      <th>vote_average</th>\n",
       "      <th>vote_count</th>\n",
       "    </tr>\n",
       "  </thead>\n",
       "  <tbody>\n",
       "    <tr>\n",
       "      <th>count</th>\n",
       "      <td>10000.000000</td>\n",
       "      <td>10000.000000</td>\n",
       "      <td>10000.000000</td>\n",
       "      <td>10000.000000</td>\n",
       "    </tr>\n",
       "    <tr>\n",
       "      <th>mean</th>\n",
       "      <td>161243.505000</td>\n",
       "      <td>34.697267</td>\n",
       "      <td>6.621150</td>\n",
       "      <td>1547.309400</td>\n",
       "    </tr>\n",
       "    <tr>\n",
       "      <th>std</th>\n",
       "      <td>211422.046043</td>\n",
       "      <td>211.684175</td>\n",
       "      <td>0.766231</td>\n",
       "      <td>2648.295789</td>\n",
       "    </tr>\n",
       "    <tr>\n",
       "      <th>min</th>\n",
       "      <td>5.000000</td>\n",
       "      <td>0.600000</td>\n",
       "      <td>4.600000</td>\n",
       "      <td>200.000000</td>\n",
       "    </tr>\n",
       "    <tr>\n",
       "      <th>25%</th>\n",
       "      <td>10127.750000</td>\n",
       "      <td>9.154750</td>\n",
       "      <td>6.100000</td>\n",
       "      <td>315.000000</td>\n",
       "    </tr>\n",
       "    <tr>\n",
       "      <th>50%</th>\n",
       "      <td>30002.500000</td>\n",
       "      <td>13.637500</td>\n",
       "      <td>6.600000</td>\n",
       "      <td>583.500000</td>\n",
       "    </tr>\n",
       "    <tr>\n",
       "      <th>75%</th>\n",
       "      <td>310133.500000</td>\n",
       "      <td>25.651250</td>\n",
       "      <td>7.200000</td>\n",
       "      <td>1460.000000</td>\n",
       "    </tr>\n",
       "    <tr>\n",
       "      <th>max</th>\n",
       "      <td>934761.000000</td>\n",
       "      <td>10436.917000</td>\n",
       "      <td>8.700000</td>\n",
       "      <td>31917.000000</td>\n",
       "    </tr>\n",
       "  </tbody>\n",
       "</table>\n",
       "</div>"
      ]
     },
     "execution_count": 4,
     "metadata": {},
     "output_type": "execute_result"
    }
   ],
   "execution_count": 4
  },
  {
   "metadata": {
    "ExecuteTime": {
     "end_time": "2024-08-02T18:30:23.782679Z",
     "start_time": "2024-08-02T18:30:23.769703Z"
    }
   },
   "cell_type": "code",
   "source": "df.columns",
   "id": "f9b44bd7a3016f0f",
   "outputs": [
    {
     "data": {
      "text/plain": [
       "Index(['id', 'title', 'genre', 'original_language', 'overview', 'popularity',\n",
       "       'release_date', 'vote_average', 'vote_count'],\n",
       "      dtype='object')"
      ]
     },
     "execution_count": 5,
     "metadata": {},
     "output_type": "execute_result"
    }
   ],
   "execution_count": 5
  },
  {
   "metadata": {
    "ExecuteTime": {
     "end_time": "2024-08-02T18:30:23.798042Z",
     "start_time": "2024-08-02T18:30:23.784679Z"
    }
   },
   "cell_type": "code",
   "source": "df=df[['title', 'overview', 'genre','release_date']]",
   "id": "55bbb8d0d5f98bac",
   "outputs": [],
   "execution_count": 6
  },
  {
   "metadata": {
    "ExecuteTime": {
     "end_time": "2024-08-02T18:30:23.813658Z",
     "start_time": "2024-08-02T18:30:23.799042Z"
    }
   },
   "cell_type": "code",
   "source": "df",
   "id": "e68234375253469",
   "outputs": [
    {
     "data": {
      "text/plain": [
       "                         title  \\\n",
       "0                    Inception   \n",
       "1                 Interstellar   \n",
       "2              The Dark Knight   \n",
       "3                 The Avengers   \n",
       "4                     Deadpool   \n",
       "...                        ...   \n",
       "9995     Splendor in the Grass   \n",
       "9996               Pillow Talk   \n",
       "9997  The 7th Voyage of Sinbad   \n",
       "9998                 Tarantula   \n",
       "9999       The Thief of Bagdad   \n",
       "\n",
       "                                               overview  \\\n",
       "0     Cobb, a skilled thief who commits corporate es...   \n",
       "1     The adventures of a group of explorers who mak...   \n",
       "2     Batman raises the stakes in his war on crime. ...   \n",
       "3     When an unexpected enemy emerges and threatens...   \n",
       "4     The origin story of former Special Forces oper...   \n",
       "...                                                 ...   \n",
       "9995  A fragile Kansas girl's unrequited and forbidd...   \n",
       "9996  A man and woman share a telephone line and des...   \n",
       "9997  When a princess is shrunken by an evil wizard,...   \n",
       "9998  A lone-wolf scientist sequestered in a mansion...   \n",
       "9999  When Prince Ahmad is blinded and cast out of B...   \n",
       "\n",
       "                                 genre release_date  \n",
       "0     Action,Science Fiction,Adventure    7/15/2010  \n",
       "1      Adventure,Drama,Science Fiction    11/5/2014  \n",
       "2          Drama,Action,Crime,Thriller    7/14/2008  \n",
       "3     Science Fiction,Action,Adventure    4/25/2012  \n",
       "4              Action,Adventure,Comedy     2/9/2016  \n",
       "...                                ...          ...  \n",
       "9995                     Drama,Romance   10/10/1961  \n",
       "9996                    Comedy,Romance    10/7/1959  \n",
       "9997   Action,Adventure,Family,Fantasy    12/5/1958  \n",
       "9998   Horror,Science Fiction,Thriller   12/14/1955  \n",
       "9999   Action,Adventure,Family,Fantasy   12/25/1940  \n",
       "\n",
       "[10000 rows x 4 columns]"
      ],
      "text/html": [
       "<div>\n",
       "<style scoped>\n",
       "    .dataframe tbody tr th:only-of-type {\n",
       "        vertical-align: middle;\n",
       "    }\n",
       "\n",
       "    .dataframe tbody tr th {\n",
       "        vertical-align: top;\n",
       "    }\n",
       "\n",
       "    .dataframe thead th {\n",
       "        text-align: right;\n",
       "    }\n",
       "</style>\n",
       "<table border=\"1\" class=\"dataframe\">\n",
       "  <thead>\n",
       "    <tr style=\"text-align: right;\">\n",
       "      <th></th>\n",
       "      <th>title</th>\n",
       "      <th>overview</th>\n",
       "      <th>genre</th>\n",
       "      <th>release_date</th>\n",
       "    </tr>\n",
       "  </thead>\n",
       "  <tbody>\n",
       "    <tr>\n",
       "      <th>0</th>\n",
       "      <td>Inception</td>\n",
       "      <td>Cobb, a skilled thief who commits corporate es...</td>\n",
       "      <td>Action,Science Fiction,Adventure</td>\n",
       "      <td>7/15/2010</td>\n",
       "    </tr>\n",
       "    <tr>\n",
       "      <th>1</th>\n",
       "      <td>Interstellar</td>\n",
       "      <td>The adventures of a group of explorers who mak...</td>\n",
       "      <td>Adventure,Drama,Science Fiction</td>\n",
       "      <td>11/5/2014</td>\n",
       "    </tr>\n",
       "    <tr>\n",
       "      <th>2</th>\n",
       "      <td>The Dark Knight</td>\n",
       "      <td>Batman raises the stakes in his war on crime. ...</td>\n",
       "      <td>Drama,Action,Crime,Thriller</td>\n",
       "      <td>7/14/2008</td>\n",
       "    </tr>\n",
       "    <tr>\n",
       "      <th>3</th>\n",
       "      <td>The Avengers</td>\n",
       "      <td>When an unexpected enemy emerges and threatens...</td>\n",
       "      <td>Science Fiction,Action,Adventure</td>\n",
       "      <td>4/25/2012</td>\n",
       "    </tr>\n",
       "    <tr>\n",
       "      <th>4</th>\n",
       "      <td>Deadpool</td>\n",
       "      <td>The origin story of former Special Forces oper...</td>\n",
       "      <td>Action,Adventure,Comedy</td>\n",
       "      <td>2/9/2016</td>\n",
       "    </tr>\n",
       "    <tr>\n",
       "      <th>...</th>\n",
       "      <td>...</td>\n",
       "      <td>...</td>\n",
       "      <td>...</td>\n",
       "      <td>...</td>\n",
       "    </tr>\n",
       "    <tr>\n",
       "      <th>9995</th>\n",
       "      <td>Splendor in the Grass</td>\n",
       "      <td>A fragile Kansas girl's unrequited and forbidd...</td>\n",
       "      <td>Drama,Romance</td>\n",
       "      <td>10/10/1961</td>\n",
       "    </tr>\n",
       "    <tr>\n",
       "      <th>9996</th>\n",
       "      <td>Pillow Talk</td>\n",
       "      <td>A man and woman share a telephone line and des...</td>\n",
       "      <td>Comedy,Romance</td>\n",
       "      <td>10/7/1959</td>\n",
       "    </tr>\n",
       "    <tr>\n",
       "      <th>9997</th>\n",
       "      <td>The 7th Voyage of Sinbad</td>\n",
       "      <td>When a princess is shrunken by an evil wizard,...</td>\n",
       "      <td>Action,Adventure,Family,Fantasy</td>\n",
       "      <td>12/5/1958</td>\n",
       "    </tr>\n",
       "    <tr>\n",
       "      <th>9998</th>\n",
       "      <td>Tarantula</td>\n",
       "      <td>A lone-wolf scientist sequestered in a mansion...</td>\n",
       "      <td>Horror,Science Fiction,Thriller</td>\n",
       "      <td>12/14/1955</td>\n",
       "    </tr>\n",
       "    <tr>\n",
       "      <th>9999</th>\n",
       "      <td>The Thief of Bagdad</td>\n",
       "      <td>When Prince Ahmad is blinded and cast out of B...</td>\n",
       "      <td>Action,Adventure,Family,Fantasy</td>\n",
       "      <td>12/25/1940</td>\n",
       "    </tr>\n",
       "  </tbody>\n",
       "</table>\n",
       "<p>10000 rows × 4 columns</p>\n",
       "</div>"
      ]
     },
     "execution_count": 7,
     "metadata": {},
     "output_type": "execute_result"
    }
   ],
   "execution_count": 7
  },
  {
   "metadata": {
    "ExecuteTime": {
     "end_time": "2024-08-02T18:30:23.828815Z",
     "start_time": "2024-08-02T18:30:23.815658Z"
    }
   },
   "cell_type": "code",
   "source": [
    "def create_textual_representation(row):\n",
    "    textual_representation=f\"\"\"\n",
    "Title: {row['title']},\n",
    "Year: {row['release_date']},\n",
    "Genre: {row['genre']},\n",
    "\n",
    "Description: {row['overview']}\"\"\"\n",
    "    return textual_representation"
   ],
   "id": "4fb2d312de29b89c",
   "outputs": [],
   "execution_count": 8
  },
  {
   "metadata": {
    "ExecuteTime": {
     "end_time": "2024-08-02T18:30:24.015811Z",
     "start_time": "2024-08-02T18:30:23.830319Z"
    }
   },
   "cell_type": "code",
   "source": [
    "df_copy = df.copy()\n",
    "df_copy['textual_representation'] = df_copy.apply(create_textual_representation, axis=1)"
   ],
   "id": "62628e77acd1ba6e",
   "outputs": [],
   "execution_count": 9
  },
  {
   "metadata": {
    "ExecuteTime": {
     "end_time": "2024-08-02T18:30:24.031436Z",
     "start_time": "2024-08-02T18:30:24.017812Z"
    }
   },
   "cell_type": "code",
   "source": "print(df_copy['textual_representation'].values[0])",
   "id": "5c2c3d44699d1c73",
   "outputs": [
    {
     "name": "stdout",
     "output_type": "stream",
     "text": [
      "\n",
      "Title: Inception,\n",
      "Year: 7/15/2010,\n",
      "Genre: Action,Science Fiction,Adventure,\n",
      "\n",
      "Description: Cobb, a skilled thief who commits corporate espionage by infiltrating the subconscious of his targets is offered a chance to regain his old life as payment for a task considered to be impossible: \"inception\", the implantation of another person's idea into a target's subconscious.\n"
     ]
    }
   ],
   "execution_count": 10
  },
  {
   "metadata": {
    "ExecuteTime": {
     "end_time": "2024-08-02T18:30:24.995627Z",
     "start_time": "2024-08-02T18:30:24.033600Z"
    }
   },
   "cell_type": "code",
   "source": [
    "import faiss\n",
    "print(faiss.__version__)\n",
    "import requests\n",
    "import numpy as np"
   ],
   "id": "a86a14c46ecd50e3",
   "outputs": [
    {
     "name": "stdout",
     "output_type": "stream",
     "text": [
      "1.7.4\n"
     ]
    }
   ],
   "execution_count": 11
  },
  {
   "metadata": {
    "ExecuteTime": {
     "end_time": "2024-08-02T18:30:30.379229Z",
     "start_time": "2024-08-02T18:30:30.353201Z"
    }
   },
   "cell_type": "code",
   "source": [
    "dim = 4096\n",
    "\n",
    "index = faiss.IndexFlatL2(dim)\n",
    "\n",
    "x = np.zeros((len(df_copy['textual_representation']), dim), dtype = 'float32')"
   ],
   "id": "369e82f17af14dc4",
   "outputs": [],
   "execution_count": 12
  },
  {
   "metadata": {
    "ExecuteTime": {
     "end_time": "2024-08-02T18:30:38.324556Z",
     "start_time": "2024-08-02T18:30:38.310873Z"
    }
   },
   "cell_type": "code",
   "source": "#x",
   "id": "49da000bab6d3ba8",
   "outputs": [],
   "execution_count": 13
  },
  {
   "metadata": {
    "ExecuteTime": {
     "end_time": "2024-08-02T18:31:49.606293Z",
     "start_time": "2024-08-02T18:31:09.526644Z"
    }
   },
   "cell_type": "code",
   "source": [
    "for i, representation in enumerate(df_copy['textual_representation']):\n",
    "    if i % 1000 == 0:\n",
    "        print(\"Processing textual representation\", i)\n",
    "        \n",
    "        res = requests.post('http://localhost:11434/api/embeddings', \n",
    "                            json={'model': 'llama2',\n",
    "                            'prompt': representation,\n",
    "                                }\n",
    "                            )\n",
    "        embedding = res.json()['embedding']\n",
    "        \n",
    "        x[i] = np.array(embedding)\n",
    "        \n",
    "index.add(x)"
   ],
   "id": "9760cbd31b1abc5b",
   "outputs": [
    {
     "name": "stdout",
     "output_type": "stream",
     "text": [
      "Processing textual representation 0\n",
      "Processing textual representation 1000\n",
      "Processing textual representation 2000\n",
      "Processing textual representation 3000\n",
      "Processing textual representation 4000\n",
      "Processing textual representation 5000\n",
      "Processing textual representation 6000\n",
      "Processing textual representation 7000\n",
      "Processing textual representation 8000\n",
      "Processing textual representation 9000\n"
     ]
    }
   ],
   "execution_count": 14
  },
  {
   "metadata": {
    "ExecuteTime": {
     "end_time": "2024-08-02T18:31:52.094644Z",
     "start_time": "2024-08-02T18:31:51.662420Z"
    }
   },
   "cell_type": "code",
   "source": "faiss.write_index(index, 'index')",
   "id": "c20420814099cefb",
   "outputs": [],
   "execution_count": 15
  },
  {
   "metadata": {
    "ExecuteTime": {
     "end_time": "2024-08-02T18:32:01.900020Z",
     "start_time": "2024-08-02T18:32:01.777052Z"
    }
   },
   "cell_type": "code",
   "source": "index = faiss.read_index('index')",
   "id": "7cf926e4a7a98dae",
   "outputs": [],
   "execution_count": 16
  },
  {
   "metadata": {
    "ExecuteTime": {
     "end_time": "2024-08-02T18:42:46.089043Z",
     "start_time": "2024-08-02T18:42:46.067683Z"
    }
   },
   "cell_type": "code",
   "source": "df[df.title.str.contains('shutter')]",
   "id": "4e67c5968f097b0f",
   "outputs": [
    {
     "data": {
      "text/plain": [
       "Empty DataFrame\n",
       "Columns: [title, overview, genre, release_date]\n",
       "Index: []"
      ],
      "text/html": [
       "<div>\n",
       "<style scoped>\n",
       "    .dataframe tbody tr th:only-of-type {\n",
       "        vertical-align: middle;\n",
       "    }\n",
       "\n",
       "    .dataframe tbody tr th {\n",
       "        vertical-align: top;\n",
       "    }\n",
       "\n",
       "    .dataframe thead th {\n",
       "        text-align: right;\n",
       "    }\n",
       "</style>\n",
       "<table border=\"1\" class=\"dataframe\">\n",
       "  <thead>\n",
       "    <tr style=\"text-align: right;\">\n",
       "      <th></th>\n",
       "      <th>title</th>\n",
       "      <th>overview</th>\n",
       "      <th>genre</th>\n",
       "      <th>release_date</th>\n",
       "    </tr>\n",
       "  </thead>\n",
       "  <tbody>\n",
       "  </tbody>\n",
       "</table>\n",
       "</div>"
      ]
     },
     "execution_count": 36,
     "metadata": {},
     "output_type": "execute_result"
    }
   ],
   "execution_count": 36
  },
  {
   "metadata": {
    "ExecuteTime": {
     "end_time": "2024-08-02T18:32:34.085879Z",
     "start_time": "2024-08-02T18:32:34.072353Z"
    }
   },
   "cell_type": "code",
   "source": "favorite_movie = df.iloc[0]",
   "id": "ae8ee4e3de9ec5bd",
   "outputs": [],
   "execution_count": 18
  },
  {
   "metadata": {
    "ExecuteTime": {
     "end_time": "2024-08-02T18:32:34.875510Z",
     "start_time": "2024-08-02T18:32:34.864467Z"
    }
   },
   "cell_type": "code",
   "source": "favorite_movie",
   "id": "3c48f54c7f05a941",
   "outputs": [
    {
     "data": {
      "text/plain": [
       "title                                                   Inception\n",
       "overview        Cobb, a skilled thief who commits corporate es...\n",
       "genre                            Action,Science Fiction,Adventure\n",
       "release_date                                            7/15/2010\n",
       "Name: 0, dtype: object"
      ]
     },
     "execution_count": 19,
     "metadata": {},
     "output_type": "execute_result"
    }
   ],
   "execution_count": 19
  },
  {
   "metadata": {
    "ExecuteTime": {
     "end_time": "2024-08-02T18:43:54.204826Z",
     "start_time": "2024-08-02T18:43:54.199928Z"
    }
   },
   "cell_type": "code",
   "source": [
    "recommend_movie = \"\"\"\n",
    "Title: The Plot,\n",
    "Year: 21 June 2024,\n",
    "Genre: \n",
    "\n",
    "Description: The Plot is a 2024 South Korean crime thriller film directed by Lee Yo-sup, starring Gang Dong-won. An adaptation of the Hong Kong film, Accident, it tells the story of Yeong-il, a designer who orchestrates a commissioned murder as a perfect accidental death, and gets caught up in an unexpected incident\n",
    "\"\"\""
   ],
   "id": "ddb971cf23a73f77",
   "outputs": [],
   "execution_count": 42
  },
  {
   "metadata": {
    "ExecuteTime": {
     "end_time": "2024-08-02T18:43:58.279830Z",
     "start_time": "2024-08-02T18:43:54.863439Z"
    }
   },
   "cell_type": "code",
   "source": [
    "res = requests.post('http://localhost:11434/api/embeddings', \n",
    "                            json={'model': 'llama2',\n",
    "                            'prompt': recommend_movie,\n",
    "                                }\n",
    "                            )"
   ],
   "id": "b5cc33669c7868e8",
   "outputs": [],
   "execution_count": 43
  },
  {
   "metadata": {
    "ExecuteTime": {
     "end_time": "2024-08-02T18:43:58.310187Z",
     "start_time": "2024-08-02T18:43:58.282832Z"
    }
   },
   "cell_type": "code",
   "source": [
    "embedding = np.array([res.json()['embedding']], dtype = 'float32')\n",
    "\n",
    "D ,I = index.search(embedding, 5)"
   ],
   "id": "487c7250fbe00186",
   "outputs": [],
   "execution_count": 44
  },
  {
   "metadata": {
    "ExecuteTime": {
     "end_time": "2024-08-02T18:43:58.326298Z",
     "start_time": "2024-08-02T18:43:58.312188Z"
    }
   },
   "cell_type": "code",
   "source": "best_matches = np.array(df_copy['textual_representation'])[I.flatten()]",
   "id": "cf7afc7ef609a902",
   "outputs": [],
   "execution_count": 45
  },
  {
   "metadata": {
    "ExecuteTime": {
     "end_time": "2024-08-02T18:43:58.342053Z",
     "start_time": "2024-08-02T18:43:58.328300Z"
    }
   },
   "cell_type": "code",
   "source": [
    "for match in best_matches:\n",
    "    print('Next Movie')\n",
    "    print(match)\n",
    "    print()"
   ],
   "id": "1ee36cd9c77ba5a8",
   "outputs": [
    {
     "name": "stdout",
     "output_type": "stream",
     "text": [
      "Next Movie\n",
      "\n",
      "Title: Interstellar,\n",
      "Year: 11/5/2014,\n",
      "Genre: Adventure,Drama,Science Fiction,\n",
      "\n",
      "Description: The adventures of a group of explorers who make use of a newly discovered wormhole to surpass the limitations on human space travel and conquer the vast distances involved in an interstellar voyage.\n",
      "\n",
      "Next Movie\n",
      "\n",
      "Title: The Dark Knight,\n",
      "Year: 7/14/2008,\n",
      "Genre: Drama,Action,Crime,Thriller,\n",
      "\n",
      "Description: Batman raises the stakes in his war on crime. With the help of Lt. Jim Gordon and District Attorney Harvey Dent, Batman sets out to dismantle the remaining criminal organizations that plague the streets. The partnership proves to be effective, but they soon find themselves prey to a reign of chaos unleashed by a rising criminal mastermind known to the terrified citizens of Gotham as the Joker.\n",
      "\n",
      "Next Movie\n",
      "\n",
      "Title: The Avengers,\n",
      "Year: 4/25/2012,\n",
      "Genre: Science Fiction,Action,Adventure,\n",
      "\n",
      "Description: When an unexpected enemy emerges and threatens global safety and security, Nick Fury, director of the international peacekeeping agency known as S.H.I.E.L.D., finds himself in need of a team to pull the world back from the brink of disaster. Spanning the globe, a daring recruitment effort begins!\n",
      "\n",
      "Next Movie\n",
      "\n",
      "Title: Deadpool,\n",
      "Year: 2/9/2016,\n",
      "Genre: Action,Adventure,Comedy,\n",
      "\n",
      "Description: The origin story of former Special Forces operative turned mercenary Wade Wilson, who, after being subjected to a rogue experiment that leaves him with accelerated healing powers, adopts the alter ego Deadpool. Armed with his new abilities and a dark, twisted sense of humor, Deadpool hunts down the man who nearly destroyed his life.\n",
      "\n",
      "Next Movie\n",
      "\n",
      "Title: Avatar,\n",
      "Year: 12/10/2009,\n",
      "Genre: Action,Adventure,Fantasy,Science Fiction,\n",
      "\n",
      "Description: In the 22nd century, a paraplegic Marine is dispatched to the moon Pandora on a unique mission, but becomes torn between following orders and protecting an alien civilization.\n",
      "\n"
     ]
    }
   ],
   "execution_count": 46
  },
  {
   "metadata": {
    "ExecuteTime": {
     "end_time": "2024-08-02T14:24:01.747927Z",
     "start_time": "2024-08-02T14:24:01.735908Z"
    }
   },
   "cell_type": "code",
   "source": "import pickle",
   "id": "8bf381bd1b49498a",
   "outputs": [],
   "execution_count": 28
  },
  {
   "metadata": {
    "ExecuteTime": {
     "end_time": "2024-08-02T14:24:03.036733Z",
     "start_time": "2024-08-02T14:24:03.031515Z"
    }
   },
   "cell_type": "code",
   "source": "pickle.dump(best_matches, open('best_matches.pkl', 'wb'))",
   "id": "4e7b1e310543a668",
   "outputs": [],
   "execution_count": 29
  },
  {
   "metadata": {
    "ExecuteTime": {
     "end_time": "2024-08-02T14:24:06.205399Z",
     "start_time": "2024-08-02T14:24:06.191395Z"
    }
   },
   "cell_type": "code",
   "source": "pickle.load(open('best_matches.pkl', 'rb'))",
   "id": "70d92a63d29b86a2",
   "outputs": [
    {
     "data": {
      "text/plain": [
       "array(['\\nTitle: Inception,\\nYear: 7/15/2010,\\nGenre: Action,Science Fiction,Adventure,\\n\\nDescription: Cobb, a skilled thief who commits corporate espionage by infiltrating the subconscious of his targets is offered a chance to regain his old life as payment for a task considered to be impossible: \"inception\", the implantation of another person\\'s idea into a target\\'s subconscious.',\n",
       "       '\\nTitle: Interstellar,\\nYear: 11/5/2014,\\nGenre: Adventure,Drama,Science Fiction,\\n\\nDescription: The adventures of a group of explorers who make use of a newly discovered wormhole to surpass the limitations on human space travel and conquer the vast distances involved in an interstellar voyage.',\n",
       "       '\\nTitle: The Dark Knight,\\nYear: 7/14/2008,\\nGenre: Drama,Action,Crime,Thriller,\\n\\nDescription: Batman raises the stakes in his war on crime. With the help of Lt. Jim Gordon and District Attorney Harvey Dent, Batman sets out to dismantle the remaining criminal organizations that plague the streets. The partnership proves to be effective, but they soon find themselves prey to a reign of chaos unleashed by a rising criminal mastermind known to the terrified citizens of Gotham as the Joker.',\n",
       "       '\\nTitle: The Avengers,\\nYear: 4/25/2012,\\nGenre: Science Fiction,Action,Adventure,\\n\\nDescription: When an unexpected enemy emerges and threatens global safety and security, Nick Fury, director of the international peacekeeping agency known as S.H.I.E.L.D., finds himself in need of a team to pull the world back from the brink of disaster. Spanning the globe, a daring recruitment effort begins!',\n",
       "       '\\nTitle: Deadpool,\\nYear: 2/9/2016,\\nGenre: Action,Adventure,Comedy,\\n\\nDescription: The origin story of former Special Forces operative turned mercenary Wade Wilson, who, after being subjected to a rogue experiment that leaves him with accelerated healing powers, adopts the alter ego Deadpool. Armed with his new abilities and a dark, twisted sense of humor, Deadpool hunts down the man who nearly destroyed his life.'],\n",
       "      dtype=object)"
      ]
     },
     "execution_count": 30,
     "metadata": {},
     "output_type": "execute_result"
    }
   ],
   "execution_count": 30
  }
 ],
 "metadata": {
  "kernelspec": {
   "display_name": "Python 3",
   "language": "python",
   "name": "python3"
  },
  "language_info": {
   "codemirror_mode": {
    "name": "ipython",
    "version": 2
   },
   "file_extension": ".py",
   "mimetype": "text/x-python",
   "name": "python",
   "nbconvert_exporter": "python",
   "pygments_lexer": "ipython2",
   "version": "2.7.6"
  }
 },
 "nbformat": 4,
 "nbformat_minor": 5
}
