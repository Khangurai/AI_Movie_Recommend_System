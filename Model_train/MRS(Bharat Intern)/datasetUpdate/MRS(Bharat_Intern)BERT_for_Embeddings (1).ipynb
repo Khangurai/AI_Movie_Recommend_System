{
 "cells": [
  {
   "cell_type": "code",
   "id": "dv_X17JrdnMN",
   "metadata": {
    "id": "dv_X17JrdnMN"
   },
   "source": "!pip install --upgrade pillow transformers",
   "outputs": [],
   "execution_count": null
  },
  {
   "cell_type": "code",
   "id": "3f04a173",
   "metadata": {
    "id": "3f04a173"
   },
   "source": [
    "import pandas as pd"
   ],
   "outputs": [],
   "execution_count": null
  },
  {
   "cell_type": "code",
   "id": "dead6fc2",
   "metadata": {
    "id": "dead6fc2"
   },
   "source": [
    "movies=pd.read_csv('datasetUpdate.csv')"
   ],
   "outputs": [],
   "execution_count": null
  },
  {
   "cell_type": "code",
   "id": "5b1a49bf",
   "metadata": {
    "id": "5b1a49bf"
   },
   "source": [
    "# movies.head(10)"
   ],
   "outputs": [],
   "execution_count": null
  },
  {
   "cell_type": "code",
   "id": "7485c5d2",
   "metadata": {
    "id": "7485c5d2"
   },
   "source": [
    "# movies.describe()"
   ],
   "outputs": [],
   "execution_count": null
  },
  {
   "cell_type": "code",
   "id": "017fc86e",
   "metadata": {
    "id": "017fc86e"
   },
   "source": [
    "# movies.info()"
   ],
   "outputs": [],
   "execution_count": null
  },
  {
   "cell_type": "code",
   "id": "903ea29b",
   "metadata": {
    "id": "903ea29b"
   },
   "source": [
    "# movies.isnull().sum()"
   ],
   "outputs": [],
   "execution_count": null
  },
  {
   "cell_type": "markdown",
   "id": "8d08a5cf",
   "metadata": {
    "id": "8d08a5cf"
   },
   "source": [
    "Feature Selection Part"
   ]
  },
  {
   "cell_type": "code",
   "id": "f4c03a00",
   "metadata": {
    "colab": {
     "base_uri": "https://localhost:8080/"
    },
    "id": "f4c03a00",
    "outputId": "80fc6d4c-78f6-47c1-8434-7bc890a0baf3"
   },
   "source": [
    "movies.columns"
   ],
   "outputs": [],
   "execution_count": null
  },
  {
   "cell_type": "code",
   "id": "0a54c777",
   "metadata": {
    "id": "0a54c777"
   },
   "source": [
    "movies=movies[['id', 'title', 'overview', 'genre']]"
   ],
   "outputs": [],
   "execution_count": null
  },
  {
   "cell_type": "code",
   "id": "9e6b07f3",
   "metadata": {
    "colab": {
     "base_uri": "https://localhost:8080/",
     "height": 424
    },
    "id": "9e6b07f3",
    "outputId": "9e2bc97c-7484-4241-e5ff-3e0abc24abdc"
   },
   "source": [
    "movies"
   ],
   "outputs": [],
   "execution_count": null
  },
  {
   "cell_type": "code",
   "id": "e6677b81",
   "metadata": {
    "id": "e6677b81"
   },
   "source": [
    "movies['tags'] = movies['overview']+movies['genre']"
   ],
   "outputs": [],
   "execution_count": null
  },
  {
   "cell_type": "code",
   "id": "c8bd5650",
   "metadata": {
    "colab": {
     "base_uri": "https://localhost:8080/",
     "height": 597
    },
    "id": "c8bd5650",
    "outputId": "8f72bcb1-c3bd-43e8-9380-f1d3fcd98a23"
   },
   "source": [
    "movies"
   ],
   "outputs": [],
   "execution_count": null
  },
  {
   "cell_type": "code",
   "id": "yqNVPmZjftJK",
   "metadata": {
    "id": "yqNVPmZjftJK"
   },
   "source": [
    "# movies['overview'] = movies['overview'].fillna('')"
   ],
   "outputs": [],
   "execution_count": null
  },
  {
   "cell_type": "code",
   "id": "30e6fe24",
   "metadata": {
    "id": "30e6fe24"
   },
   "source": [
    "new_data  = movies.drop(columns=['overview', 'genre'])"
   ],
   "outputs": [],
   "execution_count": null
  },
  {
   "cell_type": "code",
   "id": "renPraBjf-dF",
   "metadata": {
    "id": "renPraBjf-dF"
   },
   "source": [
    "# new_data = movies"
   ],
   "outputs": [],
   "execution_count": null
  },
  {
   "cell_type": "code",
   "id": "Bxzvt1JWf3Vi",
   "metadata": {
    "id": "Bxzvt1JWf3Vi"
   },
   "source": [
    "# new_data['overview'] = new_data['overview'].fillna('')"
   ],
   "outputs": [],
   "execution_count": null
  },
  {
   "cell_type": "code",
   "id": "c7469d83",
   "metadata": {
    "colab": {
     "base_uri": "https://localhost:8080/",
     "height": 424
    },
    "id": "c7469d83",
    "outputId": "312359bf-b1d9-432e-c7c8-ea0d150a75b7"
   },
   "source": [
    "new_data"
   ],
   "outputs": [],
   "execution_count": null
  },
  {
   "cell_type": "code",
   "id": "5c40b711",
   "metadata": {
    "id": "5c40b711"
   },
   "source": [
    "from transformers import BertTokenizer, BertModel\n",
    "print(transformers.__version__)\n",
    "import torch\n",
    "print(torch.__version__)"
   ],
   "outputs": [],
   "execution_count": null
  },
  {
   "cell_type": "code",
   "id": "XDifF92qac2c",
   "metadata": {
    "colab": {
     "base_uri": "https://localhost:8080/"
    },
    "id": "XDifF92qac2c",
    "outputId": "4fbfccd8-27cf-4735-9b66-332ce8ed9ae7"
   },
   "source": [
    "# Load pre-trained BERT model and tokenizer\n",
    "tokenizer = BertTokenizer.from_pretrained('bert-base-uncased')\n",
    "model = BertModel.from_pretrained('bert-base-uncased')"
   ],
   "outputs": [],
   "execution_count": null
  },
  {
   "cell_type": "code",
   "id": "1ef07ab5",
   "metadata": {
    "id": "1ef07ab5"
   },
   "source": [
    "# def get_bert_embeddings(texts):\n",
    "#     # Tokenize and encode texts\n",
    "#     inputs = tokenizer(texts, return_tensors='pt', padding=True, truncation=True, max_length=512)\n",
    "#     with torch.no_grad():\n",
    "#         outputs = model(**inputs)\n",
    "#     # Return the mean of the token embeddings for each document\n",
    "#     return outputs.last_hidden_state.mean(dim=1).numpy()\n",
    "\n",
    "def get_bert_embeddings(texts, batch_size=32):\n",
    "    embeddings = []\n",
    "    for i in range(0, len(texts), batch_size):\n",
    "        batch_texts = texts[i:i + batch_size]\n",
    "        inputs = tokenizer(batch_texts, return_tensors='pt', padding=True, truncation=True, max_length=512)\n",
    "        with torch.no_grad():\n",
    "            outputs = model(**inputs)\n",
    "        batch_embeddings = outputs.last_hidden_state.mean(dim=1).numpy()\n",
    "        embeddings.append(batch_embeddings)\n",
    "    return np.vstack(embeddings)"
   ],
   "outputs": [],
   "execution_count": null
  },
  {
   "cell_type": "code",
   "id": "4m7be-sQl2Wa",
   "metadata": {
    "id": "4m7be-sQl2Wa"
   },
   "source": [
    "# Ensure 'tags' column is properly formatted\n",
    "new_data['tags'] = new_data['tags'].astype(str).fillna('')"
   ],
   "outputs": [],
   "execution_count": null
  },
  {
   "cell_type": "code",
   "id": "5f47235f",
   "metadata": {
    "colab": {
     "base_uri": "https://localhost:8080/",
     "height": 304
    },
    "id": "5f47235f",
    "outputId": "62c215ef-ab1e-4b7e-ffb2-aa757717eede"
   },
   "source": [
    "# Generate embeddings for movie tags in batches\n",
    "embeddings = get_bert_embeddings(new_data['tags'].astype(str).tolist(), batch_size=32)"
   ],
   "outputs": [],
   "execution_count": null
  },
  {
   "cell_type": "code",
   "id": "70d0277a",
   "metadata": {
    "colab": {
     "base_uri": "https://localhost:8080/"
    },
    "id": "70d0277a",
    "outputId": "6de302a1-540e-44af-b840-484b1cb4cf3e"
   },
   "source": [
    "from sklearn.metrics.pairwise import cosine_similarity"
   ],
   "outputs": [],
   "execution_count": null
  },
  {
   "cell_type": "code",
   "id": "33767086",
   "metadata": {
    "colab": {
     "base_uri": "https://localhost:8080/"
    },
    "id": "33767086",
    "outputId": "6e101b1a-2137-409c-9583-980c6c14cf29"
   },
   "source": [
    "# Compute pairwise cosine similarities\n",
    "similarity = cosine_similarity(embeddings)"
   ],
   "outputs": [],
   "execution_count": null
  },
  {
   "cell_type": "code",
   "id": "18f8e048",
   "metadata": {
    "id": "18f8e048"
   },
   "source": [
    "# def recommand(movie_title):\n",
    "#     if movie_title not in new_data['title'].values:\n",
    "#         print(\"Movie not found in dataset.\")\n",
    "#         return\n",
    "\n",
    "#     # Get the index of the movie that matches the title\n",
    "#     index = new_data[new_data['title'] == movie_title].index[0]\n",
    "\n",
    "#     # Get the pairwise similarity scores of all movies with that movie\n",
    "#     distance = sorted(list(enumerate(similarity[index])), reverse=True, key=lambda vector: vector[1])\n",
    "\n",
    "#     # Print the titles of the top 5 most similar movies\n",
    "#     print(f\"Top 5 recommendations for '{movie_title}':\")\n",
    "#     for i in distance[1:6]:  # Skip the first entry as it is the movie itself\n",
    "#         print(new_data.iloc[i[0]].title)\n"
   ],
   "outputs": [],
   "execution_count": null
  },
  {
   "cell_type": "code",
   "id": "45f26d8e",
   "metadata": {
    "colab": {
     "base_uri": "https://localhost:8080/"
    },
    "id": "45f26d8e",
    "outputId": "cc698435-0ce8-4323-a876-89b6a4d0817e"
   },
   "source": [
    "# Save the similarity matrix and movie titles\n",
    "import pickle\n",
    "\n",
    "with open('similarity_matrix.pkl', 'wb') as f:\n",
    "    pickle.dump(similarity, f)\n",
    "with open('movie_titles.pkl', 'wb') as f:\n",
    "    pickle.dump(movies['title'].tolist(), f)"
   ],
   "outputs": [],
   "execution_count": null
  },
  {
   "cell_type": "code",
   "id": "27f3c2d2",
   "metadata": {
    "id": "27f3c2d2"
   },
   "source": [
    "def recommend(movie_title, top_n=5):\n",
    "    if movie_title not in movies['title'].values:\n",
    "        print(\"Movie not found in dataset.\")\n",
    "        return\n",
    "\n",
    "    # Load similarity matrix and movie titles\n",
    "    with open('similarity_matrix.pkl', 'rb') as f:\n",
    "        similarity = pickle.load(f)\n",
    "    with open('movie_titles.pkl', 'rb') as f:\n",
    "        titles = pickle.load(f)\n",
    "\n",
    "    # Get the index of the movie\n",
    "    idx = movies[movies['title'] == movie_title].index[0]\n",
    "\n",
    "    # Get the pairwise similarity scores of all movies with that movie\n",
    "    sim_scores = list(enumerate(similarity[idx]))\n",
    "\n",
    "    # Sort the movies based on similarity scores\n",
    "    sim_scores = sorted(sim_scores, reverse=True, key=lambda x: x[1])\n",
    "\n",
    "    # Get the scores of the top_n most similar movies\n",
    "    sim_scores = sim_scores[1:top_n + 1]  # Skip the first entry (the movie itself)\n",
    "\n",
    "    # Get the movie indices\n",
    "    movie_indices = [i[0] for i in sim_scores]\n",
    "\n",
    "    # Return the top_n most similar movies\n",
    "    recommended_titles = [titles[i] for i in movie_indices]\n",
    "    print(f\"Top {top_n} recommendations for '{movie_title}':\")\n",
    "    for title in recommended_titles:\n",
    "        print(title)\n",
    "\n",
    "# Example usage\n",
    "recommend('Iron Man')\n"
   ],
   "outputs": [],
   "execution_count": null
  }
 ],
 "metadata": {
  "accelerator": "GPU",
  "colab": {
   "gpuType": "T4",
   "provenance": []
  },
  "kernelspec": {
   "display_name": "Python 3 (ipykernel)",
   "language": "python",
   "name": "python3"
  },
  "language_info": {
   "codemirror_mode": {
    "name": "ipython",
    "version": 3
   },
   "file_extension": ".py",
   "mimetype": "text/x-python",
   "name": "python",
   "nbconvert_exporter": "python",
   "pygments_lexer": "ipython3",
   "version": "3.12.4"
  }
 },
 "nbformat": 4,
 "nbformat_minor": 5
}
