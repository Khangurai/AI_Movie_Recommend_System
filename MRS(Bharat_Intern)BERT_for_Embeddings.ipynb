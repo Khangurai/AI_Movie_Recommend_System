{
 "cells": [
  {
   "cell_type": "code",
   "source": [
    "!pip install transformers torch"
   ],
   "metadata": {
    "colab": {
     "base_uri": "https://localhost:8080/"
    },
    "id": "dv_X17JrdnMN",
    "outputId": "5d7caaf9-aa8f-45fb-dab8-8405e15ffefe",
    "ExecuteTime": {
     "end_time": "2024-08-03T09:23:33.688142Z",
     "start_time": "2024-08-03T09:21:17.954521Z"
    }
   },
   "id": "dv_X17JrdnMN",
   "outputs": [
    {
     "name": "stdout",
     "output_type": "stream",
     "text": [
      "^C\n"
     ]
    }
   ],
   "execution_count": 1
  },
  {
   "cell_type": "code",
   "id": "3f04a173",
   "metadata": {
    "id": "3f04a173",
    "ExecuteTime": {
     "end_time": "2024-08-03T09:28:17.984106Z",
     "start_time": "2024-08-03T09:28:17.971527Z"
    }
   },
   "source": [
    "import pandas as pd"
   ],
   "outputs": [],
   "execution_count": 12
  },
  {
   "cell_type": "code",
   "id": "dead6fc2",
   "metadata": {
    "id": "dead6fc2",
    "ExecuteTime": {
     "end_time": "2024-08-03T09:28:18.189961Z",
     "start_time": "2024-08-03T09:28:18.134098Z"
    }
   },
   "source": [
    "movies=pd.read_csv('datasetUpdate.csv')"
   ],
   "outputs": [],
   "execution_count": 13
  },
  {
   "cell_type": "code",
   "id": "5b1a49bf",
   "metadata": {
    "colab": {
     "base_uri": "https://localhost:8080/",
     "height": 536
    },
    "id": "5b1a49bf",
    "outputId": "951580f7-db5f-4a7c-fec9-ecb6bda72f14",
    "ExecuteTime": {
     "end_time": "2024-08-03T09:28:18.315691Z",
     "start_time": "2024-08-03T09:28:18.302197Z"
    }
   },
   "source": [
    "movies.head(10)"
   ],
   "outputs": [
    {
     "data": {
      "text/plain": [
       "       id                    title                                     genre  \\\n",
       "0   27205                Inception          Action,Science Fiction,Adventure   \n",
       "1  157336             Interstellar           Adventure,Drama,Science Fiction   \n",
       "2     155          The Dark Knight               Drama,Action,Crime,Thriller   \n",
       "3   24428             The Avengers          Science Fiction,Action,Adventure   \n",
       "4  293660                 Deadpool                   Action,Adventure,Comedy   \n",
       "5   19995                   Avatar  Action,Adventure,Fantasy,Science Fiction   \n",
       "6  299536   Avengers: Infinity War          Adventure,Action,Science Fiction   \n",
       "7  118340  Guardians of the Galaxy          Action,Science Fiction,Adventure   \n",
       "8     550               Fight Club                                     Drama   \n",
       "9     680             Pulp Fiction                            Thriller,Crime   \n",
       "\n",
       "  original_language                                           overview  \\\n",
       "0                en  Cobb, a skilled thief who commits corporate es...   \n",
       "1                en  The adventures of a group of explorers who mak...   \n",
       "2                en  Batman raises the stakes in his war on crime. ...   \n",
       "3                en  When an unexpected enemy emerges and threatens...   \n",
       "4                en  The origin story of former Special Forces oper...   \n",
       "5                en  In the 22nd century, a paraplegic Marine is di...   \n",
       "6                en  As the Avengers and their allies have continue...   \n",
       "7                en  Light years from Earth, 26 years after being a...   \n",
       "8                en  A ticking-time-bomb insomniac and a slippery s...   \n",
       "9                en  A burger-loving hit man, his philosophical par...   \n",
       "\n",
       "   popularity release_date  vote_average  vote_count  \n",
       "0     111.757    7/15/2010           8.4       31917  \n",
       "1     191.220    11/5/2014           8.4       28920  \n",
       "2      82.230    7/14/2008           8.5       27925  \n",
       "3     278.980    4/25/2012           7.7       27250  \n",
       "4     230.309     2/9/2016           7.6       27028  \n",
       "5     386.124   12/10/2009           7.5       25759  \n",
       "6     475.535    4/25/2018           8.3       25020  \n",
       "7      80.592    7/30/2014           7.9       24684  \n",
       "8      58.676   10/15/1999           8.4       24441  \n",
       "9      67.224    9/10/1994           8.5       23481  "
      ],
      "text/html": [
       "<div>\n",
       "<style scoped>\n",
       "    .dataframe tbody tr th:only-of-type {\n",
       "        vertical-align: middle;\n",
       "    }\n",
       "\n",
       "    .dataframe tbody tr th {\n",
       "        vertical-align: top;\n",
       "    }\n",
       "\n",
       "    .dataframe thead th {\n",
       "        text-align: right;\n",
       "    }\n",
       "</style>\n",
       "<table border=\"1\" class=\"dataframe\">\n",
       "  <thead>\n",
       "    <tr style=\"text-align: right;\">\n",
       "      <th></th>\n",
       "      <th>id</th>\n",
       "      <th>title</th>\n",
       "      <th>genre</th>\n",
       "      <th>original_language</th>\n",
       "      <th>overview</th>\n",
       "      <th>popularity</th>\n",
       "      <th>release_date</th>\n",
       "      <th>vote_average</th>\n",
       "      <th>vote_count</th>\n",
       "    </tr>\n",
       "  </thead>\n",
       "  <tbody>\n",
       "    <tr>\n",
       "      <th>0</th>\n",
       "      <td>27205</td>\n",
       "      <td>Inception</td>\n",
       "      <td>Action,Science Fiction,Adventure</td>\n",
       "      <td>en</td>\n",
       "      <td>Cobb, a skilled thief who commits corporate es...</td>\n",
       "      <td>111.757</td>\n",
       "      <td>7/15/2010</td>\n",
       "      <td>8.4</td>\n",
       "      <td>31917</td>\n",
       "    </tr>\n",
       "    <tr>\n",
       "      <th>1</th>\n",
       "      <td>157336</td>\n",
       "      <td>Interstellar</td>\n",
       "      <td>Adventure,Drama,Science Fiction</td>\n",
       "      <td>en</td>\n",
       "      <td>The adventures of a group of explorers who mak...</td>\n",
       "      <td>191.220</td>\n",
       "      <td>11/5/2014</td>\n",
       "      <td>8.4</td>\n",
       "      <td>28920</td>\n",
       "    </tr>\n",
       "    <tr>\n",
       "      <th>2</th>\n",
       "      <td>155</td>\n",
       "      <td>The Dark Knight</td>\n",
       "      <td>Drama,Action,Crime,Thriller</td>\n",
       "      <td>en</td>\n",
       "      <td>Batman raises the stakes in his war on crime. ...</td>\n",
       "      <td>82.230</td>\n",
       "      <td>7/14/2008</td>\n",
       "      <td>8.5</td>\n",
       "      <td>27925</td>\n",
       "    </tr>\n",
       "    <tr>\n",
       "      <th>3</th>\n",
       "      <td>24428</td>\n",
       "      <td>The Avengers</td>\n",
       "      <td>Science Fiction,Action,Adventure</td>\n",
       "      <td>en</td>\n",
       "      <td>When an unexpected enemy emerges and threatens...</td>\n",
       "      <td>278.980</td>\n",
       "      <td>4/25/2012</td>\n",
       "      <td>7.7</td>\n",
       "      <td>27250</td>\n",
       "    </tr>\n",
       "    <tr>\n",
       "      <th>4</th>\n",
       "      <td>293660</td>\n",
       "      <td>Deadpool</td>\n",
       "      <td>Action,Adventure,Comedy</td>\n",
       "      <td>en</td>\n",
       "      <td>The origin story of former Special Forces oper...</td>\n",
       "      <td>230.309</td>\n",
       "      <td>2/9/2016</td>\n",
       "      <td>7.6</td>\n",
       "      <td>27028</td>\n",
       "    </tr>\n",
       "    <tr>\n",
       "      <th>5</th>\n",
       "      <td>19995</td>\n",
       "      <td>Avatar</td>\n",
       "      <td>Action,Adventure,Fantasy,Science Fiction</td>\n",
       "      <td>en</td>\n",
       "      <td>In the 22nd century, a paraplegic Marine is di...</td>\n",
       "      <td>386.124</td>\n",
       "      <td>12/10/2009</td>\n",
       "      <td>7.5</td>\n",
       "      <td>25759</td>\n",
       "    </tr>\n",
       "    <tr>\n",
       "      <th>6</th>\n",
       "      <td>299536</td>\n",
       "      <td>Avengers: Infinity War</td>\n",
       "      <td>Adventure,Action,Science Fiction</td>\n",
       "      <td>en</td>\n",
       "      <td>As the Avengers and their allies have continue...</td>\n",
       "      <td>475.535</td>\n",
       "      <td>4/25/2018</td>\n",
       "      <td>8.3</td>\n",
       "      <td>25020</td>\n",
       "    </tr>\n",
       "    <tr>\n",
       "      <th>7</th>\n",
       "      <td>118340</td>\n",
       "      <td>Guardians of the Galaxy</td>\n",
       "      <td>Action,Science Fiction,Adventure</td>\n",
       "      <td>en</td>\n",
       "      <td>Light years from Earth, 26 years after being a...</td>\n",
       "      <td>80.592</td>\n",
       "      <td>7/30/2014</td>\n",
       "      <td>7.9</td>\n",
       "      <td>24684</td>\n",
       "    </tr>\n",
       "    <tr>\n",
       "      <th>8</th>\n",
       "      <td>550</td>\n",
       "      <td>Fight Club</td>\n",
       "      <td>Drama</td>\n",
       "      <td>en</td>\n",
       "      <td>A ticking-time-bomb insomniac and a slippery s...</td>\n",
       "      <td>58.676</td>\n",
       "      <td>10/15/1999</td>\n",
       "      <td>8.4</td>\n",
       "      <td>24441</td>\n",
       "    </tr>\n",
       "    <tr>\n",
       "      <th>9</th>\n",
       "      <td>680</td>\n",
       "      <td>Pulp Fiction</td>\n",
       "      <td>Thriller,Crime</td>\n",
       "      <td>en</td>\n",
       "      <td>A burger-loving hit man, his philosophical par...</td>\n",
       "      <td>67.224</td>\n",
       "      <td>9/10/1994</td>\n",
       "      <td>8.5</td>\n",
       "      <td>23481</td>\n",
       "    </tr>\n",
       "  </tbody>\n",
       "</table>\n",
       "</div>"
      ]
     },
     "execution_count": 14,
     "metadata": {},
     "output_type": "execute_result"
    }
   ],
   "execution_count": 14
  },
  {
   "cell_type": "code",
   "id": "7485c5d2",
   "metadata": {
    "colab": {
     "base_uri": "https://localhost:8080/",
     "height": 300
    },
    "id": "7485c5d2",
    "outputId": "b77dcc05-7593-402a-e9be-925a2d58a5f5",
    "ExecuteTime": {
     "end_time": "2024-08-03T09:28:18.536525Z",
     "start_time": "2024-08-03T09:28:18.507517Z"
    }
   },
   "source": [
    "movies.describe()"
   ],
   "outputs": [
    {
     "data": {
      "text/plain": [
       "                  id    popularity  vote_average    vote_count\n",
       "count   10000.000000  10000.000000  10000.000000  10000.000000\n",
       "mean   161243.505000     34.697267      6.621150   1547.309400\n",
       "std    211422.046043    211.684175      0.766231   2648.295789\n",
       "min         5.000000      0.600000      4.600000    200.000000\n",
       "25%     10127.750000      9.154750      6.100000    315.000000\n",
       "50%     30002.500000     13.637500      6.600000    583.500000\n",
       "75%    310133.500000     25.651250      7.200000   1460.000000\n",
       "max    934761.000000  10436.917000      8.700000  31917.000000"
      ],
      "text/html": [
       "<div>\n",
       "<style scoped>\n",
       "    .dataframe tbody tr th:only-of-type {\n",
       "        vertical-align: middle;\n",
       "    }\n",
       "\n",
       "    .dataframe tbody tr th {\n",
       "        vertical-align: top;\n",
       "    }\n",
       "\n",
       "    .dataframe thead th {\n",
       "        text-align: right;\n",
       "    }\n",
       "</style>\n",
       "<table border=\"1\" class=\"dataframe\">\n",
       "  <thead>\n",
       "    <tr style=\"text-align: right;\">\n",
       "      <th></th>\n",
       "      <th>id</th>\n",
       "      <th>popularity</th>\n",
       "      <th>vote_average</th>\n",
       "      <th>vote_count</th>\n",
       "    </tr>\n",
       "  </thead>\n",
       "  <tbody>\n",
       "    <tr>\n",
       "      <th>count</th>\n",
       "      <td>10000.000000</td>\n",
       "      <td>10000.000000</td>\n",
       "      <td>10000.000000</td>\n",
       "      <td>10000.000000</td>\n",
       "    </tr>\n",
       "    <tr>\n",
       "      <th>mean</th>\n",
       "      <td>161243.505000</td>\n",
       "      <td>34.697267</td>\n",
       "      <td>6.621150</td>\n",
       "      <td>1547.309400</td>\n",
       "    </tr>\n",
       "    <tr>\n",
       "      <th>std</th>\n",
       "      <td>211422.046043</td>\n",
       "      <td>211.684175</td>\n",
       "      <td>0.766231</td>\n",
       "      <td>2648.295789</td>\n",
       "    </tr>\n",
       "    <tr>\n",
       "      <th>min</th>\n",
       "      <td>5.000000</td>\n",
       "      <td>0.600000</td>\n",
       "      <td>4.600000</td>\n",
       "      <td>200.000000</td>\n",
       "    </tr>\n",
       "    <tr>\n",
       "      <th>25%</th>\n",
       "      <td>10127.750000</td>\n",
       "      <td>9.154750</td>\n",
       "      <td>6.100000</td>\n",
       "      <td>315.000000</td>\n",
       "    </tr>\n",
       "    <tr>\n",
       "      <th>50%</th>\n",
       "      <td>30002.500000</td>\n",
       "      <td>13.637500</td>\n",
       "      <td>6.600000</td>\n",
       "      <td>583.500000</td>\n",
       "    </tr>\n",
       "    <tr>\n",
       "      <th>75%</th>\n",
       "      <td>310133.500000</td>\n",
       "      <td>25.651250</td>\n",
       "      <td>7.200000</td>\n",
       "      <td>1460.000000</td>\n",
       "    </tr>\n",
       "    <tr>\n",
       "      <th>max</th>\n",
       "      <td>934761.000000</td>\n",
       "      <td>10436.917000</td>\n",
       "      <td>8.700000</td>\n",
       "      <td>31917.000000</td>\n",
       "    </tr>\n",
       "  </tbody>\n",
       "</table>\n",
       "</div>"
      ]
     },
     "execution_count": 15,
     "metadata": {},
     "output_type": "execute_result"
    }
   ],
   "execution_count": 15
  },
  {
   "cell_type": "code",
   "id": "017fc86e",
   "metadata": {
    "colab": {
     "base_uri": "https://localhost:8080/"
    },
    "id": "017fc86e",
    "outputId": "abb8c231-539c-4673-b7ae-82d43b14b406",
    "ExecuteTime": {
     "end_time": "2024-08-03T09:28:18.659252Z",
     "start_time": "2024-08-03T09:28:18.630738Z"
    }
   },
   "source": [
    "movies.info()"
   ],
   "outputs": [
    {
     "name": "stdout",
     "output_type": "stream",
     "text": [
      "<class 'pandas.core.frame.DataFrame'>\n",
      "RangeIndex: 10000 entries, 0 to 9999\n",
      "Data columns (total 9 columns):\n",
      " #   Column             Non-Null Count  Dtype  \n",
      "---  ------             --------------  -----  \n",
      " 0   id                 10000 non-null  int64  \n",
      " 1   title              10000 non-null  object \n",
      " 2   genre              9997 non-null   object \n",
      " 3   original_language  10000 non-null  object \n",
      " 4   overview           9987 non-null   object \n",
      " 5   popularity         10000 non-null  float64\n",
      " 6   release_date       10000 non-null  object \n",
      " 7   vote_average       10000 non-null  float64\n",
      " 8   vote_count         10000 non-null  int64  \n",
      "dtypes: float64(2), int64(2), object(5)\n",
      "memory usage: 703.2+ KB\n"
     ]
    }
   ],
   "execution_count": 16
  },
  {
   "cell_type": "code",
   "id": "903ea29b",
   "metadata": {
    "colab": {
     "base_uri": "https://localhost:8080/",
     "height": 366
    },
    "id": "903ea29b",
    "outputId": "31ae37bb-b076-49ae-833d-332d7f570310",
    "ExecuteTime": {
     "end_time": "2024-08-03T09:28:18.891615Z",
     "start_time": "2024-08-03T09:28:18.878612Z"
    }
   },
   "source": [
    "movies.isnull().sum()"
   ],
   "outputs": [
    {
     "data": {
      "text/plain": [
       "id                    0\n",
       "title                 0\n",
       "genre                 3\n",
       "original_language     0\n",
       "overview             13\n",
       "popularity            0\n",
       "release_date          0\n",
       "vote_average          0\n",
       "vote_count            0\n",
       "dtype: int64"
      ]
     },
     "execution_count": 17,
     "metadata": {},
     "output_type": "execute_result"
    }
   ],
   "execution_count": 17
  },
  {
   "cell_type": "markdown",
   "id": "8d08a5cf",
   "metadata": {
    "id": "8d08a5cf"
   },
   "source": [
    "Feature Selection Part"
   ]
  },
  {
   "cell_type": "code",
   "id": "f4c03a00",
   "metadata": {
    "colab": {
     "base_uri": "https://localhost:8080/"
    },
    "id": "f4c03a00",
    "outputId": "e8cfb41b-d7d2-48e3-962f-27d6dc0008c6",
    "ExecuteTime": {
     "end_time": "2024-08-03T09:28:19.141723Z",
     "start_time": "2024-08-03T09:28:19.128720Z"
    }
   },
   "source": [
    "movies.columns"
   ],
   "outputs": [
    {
     "data": {
      "text/plain": [
       "Index(['id', 'title', 'genre', 'original_language', 'overview', 'popularity',\n",
       "       'release_date', 'vote_average', 'vote_count'],\n",
       "      dtype='object')"
      ]
     },
     "execution_count": 18,
     "metadata": {},
     "output_type": "execute_result"
    }
   ],
   "execution_count": 18
  },
  {
   "cell_type": "code",
   "id": "0a54c777",
   "metadata": {
    "id": "0a54c777",
    "ExecuteTime": {
     "end_time": "2024-08-03T09:28:19.267999Z",
     "start_time": "2024-08-03T09:28:19.260998Z"
    }
   },
   "source": [
    "movies=movies[['id', 'title', 'overview', 'genre']]"
   ],
   "outputs": [],
   "execution_count": 19
  },
  {
   "cell_type": "code",
   "id": "9e6b07f3",
   "metadata": {
    "colab": {
     "base_uri": "https://localhost:8080/",
     "height": 423
    },
    "id": "9e6b07f3",
    "outputId": "47fd08ca-fd3c-4512-bc80-ce2e4db80583",
    "ExecuteTime": {
     "end_time": "2024-08-03T09:28:19.408691Z",
     "start_time": "2024-08-03T09:28:19.397181Z"
    }
   },
   "source": [
    "movies"
   ],
   "outputs": [
    {
     "data": {
      "text/plain": [
       "          id                     title  \\\n",
       "0      27205                 Inception   \n",
       "1     157336              Interstellar   \n",
       "2        155           The Dark Knight   \n",
       "3      24428              The Avengers   \n",
       "4     293660                  Deadpool   \n",
       "...      ...                       ...   \n",
       "9995   28569     Splendor in the Grass   \n",
       "9996    4952               Pillow Talk   \n",
       "9997   15515  The 7th Voyage of Sinbad   \n",
       "9998    9077                 Tarantula   \n",
       "9999   12232       The Thief of Bagdad   \n",
       "\n",
       "                                               overview  \\\n",
       "0     Cobb, a skilled thief who commits corporate es...   \n",
       "1     The adventures of a group of explorers who mak...   \n",
       "2     Batman raises the stakes in his war on crime. ...   \n",
       "3     When an unexpected enemy emerges and threatens...   \n",
       "4     The origin story of former Special Forces oper...   \n",
       "...                                                 ...   \n",
       "9995  A fragile Kansas girl's unrequited and forbidd...   \n",
       "9996  A man and woman share a telephone line and des...   \n",
       "9997  When a princess is shrunken by an evil wizard,...   \n",
       "9998  A lone-wolf scientist sequestered in a mansion...   \n",
       "9999  When Prince Ahmad is blinded and cast out of B...   \n",
       "\n",
       "                                 genre  \n",
       "0     Action,Science Fiction,Adventure  \n",
       "1      Adventure,Drama,Science Fiction  \n",
       "2          Drama,Action,Crime,Thriller  \n",
       "3     Science Fiction,Action,Adventure  \n",
       "4              Action,Adventure,Comedy  \n",
       "...                                ...  \n",
       "9995                     Drama,Romance  \n",
       "9996                    Comedy,Romance  \n",
       "9997   Action,Adventure,Family,Fantasy  \n",
       "9998   Horror,Science Fiction,Thriller  \n",
       "9999   Action,Adventure,Family,Fantasy  \n",
       "\n",
       "[10000 rows x 4 columns]"
      ],
      "text/html": [
       "<div>\n",
       "<style scoped>\n",
       "    .dataframe tbody tr th:only-of-type {\n",
       "        vertical-align: middle;\n",
       "    }\n",
       "\n",
       "    .dataframe tbody tr th {\n",
       "        vertical-align: top;\n",
       "    }\n",
       "\n",
       "    .dataframe thead th {\n",
       "        text-align: right;\n",
       "    }\n",
       "</style>\n",
       "<table border=\"1\" class=\"dataframe\">\n",
       "  <thead>\n",
       "    <tr style=\"text-align: right;\">\n",
       "      <th></th>\n",
       "      <th>id</th>\n",
       "      <th>title</th>\n",
       "      <th>overview</th>\n",
       "      <th>genre</th>\n",
       "    </tr>\n",
       "  </thead>\n",
       "  <tbody>\n",
       "    <tr>\n",
       "      <th>0</th>\n",
       "      <td>27205</td>\n",
       "      <td>Inception</td>\n",
       "      <td>Cobb, a skilled thief who commits corporate es...</td>\n",
       "      <td>Action,Science Fiction,Adventure</td>\n",
       "    </tr>\n",
       "    <tr>\n",
       "      <th>1</th>\n",
       "      <td>157336</td>\n",
       "      <td>Interstellar</td>\n",
       "      <td>The adventures of a group of explorers who mak...</td>\n",
       "      <td>Adventure,Drama,Science Fiction</td>\n",
       "    </tr>\n",
       "    <tr>\n",
       "      <th>2</th>\n",
       "      <td>155</td>\n",
       "      <td>The Dark Knight</td>\n",
       "      <td>Batman raises the stakes in his war on crime. ...</td>\n",
       "      <td>Drama,Action,Crime,Thriller</td>\n",
       "    </tr>\n",
       "    <tr>\n",
       "      <th>3</th>\n",
       "      <td>24428</td>\n",
       "      <td>The Avengers</td>\n",
       "      <td>When an unexpected enemy emerges and threatens...</td>\n",
       "      <td>Science Fiction,Action,Adventure</td>\n",
       "    </tr>\n",
       "    <tr>\n",
       "      <th>4</th>\n",
       "      <td>293660</td>\n",
       "      <td>Deadpool</td>\n",
       "      <td>The origin story of former Special Forces oper...</td>\n",
       "      <td>Action,Adventure,Comedy</td>\n",
       "    </tr>\n",
       "    <tr>\n",
       "      <th>...</th>\n",
       "      <td>...</td>\n",
       "      <td>...</td>\n",
       "      <td>...</td>\n",
       "      <td>...</td>\n",
       "    </tr>\n",
       "    <tr>\n",
       "      <th>9995</th>\n",
       "      <td>28569</td>\n",
       "      <td>Splendor in the Grass</td>\n",
       "      <td>A fragile Kansas girl's unrequited and forbidd...</td>\n",
       "      <td>Drama,Romance</td>\n",
       "    </tr>\n",
       "    <tr>\n",
       "      <th>9996</th>\n",
       "      <td>4952</td>\n",
       "      <td>Pillow Talk</td>\n",
       "      <td>A man and woman share a telephone line and des...</td>\n",
       "      <td>Comedy,Romance</td>\n",
       "    </tr>\n",
       "    <tr>\n",
       "      <th>9997</th>\n",
       "      <td>15515</td>\n",
       "      <td>The 7th Voyage of Sinbad</td>\n",
       "      <td>When a princess is shrunken by an evil wizard,...</td>\n",
       "      <td>Action,Adventure,Family,Fantasy</td>\n",
       "    </tr>\n",
       "    <tr>\n",
       "      <th>9998</th>\n",
       "      <td>9077</td>\n",
       "      <td>Tarantula</td>\n",
       "      <td>A lone-wolf scientist sequestered in a mansion...</td>\n",
       "      <td>Horror,Science Fiction,Thriller</td>\n",
       "    </tr>\n",
       "    <tr>\n",
       "      <th>9999</th>\n",
       "      <td>12232</td>\n",
       "      <td>The Thief of Bagdad</td>\n",
       "      <td>When Prince Ahmad is blinded and cast out of B...</td>\n",
       "      <td>Action,Adventure,Family,Fantasy</td>\n",
       "    </tr>\n",
       "  </tbody>\n",
       "</table>\n",
       "<p>10000 rows × 4 columns</p>\n",
       "</div>"
      ]
     },
     "execution_count": 20,
     "metadata": {},
     "output_type": "execute_result"
    }
   ],
   "execution_count": 20
  },
  {
   "cell_type": "code",
   "id": "e6677b81",
   "metadata": {
    "id": "e6677b81",
    "ExecuteTime": {
     "end_time": "2024-08-03T09:28:20.370554Z",
     "start_time": "2024-08-03T09:28:20.350097Z"
    }
   },
   "source": [
    "movies['tags'] = movies['overview']+movies['genre']"
   ],
   "outputs": [],
   "execution_count": 21
  },
  {
   "cell_type": "code",
   "id": "c8bd5650",
   "metadata": {
    "colab": {
     "base_uri": "https://localhost:8080/",
     "height": 476
    },
    "id": "c8bd5650",
    "outputId": "15100d3e-ff24-4dd5-e4ac-bbfc55a842a7",
    "ExecuteTime": {
     "end_time": "2024-08-03T09:28:20.961970Z",
     "start_time": "2024-08-03T09:28:20.941951Z"
    }
   },
   "source": [
    "movies"
   ],
   "outputs": [
    {
     "data": {
      "text/plain": [
       "          id                     title  \\\n",
       "0      27205                 Inception   \n",
       "1     157336              Interstellar   \n",
       "2        155           The Dark Knight   \n",
       "3      24428              The Avengers   \n",
       "4     293660                  Deadpool   \n",
       "...      ...                       ...   \n",
       "9995   28569     Splendor in the Grass   \n",
       "9996    4952               Pillow Talk   \n",
       "9997   15515  The 7th Voyage of Sinbad   \n",
       "9998    9077                 Tarantula   \n",
       "9999   12232       The Thief of Bagdad   \n",
       "\n",
       "                                               overview  \\\n",
       "0     Cobb, a skilled thief who commits corporate es...   \n",
       "1     The adventures of a group of explorers who mak...   \n",
       "2     Batman raises the stakes in his war on crime. ...   \n",
       "3     When an unexpected enemy emerges and threatens...   \n",
       "4     The origin story of former Special Forces oper...   \n",
       "...                                                 ...   \n",
       "9995  A fragile Kansas girl's unrequited and forbidd...   \n",
       "9996  A man and woman share a telephone line and des...   \n",
       "9997  When a princess is shrunken by an evil wizard,...   \n",
       "9998  A lone-wolf scientist sequestered in a mansion...   \n",
       "9999  When Prince Ahmad is blinded and cast out of B...   \n",
       "\n",
       "                                 genre  \\\n",
       "0     Action,Science Fiction,Adventure   \n",
       "1      Adventure,Drama,Science Fiction   \n",
       "2          Drama,Action,Crime,Thriller   \n",
       "3     Science Fiction,Action,Adventure   \n",
       "4              Action,Adventure,Comedy   \n",
       "...                                ...   \n",
       "9995                     Drama,Romance   \n",
       "9996                    Comedy,Romance   \n",
       "9997   Action,Adventure,Family,Fantasy   \n",
       "9998   Horror,Science Fiction,Thriller   \n",
       "9999   Action,Adventure,Family,Fantasy   \n",
       "\n",
       "                                                   tags  \n",
       "0     Cobb, a skilled thief who commits corporate es...  \n",
       "1     The adventures of a group of explorers who mak...  \n",
       "2     Batman raises the stakes in his war on crime. ...  \n",
       "3     When an unexpected enemy emerges and threatens...  \n",
       "4     The origin story of former Special Forces oper...  \n",
       "...                                                 ...  \n",
       "9995  A fragile Kansas girl's unrequited and forbidd...  \n",
       "9996  A man and woman share a telephone line and des...  \n",
       "9997  When a princess is shrunken by an evil wizard,...  \n",
       "9998  A lone-wolf scientist sequestered in a mansion...  \n",
       "9999  When Prince Ahmad is blinded and cast out of B...  \n",
       "\n",
       "[10000 rows x 5 columns]"
      ],
      "text/html": [
       "<div>\n",
       "<style scoped>\n",
       "    .dataframe tbody tr th:only-of-type {\n",
       "        vertical-align: middle;\n",
       "    }\n",
       "\n",
       "    .dataframe tbody tr th {\n",
       "        vertical-align: top;\n",
       "    }\n",
       "\n",
       "    .dataframe thead th {\n",
       "        text-align: right;\n",
       "    }\n",
       "</style>\n",
       "<table border=\"1\" class=\"dataframe\">\n",
       "  <thead>\n",
       "    <tr style=\"text-align: right;\">\n",
       "      <th></th>\n",
       "      <th>id</th>\n",
       "      <th>title</th>\n",
       "      <th>overview</th>\n",
       "      <th>genre</th>\n",
       "      <th>tags</th>\n",
       "    </tr>\n",
       "  </thead>\n",
       "  <tbody>\n",
       "    <tr>\n",
       "      <th>0</th>\n",
       "      <td>27205</td>\n",
       "      <td>Inception</td>\n",
       "      <td>Cobb, a skilled thief who commits corporate es...</td>\n",
       "      <td>Action,Science Fiction,Adventure</td>\n",
       "      <td>Cobb, a skilled thief who commits corporate es...</td>\n",
       "    </tr>\n",
       "    <tr>\n",
       "      <th>1</th>\n",
       "      <td>157336</td>\n",
       "      <td>Interstellar</td>\n",
       "      <td>The adventures of a group of explorers who mak...</td>\n",
       "      <td>Adventure,Drama,Science Fiction</td>\n",
       "      <td>The adventures of a group of explorers who mak...</td>\n",
       "    </tr>\n",
       "    <tr>\n",
       "      <th>2</th>\n",
       "      <td>155</td>\n",
       "      <td>The Dark Knight</td>\n",
       "      <td>Batman raises the stakes in his war on crime. ...</td>\n",
       "      <td>Drama,Action,Crime,Thriller</td>\n",
       "      <td>Batman raises the stakes in his war on crime. ...</td>\n",
       "    </tr>\n",
       "    <tr>\n",
       "      <th>3</th>\n",
       "      <td>24428</td>\n",
       "      <td>The Avengers</td>\n",
       "      <td>When an unexpected enemy emerges and threatens...</td>\n",
       "      <td>Science Fiction,Action,Adventure</td>\n",
       "      <td>When an unexpected enemy emerges and threatens...</td>\n",
       "    </tr>\n",
       "    <tr>\n",
       "      <th>4</th>\n",
       "      <td>293660</td>\n",
       "      <td>Deadpool</td>\n",
       "      <td>The origin story of former Special Forces oper...</td>\n",
       "      <td>Action,Adventure,Comedy</td>\n",
       "      <td>The origin story of former Special Forces oper...</td>\n",
       "    </tr>\n",
       "    <tr>\n",
       "      <th>...</th>\n",
       "      <td>...</td>\n",
       "      <td>...</td>\n",
       "      <td>...</td>\n",
       "      <td>...</td>\n",
       "      <td>...</td>\n",
       "    </tr>\n",
       "    <tr>\n",
       "      <th>9995</th>\n",
       "      <td>28569</td>\n",
       "      <td>Splendor in the Grass</td>\n",
       "      <td>A fragile Kansas girl's unrequited and forbidd...</td>\n",
       "      <td>Drama,Romance</td>\n",
       "      <td>A fragile Kansas girl's unrequited and forbidd...</td>\n",
       "    </tr>\n",
       "    <tr>\n",
       "      <th>9996</th>\n",
       "      <td>4952</td>\n",
       "      <td>Pillow Talk</td>\n",
       "      <td>A man and woman share a telephone line and des...</td>\n",
       "      <td>Comedy,Romance</td>\n",
       "      <td>A man and woman share a telephone line and des...</td>\n",
       "    </tr>\n",
       "    <tr>\n",
       "      <th>9997</th>\n",
       "      <td>15515</td>\n",
       "      <td>The 7th Voyage of Sinbad</td>\n",
       "      <td>When a princess is shrunken by an evil wizard,...</td>\n",
       "      <td>Action,Adventure,Family,Fantasy</td>\n",
       "      <td>When a princess is shrunken by an evil wizard,...</td>\n",
       "    </tr>\n",
       "    <tr>\n",
       "      <th>9998</th>\n",
       "      <td>9077</td>\n",
       "      <td>Tarantula</td>\n",
       "      <td>A lone-wolf scientist sequestered in a mansion...</td>\n",
       "      <td>Horror,Science Fiction,Thriller</td>\n",
       "      <td>A lone-wolf scientist sequestered in a mansion...</td>\n",
       "    </tr>\n",
       "    <tr>\n",
       "      <th>9999</th>\n",
       "      <td>12232</td>\n",
       "      <td>The Thief of Bagdad</td>\n",
       "      <td>When Prince Ahmad is blinded and cast out of B...</td>\n",
       "      <td>Action,Adventure,Family,Fantasy</td>\n",
       "      <td>When Prince Ahmad is blinded and cast out of B...</td>\n",
       "    </tr>\n",
       "  </tbody>\n",
       "</table>\n",
       "<p>10000 rows × 5 columns</p>\n",
       "</div>"
      ]
     },
     "execution_count": 22,
     "metadata": {},
     "output_type": "execute_result"
    }
   ],
   "execution_count": 22
  },
  {
   "cell_type": "code",
   "source": [
    "# movies['overview'] = movies['overview'].fillna('')"
   ],
   "metadata": {
    "id": "yqNVPmZjftJK",
    "ExecuteTime": {
     "end_time": "2024-08-03T09:28:22.126979Z",
     "start_time": "2024-08-03T09:28:22.117976Z"
    }
   },
   "id": "yqNVPmZjftJK",
   "outputs": [],
   "execution_count": 23
  },
  {
   "cell_type": "code",
   "id": "30e6fe24",
   "metadata": {
    "id": "30e6fe24",
    "ExecuteTime": {
     "end_time": "2024-08-03T09:28:22.313487Z",
     "start_time": "2024-08-03T09:28:22.300017Z"
    }
   },
   "source": [
    "new_data  = movies.drop(columns=['overview', 'genre'])"
   ],
   "outputs": [],
   "execution_count": 24
  },
  {
   "cell_type": "code",
   "source": [
    "# new_data = movies"
   ],
   "metadata": {
    "id": "renPraBjf-dF",
    "ExecuteTime": {
     "end_time": "2024-08-03T09:28:22.484251Z",
     "start_time": "2024-08-03T09:28:22.476745Z"
    }
   },
   "id": "renPraBjf-dF",
   "outputs": [],
   "execution_count": 25
  },
  {
   "cell_type": "code",
   "source": [
    "# new_data['overview'] = new_data['overview'].fillna('')"
   ],
   "metadata": {
    "id": "Bxzvt1JWf3Vi",
    "ExecuteTime": {
     "end_time": "2024-08-03T09:28:22.909212Z",
     "start_time": "2024-08-03T09:28:22.902748Z"
    }
   },
   "id": "Bxzvt1JWf3Vi",
   "outputs": [],
   "execution_count": 26
  },
  {
   "cell_type": "code",
   "id": "c7469d83",
   "metadata": {
    "colab": {
     "base_uri": "https://localhost:8080/",
     "height": 423
    },
    "id": "c7469d83",
    "outputId": "d056c903-c5c2-48b0-fe14-c409b6cb0025",
    "ExecuteTime": {
     "end_time": "2024-08-03T09:28:23.124154Z",
     "start_time": "2024-08-03T09:28:23.109151Z"
    }
   },
   "source": [
    "new_data"
   ],
   "outputs": [
    {
     "data": {
      "text/plain": [
       "          id                     title  \\\n",
       "0      27205                 Inception   \n",
       "1     157336              Interstellar   \n",
       "2        155           The Dark Knight   \n",
       "3      24428              The Avengers   \n",
       "4     293660                  Deadpool   \n",
       "...      ...                       ...   \n",
       "9995   28569     Splendor in the Grass   \n",
       "9996    4952               Pillow Talk   \n",
       "9997   15515  The 7th Voyage of Sinbad   \n",
       "9998    9077                 Tarantula   \n",
       "9999   12232       The Thief of Bagdad   \n",
       "\n",
       "                                                   tags  \n",
       "0     Cobb, a skilled thief who commits corporate es...  \n",
       "1     The adventures of a group of explorers who mak...  \n",
       "2     Batman raises the stakes in his war on crime. ...  \n",
       "3     When an unexpected enemy emerges and threatens...  \n",
       "4     The origin story of former Special Forces oper...  \n",
       "...                                                 ...  \n",
       "9995  A fragile Kansas girl's unrequited and forbidd...  \n",
       "9996  A man and woman share a telephone line and des...  \n",
       "9997  When a princess is shrunken by an evil wizard,...  \n",
       "9998  A lone-wolf scientist sequestered in a mansion...  \n",
       "9999  When Prince Ahmad is blinded and cast out of B...  \n",
       "\n",
       "[10000 rows x 3 columns]"
      ],
      "text/html": [
       "<div>\n",
       "<style scoped>\n",
       "    .dataframe tbody tr th:only-of-type {\n",
       "        vertical-align: middle;\n",
       "    }\n",
       "\n",
       "    .dataframe tbody tr th {\n",
       "        vertical-align: top;\n",
       "    }\n",
       "\n",
       "    .dataframe thead th {\n",
       "        text-align: right;\n",
       "    }\n",
       "</style>\n",
       "<table border=\"1\" class=\"dataframe\">\n",
       "  <thead>\n",
       "    <tr style=\"text-align: right;\">\n",
       "      <th></th>\n",
       "      <th>id</th>\n",
       "      <th>title</th>\n",
       "      <th>tags</th>\n",
       "    </tr>\n",
       "  </thead>\n",
       "  <tbody>\n",
       "    <tr>\n",
       "      <th>0</th>\n",
       "      <td>27205</td>\n",
       "      <td>Inception</td>\n",
       "      <td>Cobb, a skilled thief who commits corporate es...</td>\n",
       "    </tr>\n",
       "    <tr>\n",
       "      <th>1</th>\n",
       "      <td>157336</td>\n",
       "      <td>Interstellar</td>\n",
       "      <td>The adventures of a group of explorers who mak...</td>\n",
       "    </tr>\n",
       "    <tr>\n",
       "      <th>2</th>\n",
       "      <td>155</td>\n",
       "      <td>The Dark Knight</td>\n",
       "      <td>Batman raises the stakes in his war on crime. ...</td>\n",
       "    </tr>\n",
       "    <tr>\n",
       "      <th>3</th>\n",
       "      <td>24428</td>\n",
       "      <td>The Avengers</td>\n",
       "      <td>When an unexpected enemy emerges and threatens...</td>\n",
       "    </tr>\n",
       "    <tr>\n",
       "      <th>4</th>\n",
       "      <td>293660</td>\n",
       "      <td>Deadpool</td>\n",
       "      <td>The origin story of former Special Forces oper...</td>\n",
       "    </tr>\n",
       "    <tr>\n",
       "      <th>...</th>\n",
       "      <td>...</td>\n",
       "      <td>...</td>\n",
       "      <td>...</td>\n",
       "    </tr>\n",
       "    <tr>\n",
       "      <th>9995</th>\n",
       "      <td>28569</td>\n",
       "      <td>Splendor in the Grass</td>\n",
       "      <td>A fragile Kansas girl's unrequited and forbidd...</td>\n",
       "    </tr>\n",
       "    <tr>\n",
       "      <th>9996</th>\n",
       "      <td>4952</td>\n",
       "      <td>Pillow Talk</td>\n",
       "      <td>A man and woman share a telephone line and des...</td>\n",
       "    </tr>\n",
       "    <tr>\n",
       "      <th>9997</th>\n",
       "      <td>15515</td>\n",
       "      <td>The 7th Voyage of Sinbad</td>\n",
       "      <td>When a princess is shrunken by an evil wizard,...</td>\n",
       "    </tr>\n",
       "    <tr>\n",
       "      <th>9998</th>\n",
       "      <td>9077</td>\n",
       "      <td>Tarantula</td>\n",
       "      <td>A lone-wolf scientist sequestered in a mansion...</td>\n",
       "    </tr>\n",
       "    <tr>\n",
       "      <th>9999</th>\n",
       "      <td>12232</td>\n",
       "      <td>The Thief of Bagdad</td>\n",
       "      <td>When Prince Ahmad is blinded and cast out of B...</td>\n",
       "    </tr>\n",
       "  </tbody>\n",
       "</table>\n",
       "<p>10000 rows × 3 columns</p>\n",
       "</div>"
      ]
     },
     "execution_count": 27,
     "metadata": {},
     "output_type": "execute_result"
    }
   ],
   "execution_count": 27
  },
  {
   "cell_type": "code",
   "id": "5c40b711",
   "metadata": {
    "id": "5c40b711",
    "ExecuteTime": {
     "end_time": "2024-08-03T09:28:25.381446Z",
     "start_time": "2024-08-03T09:28:24.605097Z"
    }
   },
   "source": [
    "from transformers import BertTokenizer, BertModel\n",
    "import torch"
   ],
   "outputs": [
    {
     "ename": "RuntimeError",
     "evalue": "Failed to import transformers.models.bert.modeling_bert because of the following error (look up to see its traceback):\nFailed to import transformers.onnx.config because of the following error (look up to see its traceback):\nDLL load failed while importing _imaging: The specified module could not be found.",
     "output_type": "error",
     "traceback": [
      "\u001B[1;31m---------------------------------------------------------------------------\u001B[0m",
      "\u001B[1;31mImportError\u001B[0m                               Traceback (most recent call last)",
      "File \u001B[1;32mE:\\anaconda3\\envs\\Movie_Recommendation_System_Project\\lib\\site-packages\\transformers\\utils\\import_utils.py:1586\u001B[0m, in \u001B[0;36m_LazyModule._get_module\u001B[1;34m(self, module_name)\u001B[0m\n\u001B[0;32m   1585\u001B[0m \u001B[38;5;28;01mtry\u001B[39;00m:\n\u001B[1;32m-> 1586\u001B[0m     \u001B[38;5;28;01mreturn\u001B[39;00m \u001B[43mimportlib\u001B[49m\u001B[38;5;241;43m.\u001B[39;49m\u001B[43mimport_module\u001B[49m\u001B[43m(\u001B[49m\u001B[38;5;124;43m\"\u001B[39;49m\u001B[38;5;124;43m.\u001B[39;49m\u001B[38;5;124;43m\"\u001B[39;49m\u001B[43m \u001B[49m\u001B[38;5;241;43m+\u001B[39;49m\u001B[43m \u001B[49m\u001B[43mmodule_name\u001B[49m\u001B[43m,\u001B[49m\u001B[43m \u001B[49m\u001B[38;5;28;43mself\u001B[39;49m\u001B[38;5;241;43m.\u001B[39;49m\u001B[38;5;18;43m__name__\u001B[39;49m\u001B[43m)\u001B[49m\n\u001B[0;32m   1587\u001B[0m \u001B[38;5;28;01mexcept\u001B[39;00m \u001B[38;5;167;01mException\u001B[39;00m \u001B[38;5;28;01mas\u001B[39;00m e:\n",
      "File \u001B[1;32mE:\\anaconda3\\envs\\Movie_Recommendation_System_Project\\lib\\importlib\\__init__.py:127\u001B[0m, in \u001B[0;36mimport_module\u001B[1;34m(name, package)\u001B[0m\n\u001B[0;32m    126\u001B[0m         level \u001B[38;5;241m+\u001B[39m\u001B[38;5;241m=\u001B[39m \u001B[38;5;241m1\u001B[39m\n\u001B[1;32m--> 127\u001B[0m \u001B[38;5;28;01mreturn\u001B[39;00m \u001B[43m_bootstrap\u001B[49m\u001B[38;5;241;43m.\u001B[39;49m\u001B[43m_gcd_import\u001B[49m\u001B[43m(\u001B[49m\u001B[43mname\u001B[49m\u001B[43m[\u001B[49m\u001B[43mlevel\u001B[49m\u001B[43m:\u001B[49m\u001B[43m]\u001B[49m\u001B[43m,\u001B[49m\u001B[43m \u001B[49m\u001B[43mpackage\u001B[49m\u001B[43m,\u001B[49m\u001B[43m \u001B[49m\u001B[43mlevel\u001B[49m\u001B[43m)\u001B[49m\n",
      "File \u001B[1;32m<frozen importlib._bootstrap>:1014\u001B[0m, in \u001B[0;36m_gcd_import\u001B[1;34m(name, package, level)\u001B[0m\n",
      "File \u001B[1;32m<frozen importlib._bootstrap>:991\u001B[0m, in \u001B[0;36m_find_and_load\u001B[1;34m(name, import_)\u001B[0m\n",
      "File \u001B[1;32m<frozen importlib._bootstrap>:975\u001B[0m, in \u001B[0;36m_find_and_load_unlocked\u001B[1;34m(name, import_)\u001B[0m\n",
      "File \u001B[1;32m<frozen importlib._bootstrap>:671\u001B[0m, in \u001B[0;36m_load_unlocked\u001B[1;34m(spec)\u001B[0m\n",
      "File \u001B[1;32m<frozen importlib._bootstrap_external>:843\u001B[0m, in \u001B[0;36mexec_module\u001B[1;34m(self, module)\u001B[0m\n",
      "File \u001B[1;32m<frozen importlib._bootstrap>:219\u001B[0m, in \u001B[0;36m_call_with_frames_removed\u001B[1;34m(f, *args, **kwds)\u001B[0m\n",
      "File \u001B[1;32mE:\\anaconda3\\envs\\Movie_Recommendation_System_Project\\lib\\site-packages\\transformers\\onnx\\config.py:36\u001B[0m\n\u001B[0;32m     35\u001B[0m \u001B[38;5;28;01mif\u001B[39;00m is_vision_available():\n\u001B[1;32m---> 36\u001B[0m     \u001B[38;5;28;01mfrom\u001B[39;00m \u001B[38;5;21;01mPIL\u001B[39;00m \u001B[38;5;28;01mimport\u001B[39;00m Image\n\u001B[0;32m     38\u001B[0m logger \u001B[38;5;241m=\u001B[39m logging\u001B[38;5;241m.\u001B[39mget_logger(\u001B[38;5;18m__name__\u001B[39m)\n",
      "File \u001B[1;32mE:\\anaconda3\\envs\\Movie_Recommendation_System_Project\\lib\\site-packages\\PIL\\Image.py:100\u001B[0m\n\u001B[0;32m     94\u001B[0m \u001B[38;5;28;01mtry\u001B[39;00m:\n\u001B[0;32m     95\u001B[0m     \u001B[38;5;66;03m# If the _imaging C module is not present, Pillow will not load.\u001B[39;00m\n\u001B[0;32m     96\u001B[0m     \u001B[38;5;66;03m# Note that other modules should not refer to _imaging directly;\u001B[39;00m\n\u001B[0;32m     97\u001B[0m     \u001B[38;5;66;03m# import Image and use the Image.core variable instead.\u001B[39;00m\n\u001B[0;32m     98\u001B[0m     \u001B[38;5;66;03m# Also note that Image.core is not a publicly documented interface,\u001B[39;00m\n\u001B[0;32m     99\u001B[0m     \u001B[38;5;66;03m# and should be considered private and subject to change.\u001B[39;00m\n\u001B[1;32m--> 100\u001B[0m     \u001B[38;5;28;01mfrom\u001B[39;00m \u001B[38;5;21;01m.\u001B[39;00m \u001B[38;5;28;01mimport\u001B[39;00m _imaging \u001B[38;5;28;01mas\u001B[39;00m core\n\u001B[0;32m    102\u001B[0m     \u001B[38;5;28;01mif\u001B[39;00m __version__ \u001B[38;5;241m!=\u001B[39m \u001B[38;5;28mgetattr\u001B[39m(core, \u001B[38;5;124m\"\u001B[39m\u001B[38;5;124mPILLOW_VERSION\u001B[39m\u001B[38;5;124m\"\u001B[39m, \u001B[38;5;28;01mNone\u001B[39;00m):\n",
      "\u001B[1;31mImportError\u001B[0m: DLL load failed while importing _imaging: The specified module could not be found.",
      "\nThe above exception was the direct cause of the following exception:\n",
      "\u001B[1;31mRuntimeError\u001B[0m                              Traceback (most recent call last)",
      "File \u001B[1;32mE:\\anaconda3\\envs\\Movie_Recommendation_System_Project\\lib\\site-packages\\transformers\\utils\\import_utils.py:1586\u001B[0m, in \u001B[0;36m_LazyModule._get_module\u001B[1;34m(self, module_name)\u001B[0m\n\u001B[0;32m   1585\u001B[0m \u001B[38;5;28;01mtry\u001B[39;00m:\n\u001B[1;32m-> 1586\u001B[0m     \u001B[38;5;28;01mreturn\u001B[39;00m \u001B[43mimportlib\u001B[49m\u001B[38;5;241;43m.\u001B[39;49m\u001B[43mimport_module\u001B[49m\u001B[43m(\u001B[49m\u001B[38;5;124;43m\"\u001B[39;49m\u001B[38;5;124;43m.\u001B[39;49m\u001B[38;5;124;43m\"\u001B[39;49m\u001B[43m \u001B[49m\u001B[38;5;241;43m+\u001B[39;49m\u001B[43m \u001B[49m\u001B[43mmodule_name\u001B[49m\u001B[43m,\u001B[49m\u001B[43m \u001B[49m\u001B[38;5;28;43mself\u001B[39;49m\u001B[38;5;241;43m.\u001B[39;49m\u001B[38;5;18;43m__name__\u001B[39;49m\u001B[43m)\u001B[49m\n\u001B[0;32m   1587\u001B[0m \u001B[38;5;28;01mexcept\u001B[39;00m \u001B[38;5;167;01mException\u001B[39;00m \u001B[38;5;28;01mas\u001B[39;00m e:\n",
      "File \u001B[1;32mE:\\anaconda3\\envs\\Movie_Recommendation_System_Project\\lib\\importlib\\__init__.py:127\u001B[0m, in \u001B[0;36mimport_module\u001B[1;34m(name, package)\u001B[0m\n\u001B[0;32m    126\u001B[0m         level \u001B[38;5;241m+\u001B[39m\u001B[38;5;241m=\u001B[39m \u001B[38;5;241m1\u001B[39m\n\u001B[1;32m--> 127\u001B[0m \u001B[38;5;28;01mreturn\u001B[39;00m \u001B[43m_bootstrap\u001B[49m\u001B[38;5;241;43m.\u001B[39;49m\u001B[43m_gcd_import\u001B[49m\u001B[43m(\u001B[49m\u001B[43mname\u001B[49m\u001B[43m[\u001B[49m\u001B[43mlevel\u001B[49m\u001B[43m:\u001B[49m\u001B[43m]\u001B[49m\u001B[43m,\u001B[49m\u001B[43m \u001B[49m\u001B[43mpackage\u001B[49m\u001B[43m,\u001B[49m\u001B[43m \u001B[49m\u001B[43mlevel\u001B[49m\u001B[43m)\u001B[49m\n",
      "File \u001B[1;32m<frozen importlib._bootstrap>:1014\u001B[0m, in \u001B[0;36m_gcd_import\u001B[1;34m(name, package, level)\u001B[0m\n",
      "File \u001B[1;32m<frozen importlib._bootstrap>:991\u001B[0m, in \u001B[0;36m_find_and_load\u001B[1;34m(name, import_)\u001B[0m\n",
      "File \u001B[1;32m<frozen importlib._bootstrap>:975\u001B[0m, in \u001B[0;36m_find_and_load_unlocked\u001B[1;34m(name, import_)\u001B[0m\n",
      "File \u001B[1;32m<frozen importlib._bootstrap>:671\u001B[0m, in \u001B[0;36m_load_unlocked\u001B[1;34m(spec)\u001B[0m\n",
      "File \u001B[1;32m<frozen importlib._bootstrap_external>:843\u001B[0m, in \u001B[0;36mexec_module\u001B[1;34m(self, module)\u001B[0m\n",
      "File \u001B[1;32m<frozen importlib._bootstrap>:219\u001B[0m, in \u001B[0;36m_call_with_frames_removed\u001B[1;34m(f, *args, **kwds)\u001B[0m\n",
      "File \u001B[1;32mE:\\anaconda3\\envs\\Movie_Recommendation_System_Project\\lib\\site-packages\\transformers\\models\\bert\\modeling_bert.py:57\u001B[0m\n\u001B[0;32m     48\u001B[0m \u001B[38;5;28;01mfrom\u001B[39;00m \u001B[38;5;21;01m.\u001B[39;00m\u001B[38;5;21;01m.\u001B[39;00m\u001B[38;5;21;01m.\u001B[39;00m\u001B[38;5;21;01mutils\u001B[39;00m \u001B[38;5;28;01mimport\u001B[39;00m (\n\u001B[0;32m     49\u001B[0m     ModelOutput,\n\u001B[0;32m     50\u001B[0m     add_code_sample_docstrings,\n\u001B[1;32m   (...)\u001B[0m\n\u001B[0;32m     55\u001B[0m     replace_return_docstrings,\n\u001B[0;32m     56\u001B[0m )\n\u001B[1;32m---> 57\u001B[0m \u001B[38;5;28;01mfrom\u001B[39;00m \u001B[38;5;21;01m.\u001B[39;00m\u001B[38;5;21;01mconfiguration_bert\u001B[39;00m \u001B[38;5;28;01mimport\u001B[39;00m BertConfig\n\u001B[0;32m     60\u001B[0m logger \u001B[38;5;241m=\u001B[39m logging\u001B[38;5;241m.\u001B[39mget_logger(\u001B[38;5;18m__name__\u001B[39m)\n",
      "File \u001B[1;32mE:\\anaconda3\\envs\\Movie_Recommendation_System_Project\\lib\\site-packages\\transformers\\models\\bert\\configuration_bert.py:22\u001B[0m\n\u001B[0;32m     21\u001B[0m \u001B[38;5;28;01mfrom\u001B[39;00m \u001B[38;5;21;01m.\u001B[39;00m\u001B[38;5;21;01m.\u001B[39;00m\u001B[38;5;21;01m.\u001B[39;00m\u001B[38;5;21;01mconfiguration_utils\u001B[39;00m \u001B[38;5;28;01mimport\u001B[39;00m PretrainedConfig\n\u001B[1;32m---> 22\u001B[0m \u001B[38;5;28;01mfrom\u001B[39;00m \u001B[38;5;21;01m.\u001B[39;00m\u001B[38;5;21;01m.\u001B[39;00m\u001B[38;5;21;01m.\u001B[39;00m\u001B[38;5;21;01monnx\u001B[39;00m \u001B[38;5;28;01mimport\u001B[39;00m OnnxConfig\n\u001B[0;32m     23\u001B[0m \u001B[38;5;28;01mfrom\u001B[39;00m \u001B[38;5;21;01m.\u001B[39;00m\u001B[38;5;21;01m.\u001B[39;00m\u001B[38;5;21;01m.\u001B[39;00m\u001B[38;5;21;01mutils\u001B[39;00m \u001B[38;5;28;01mimport\u001B[39;00m logging\n",
      "File \u001B[1;32m<frozen importlib._bootstrap>:1039\u001B[0m, in \u001B[0;36m_handle_fromlist\u001B[1;34m(module, fromlist, import_, recursive)\u001B[0m\n",
      "File \u001B[1;32mE:\\anaconda3\\envs\\Movie_Recommendation_System_Project\\lib\\site-packages\\transformers\\utils\\import_utils.py:1576\u001B[0m, in \u001B[0;36m_LazyModule.__getattr__\u001B[1;34m(self, name)\u001B[0m\n\u001B[0;32m   1575\u001B[0m \u001B[38;5;28;01melif\u001B[39;00m name \u001B[38;5;129;01min\u001B[39;00m \u001B[38;5;28mself\u001B[39m\u001B[38;5;241m.\u001B[39m_class_to_module\u001B[38;5;241m.\u001B[39mkeys():\n\u001B[1;32m-> 1576\u001B[0m     module \u001B[38;5;241m=\u001B[39m \u001B[38;5;28;43mself\u001B[39;49m\u001B[38;5;241;43m.\u001B[39;49m\u001B[43m_get_module\u001B[49m\u001B[43m(\u001B[49m\u001B[38;5;28;43mself\u001B[39;49m\u001B[38;5;241;43m.\u001B[39;49m\u001B[43m_class_to_module\u001B[49m\u001B[43m[\u001B[49m\u001B[43mname\u001B[49m\u001B[43m]\u001B[49m\u001B[43m)\u001B[49m\n\u001B[0;32m   1577\u001B[0m     value \u001B[38;5;241m=\u001B[39m \u001B[38;5;28mgetattr\u001B[39m(module, name)\n",
      "File \u001B[1;32mE:\\anaconda3\\envs\\Movie_Recommendation_System_Project\\lib\\site-packages\\transformers\\utils\\import_utils.py:1588\u001B[0m, in \u001B[0;36m_LazyModule._get_module\u001B[1;34m(self, module_name)\u001B[0m\n\u001B[0;32m   1587\u001B[0m \u001B[38;5;28;01mexcept\u001B[39;00m \u001B[38;5;167;01mException\u001B[39;00m \u001B[38;5;28;01mas\u001B[39;00m e:\n\u001B[1;32m-> 1588\u001B[0m     \u001B[38;5;28;01mraise\u001B[39;00m \u001B[38;5;167;01mRuntimeError\u001B[39;00m(\n\u001B[0;32m   1589\u001B[0m         \u001B[38;5;124mf\u001B[39m\u001B[38;5;124m\"\u001B[39m\u001B[38;5;124mFailed to import \u001B[39m\u001B[38;5;132;01m{\u001B[39;00m\u001B[38;5;28mself\u001B[39m\u001B[38;5;241m.\u001B[39m\u001B[38;5;18m__name__\u001B[39m\u001B[38;5;132;01m}\u001B[39;00m\u001B[38;5;124m.\u001B[39m\u001B[38;5;132;01m{\u001B[39;00mmodule_name\u001B[38;5;132;01m}\u001B[39;00m\u001B[38;5;124m because of the following error (look up to see its\u001B[39m\u001B[38;5;124m\"\u001B[39m\n\u001B[0;32m   1590\u001B[0m         \u001B[38;5;124mf\u001B[39m\u001B[38;5;124m\"\u001B[39m\u001B[38;5;124m traceback):\u001B[39m\u001B[38;5;130;01m\\n\u001B[39;00m\u001B[38;5;132;01m{\u001B[39;00me\u001B[38;5;132;01m}\u001B[39;00m\u001B[38;5;124m\"\u001B[39m\n\u001B[0;32m   1591\u001B[0m     ) \u001B[38;5;28;01mfrom\u001B[39;00m \u001B[38;5;21;01me\u001B[39;00m\n",
      "\u001B[1;31mRuntimeError\u001B[0m: Failed to import transformers.onnx.config because of the following error (look up to see its traceback):\nDLL load failed while importing _imaging: The specified module could not be found.",
      "\nThe above exception was the direct cause of the following exception:\n",
      "\u001B[1;31mRuntimeError\u001B[0m                              Traceback (most recent call last)",
      "Cell \u001B[1;32mIn[28], line 1\u001B[0m\n\u001B[1;32m----> 1\u001B[0m \u001B[38;5;28;01mfrom\u001B[39;00m \u001B[38;5;21;01mtransformers\u001B[39;00m \u001B[38;5;28;01mimport\u001B[39;00m BertTokenizer, BertModel\n\u001B[0;32m      2\u001B[0m \u001B[38;5;28;01mimport\u001B[39;00m \u001B[38;5;21;01mtorch\u001B[39;00m\n",
      "File \u001B[1;32m<frozen importlib._bootstrap>:1039\u001B[0m, in \u001B[0;36m_handle_fromlist\u001B[1;34m(module, fromlist, import_, recursive)\u001B[0m\n",
      "File \u001B[1;32mE:\\anaconda3\\envs\\Movie_Recommendation_System_Project\\lib\\site-packages\\transformers\\utils\\import_utils.py:1577\u001B[0m, in \u001B[0;36m_LazyModule.__getattr__\u001B[1;34m(self, name)\u001B[0m\n\u001B[0;32m   1575\u001B[0m \u001B[38;5;28;01melif\u001B[39;00m name \u001B[38;5;129;01min\u001B[39;00m \u001B[38;5;28mself\u001B[39m\u001B[38;5;241m.\u001B[39m_class_to_module\u001B[38;5;241m.\u001B[39mkeys():\n\u001B[0;32m   1576\u001B[0m     module \u001B[38;5;241m=\u001B[39m \u001B[38;5;28mself\u001B[39m\u001B[38;5;241m.\u001B[39m_get_module(\u001B[38;5;28mself\u001B[39m\u001B[38;5;241m.\u001B[39m_class_to_module[name])\n\u001B[1;32m-> 1577\u001B[0m     value \u001B[38;5;241m=\u001B[39m \u001B[38;5;28;43mgetattr\u001B[39;49m\u001B[43m(\u001B[49m\u001B[43mmodule\u001B[49m\u001B[43m,\u001B[49m\u001B[43m \u001B[49m\u001B[43mname\u001B[49m\u001B[43m)\u001B[49m\n\u001B[0;32m   1578\u001B[0m \u001B[38;5;28;01melse\u001B[39;00m:\n\u001B[0;32m   1579\u001B[0m     \u001B[38;5;28;01mraise\u001B[39;00m \u001B[38;5;167;01mAttributeError\u001B[39;00m(\u001B[38;5;124mf\u001B[39m\u001B[38;5;124m\"\u001B[39m\u001B[38;5;124mmodule \u001B[39m\u001B[38;5;132;01m{\u001B[39;00m\u001B[38;5;28mself\u001B[39m\u001B[38;5;241m.\u001B[39m\u001B[38;5;18m__name__\u001B[39m\u001B[38;5;132;01m}\u001B[39;00m\u001B[38;5;124m has no attribute \u001B[39m\u001B[38;5;132;01m{\u001B[39;00mname\u001B[38;5;132;01m}\u001B[39;00m\u001B[38;5;124m\"\u001B[39m)\n",
      "File \u001B[1;32mE:\\anaconda3\\envs\\Movie_Recommendation_System_Project\\lib\\site-packages\\transformers\\utils\\import_utils.py:1576\u001B[0m, in \u001B[0;36m_LazyModule.__getattr__\u001B[1;34m(self, name)\u001B[0m\n\u001B[0;32m   1574\u001B[0m     value \u001B[38;5;241m=\u001B[39m \u001B[38;5;28mself\u001B[39m\u001B[38;5;241m.\u001B[39m_get_module(name)\n\u001B[0;32m   1575\u001B[0m \u001B[38;5;28;01melif\u001B[39;00m name \u001B[38;5;129;01min\u001B[39;00m \u001B[38;5;28mself\u001B[39m\u001B[38;5;241m.\u001B[39m_class_to_module\u001B[38;5;241m.\u001B[39mkeys():\n\u001B[1;32m-> 1576\u001B[0m     module \u001B[38;5;241m=\u001B[39m \u001B[38;5;28;43mself\u001B[39;49m\u001B[38;5;241;43m.\u001B[39;49m\u001B[43m_get_module\u001B[49m\u001B[43m(\u001B[49m\u001B[38;5;28;43mself\u001B[39;49m\u001B[38;5;241;43m.\u001B[39;49m\u001B[43m_class_to_module\u001B[49m\u001B[43m[\u001B[49m\u001B[43mname\u001B[49m\u001B[43m]\u001B[49m\u001B[43m)\u001B[49m\n\u001B[0;32m   1577\u001B[0m     value \u001B[38;5;241m=\u001B[39m \u001B[38;5;28mgetattr\u001B[39m(module, name)\n\u001B[0;32m   1578\u001B[0m \u001B[38;5;28;01melse\u001B[39;00m:\n",
      "File \u001B[1;32mE:\\anaconda3\\envs\\Movie_Recommendation_System_Project\\lib\\site-packages\\transformers\\utils\\import_utils.py:1588\u001B[0m, in \u001B[0;36m_LazyModule._get_module\u001B[1;34m(self, module_name)\u001B[0m\n\u001B[0;32m   1586\u001B[0m     \u001B[38;5;28;01mreturn\u001B[39;00m importlib\u001B[38;5;241m.\u001B[39mimport_module(\u001B[38;5;124m\"\u001B[39m\u001B[38;5;124m.\u001B[39m\u001B[38;5;124m\"\u001B[39m \u001B[38;5;241m+\u001B[39m module_name, \u001B[38;5;28mself\u001B[39m\u001B[38;5;241m.\u001B[39m\u001B[38;5;18m__name__\u001B[39m)\n\u001B[0;32m   1587\u001B[0m \u001B[38;5;28;01mexcept\u001B[39;00m \u001B[38;5;167;01mException\u001B[39;00m \u001B[38;5;28;01mas\u001B[39;00m e:\n\u001B[1;32m-> 1588\u001B[0m     \u001B[38;5;28;01mraise\u001B[39;00m \u001B[38;5;167;01mRuntimeError\u001B[39;00m(\n\u001B[0;32m   1589\u001B[0m         \u001B[38;5;124mf\u001B[39m\u001B[38;5;124m\"\u001B[39m\u001B[38;5;124mFailed to import \u001B[39m\u001B[38;5;132;01m{\u001B[39;00m\u001B[38;5;28mself\u001B[39m\u001B[38;5;241m.\u001B[39m\u001B[38;5;18m__name__\u001B[39m\u001B[38;5;132;01m}\u001B[39;00m\u001B[38;5;124m.\u001B[39m\u001B[38;5;132;01m{\u001B[39;00mmodule_name\u001B[38;5;132;01m}\u001B[39;00m\u001B[38;5;124m because of the following error (look up to see its\u001B[39m\u001B[38;5;124m\"\u001B[39m\n\u001B[0;32m   1590\u001B[0m         \u001B[38;5;124mf\u001B[39m\u001B[38;5;124m\"\u001B[39m\u001B[38;5;124m traceback):\u001B[39m\u001B[38;5;130;01m\\n\u001B[39;00m\u001B[38;5;132;01m{\u001B[39;00me\u001B[38;5;132;01m}\u001B[39;00m\u001B[38;5;124m\"\u001B[39m\n\u001B[0;32m   1591\u001B[0m     ) \u001B[38;5;28;01mfrom\u001B[39;00m \u001B[38;5;21;01me\u001B[39;00m\n",
      "\u001B[1;31mRuntimeError\u001B[0m: Failed to import transformers.models.bert.modeling_bert because of the following error (look up to see its traceback):\nFailed to import transformers.onnx.config because of the following error (look up to see its traceback):\nDLL load failed while importing _imaging: The specified module could not be found."
     ]
    }
   ],
   "execution_count": 28
  },
  {
   "cell_type": "code",
   "source": [
    "# Load pre-trained BERT model and tokenizer\n",
    "tokenizer = BertTokenizer.from_pretrained('bert-base-uncased')\n",
    "model = BertModel.from_pretrained('bert-base-uncased')"
   ],
   "metadata": {
    "id": "XDifF92qac2c",
    "colab": {
     "base_uri": "https://localhost:8080/"
    },
    "outputId": "fa43ac50-f593-4a9f-98b2-4ffd5e3877f2"
   },
   "id": "XDifF92qac2c",
   "execution_count": 22,
   "outputs": [
    {
     "output_type": "stream",
     "name": "stderr",
     "text": [
      "/usr/local/lib/python3.10/dist-packages/huggingface_hub/utils/_token.py:89: UserWarning: \n",
      "The secret `HF_TOKEN` does not exist in your Colab secrets.\n",
      "To authenticate with the Hugging Face Hub, create a token in your settings tab (https://huggingface.co/settings/tokens), set it as secret in your Google Colab and restart your session.\n",
      "You will be able to reuse this secret in all of your notebooks.\n",
      "Please note that authentication is recommended but still optional to access public models or datasets.\n",
      "  warnings.warn(\n"
     ]
    }
   ]
  },
  {
   "cell_type": "code",
   "id": "1ef07ab5",
   "metadata": {
    "ExecuteTime": {
     "end_time": "2024-07-21T13:33:43.002275Z",
     "start_time": "2024-07-21T13:33:42.998741Z"
    },
    "id": "1ef07ab5"
   },
   "source": [
    "def get_bert_embeddings(texts):\n",
    "    # Tokenize and encode texts\n",
    "    inputs = tokenizer(texts, return_tensors='pt', padding=True, truncation=True, max_length=512)\n",
    "    with torch.no_grad():\n",
    "        outputs = model(**inputs)\n",
    "    # Return the mean of the token embeddings for each document\n",
    "    return outputs.last_hidden_state.mean(dim=1).numpy()"
   ],
   "outputs": [],
   "execution_count": 23
  },
  {
   "cell_type": "code",
   "id": "5f47235f",
   "metadata": {
    "ExecuteTime": {
     "end_time": "2024-07-21T13:33:43.009410Z",
     "start_time": "2024-07-21T13:33:43.003283Z"
    },
    "id": "5f47235f"
   },
   "source": [
    "# Generate embeddings for movie tags (ensure it's a list of strings)\n",
    "embeddings = get_bert_embeddings(new_data['tags'].astype(str).tolist())"
   ],
   "outputs": [],
   "execution_count": null
  },
  {
   "cell_type": "code",
   "id": "70d0277a",
   "metadata": {
    "ExecuteTime": {
     "end_time": "2024-07-21T13:33:50.170786Z",
     "start_time": "2024-07-21T13:33:50.166480Z"
    },
    "colab": {
     "base_uri": "https://localhost:8080/"
    },
    "id": "70d0277a",
    "outputId": "6de302a1-540e-44af-b840-484b1cb4cf3e"
   },
   "source": [
    "similarity"
   ],
   "outputs": [
    {
     "output_type": "execute_result",
     "data": {
      "text/plain": [
       "array([[1.        , 0.03865787, 0.00499736, ..., 0.02206849, 0.01719822,\n",
       "        0.06587978],\n",
       "       [0.03865787, 1.        , 0.00312846, ..., 0.01494108, 0.02073204,\n",
       "        0.01274635],\n",
       "       [0.00499736, 0.00312846, 1.        , ..., 0.02230045, 0.00326192,\n",
       "        0.00581102],\n",
       "       ...,\n",
       "       [0.02206849, 0.01494108, 0.02230045, ..., 1.        , 0.        ,\n",
       "        0.11724442],\n",
       "       [0.01719822, 0.02073204, 0.00326192, ..., 0.        , 1.        ,\n",
       "        0.        ],\n",
       "       [0.06587978, 0.01274635, 0.00581102, ..., 0.11724442, 0.        ,\n",
       "        1.        ]])"
      ]
     },
     "metadata": {},
     "execution_count": 20
    }
   ],
   "execution_count": null
  },
  {
   "cell_type": "code",
   "id": "33767086",
   "metadata": {
    "ExecuteTime": {
     "end_time": "2024-07-21T13:33:50.184867Z",
     "start_time": "2024-07-21T13:33:50.171788Z"
    },
    "colab": {
     "base_uri": "https://localhost:8080/"
    },
    "id": "33767086",
    "outputId": "6e101b1a-2137-409c-9583-980c6c14cf29"
   },
   "source": [
    "new_data[new_data['title']==\"Interstellar\"].index[0]"
   ],
   "outputs": [
    {
     "output_type": "execute_result",
     "data": {
      "text/plain": [
       "1"
      ]
     },
     "metadata": {},
     "execution_count": 28
    }
   ],
   "execution_count": null
  },
  {
   "cell_type": "code",
   "id": "18f8e048",
   "metadata": {
    "ExecuteTime": {
     "end_time": "2024-07-21T13:33:50.194677Z",
     "start_time": "2024-07-21T13:33:50.185869Z"
    },
    "id": "18f8e048"
   },
   "source": [
    "def recommand(movie_title):\n",
    "    if movie_title not in new_data['title'].values:\n",
    "        print(\"Movie not found in dataset.\")\n",
    "        return\n",
    "\n",
    "    # Get the index of the movie that matches the title\n",
    "    index = new_data[new_data['title'] == movie_title].index[0]\n",
    "\n",
    "    # Get the pairwise similarity scores of all movies with that movie\n",
    "    distance = sorted(list(enumerate(similarity[index])), reverse=True, key=lambda vector: vector[1])\n",
    "\n",
    "    # Print the titles of the top 5 most similar movies\n",
    "    print(f\"Top 5 recommendations for '{movie_title}':\")\n",
    "    for i in distance[1:6]:  # Skip the first entry as it is the movie itself\n",
    "        print(new_data.iloc[i[0]].title)\n"
   ],
   "outputs": [],
   "execution_count": null
  },
  {
   "cell_type": "code",
   "id": "45f26d8e",
   "metadata": {
    "ExecuteTime": {
     "end_time": "2024-07-21T13:33:50.209784Z",
     "start_time": "2024-07-21T13:33:50.200280Z"
    },
    "colab": {
     "base_uri": "https://localhost:8080/"
    },
    "id": "45f26d8e",
    "outputId": "cc698435-0ce8-4323-a876-89b6a4d0817e"
   },
   "source": [
    "recommand(\"Interstellar\")"
   ],
   "outputs": [
    {
     "output_type": "stream",
     "name": "stdout",
     "text": [
      "Top 5 recommendations for 'Interstellar':\n",
      "Space Pirate Captain Harlock\n",
      "Stargate\n",
      "Prometheus\n",
      "Gattaca\n",
      "Star Wars: The Last Jedi\n"
     ]
    }
   ],
   "execution_count": null
  },
  {
   "cell_type": "code",
   "id": "27f3c2d2",
   "metadata": {
    "ExecuteTime": {
     "end_time": "2024-07-21T13:33:50.213545Z",
     "start_time": "2024-07-21T13:33:50.210786Z"
    },
    "id": "27f3c2d2"
   },
   "source": [
    "import pickle"
   ],
   "outputs": [],
   "execution_count": null
  },
  {
   "cell_type": "code",
   "id": "2662fb93",
   "metadata": {
    "ExecuteTime": {
     "end_time": "2024-07-21T13:37:23.162427Z",
     "start_time": "2024-07-21T13:37:23.154374Z"
    },
    "id": "2662fb93"
   },
   "source": [
    "pickle.dump(new_data, open('movies_listUpdate.pkl', 'wb'))"
   ],
   "outputs": [],
   "execution_count": null
  },
  {
   "cell_type": "code",
   "id": "73e32c4e",
   "metadata": {
    "ExecuteTime": {
     "end_time": "2024-07-21T13:37:27.649680Z",
     "start_time": "2024-07-21T13:37:25.291220Z"
    },
    "id": "73e32c4e"
   },
   "source": [
    "pickle.dump(similarity, open('similarityUpdate.pkl', 'wb'))"
   ],
   "outputs": [],
   "execution_count": null
  },
  {
   "cell_type": "code",
   "id": "e96d2c35",
   "metadata": {
    "ExecuteTime": {
     "end_time": "2024-07-21T13:37:31.560615Z",
     "start_time": "2024-07-21T13:37:31.543547Z"
    },
    "colab": {
     "base_uri": "https://localhost:8080/",
     "height": 423
    },
    "id": "e96d2c35",
    "outputId": "46e83eab-aaca-4d9c-f66b-f04f30d96d04"
   },
   "source": [
    "pickle.load(open('movies_listUpdate.pkl', 'rb'))"
   ],
   "outputs": [
    {
     "output_type": "execute_result",
     "data": {
      "text/plain": [
       "          id                     title  \\\n",
       "0      27205                 Inception   \n",
       "1     157336              Interstellar   \n",
       "2        155           The Dark Knight   \n",
       "3      24428              The Avengers   \n",
       "4     293660                  Deadpool   \n",
       "...      ...                       ...   \n",
       "9995   28569     Splendor in the Grass   \n",
       "9996    4952               Pillow Talk   \n",
       "9997   15515  The 7th Voyage of Sinbad   \n",
       "9998    9077                 Tarantula   \n",
       "9999   12232       The Thief of Bagdad   \n",
       "\n",
       "                                                   tags  \n",
       "0     Cobb, a skilled thief who commits corporate es...  \n",
       "1     The adventures of a group of explorers who mak...  \n",
       "2     Batman raises the stakes in his war on crime. ...  \n",
       "3     When an unexpected enemy emerges and threatens...  \n",
       "4     The origin story of former Special Forces oper...  \n",
       "...                                                 ...  \n",
       "9995  A fragile Kansas girl's unrequited and forbidd...  \n",
       "9996  A man and woman share a telephone line and des...  \n",
       "9997  When a princess is shrunken by an evil wizard,...  \n",
       "9998  A lone-wolf scientist sequestered in a mansion...  \n",
       "9999  When Prince Ahmad is blinded and cast out of B...  \n",
       "\n",
       "[10000 rows x 3 columns]"
      ],
      "text/html": [
       "\n",
       "  <div id=\"df-2e0b6eb8-d36a-4fc9-89de-fa0c2074fd07\" class=\"colab-df-container\">\n",
       "    <div>\n",
       "<style scoped>\n",
       "    .dataframe tbody tr th:only-of-type {\n",
       "        vertical-align: middle;\n",
       "    }\n",
       "\n",
       "    .dataframe tbody tr th {\n",
       "        vertical-align: top;\n",
       "    }\n",
       "\n",
       "    .dataframe thead th {\n",
       "        text-align: right;\n",
       "    }\n",
       "</style>\n",
       "<table border=\"1\" class=\"dataframe\">\n",
       "  <thead>\n",
       "    <tr style=\"text-align: right;\">\n",
       "      <th></th>\n",
       "      <th>id</th>\n",
       "      <th>title</th>\n",
       "      <th>tags</th>\n",
       "    </tr>\n",
       "  </thead>\n",
       "  <tbody>\n",
       "    <tr>\n",
       "      <th>0</th>\n",
       "      <td>27205</td>\n",
       "      <td>Inception</td>\n",
       "      <td>Cobb, a skilled thief who commits corporate es...</td>\n",
       "    </tr>\n",
       "    <tr>\n",
       "      <th>1</th>\n",
       "      <td>157336</td>\n",
       "      <td>Interstellar</td>\n",
       "      <td>The adventures of a group of explorers who mak...</td>\n",
       "    </tr>\n",
       "    <tr>\n",
       "      <th>2</th>\n",
       "      <td>155</td>\n",
       "      <td>The Dark Knight</td>\n",
       "      <td>Batman raises the stakes in his war on crime. ...</td>\n",
       "    </tr>\n",
       "    <tr>\n",
       "      <th>3</th>\n",
       "      <td>24428</td>\n",
       "      <td>The Avengers</td>\n",
       "      <td>When an unexpected enemy emerges and threatens...</td>\n",
       "    </tr>\n",
       "    <tr>\n",
       "      <th>4</th>\n",
       "      <td>293660</td>\n",
       "      <td>Deadpool</td>\n",
       "      <td>The origin story of former Special Forces oper...</td>\n",
       "    </tr>\n",
       "    <tr>\n",
       "      <th>...</th>\n",
       "      <td>...</td>\n",
       "      <td>...</td>\n",
       "      <td>...</td>\n",
       "    </tr>\n",
       "    <tr>\n",
       "      <th>9995</th>\n",
       "      <td>28569</td>\n",
       "      <td>Splendor in the Grass</td>\n",
       "      <td>A fragile Kansas girl's unrequited and forbidd...</td>\n",
       "    </tr>\n",
       "    <tr>\n",
       "      <th>9996</th>\n",
       "      <td>4952</td>\n",
       "      <td>Pillow Talk</td>\n",
       "      <td>A man and woman share a telephone line and des...</td>\n",
       "    </tr>\n",
       "    <tr>\n",
       "      <th>9997</th>\n",
       "      <td>15515</td>\n",
       "      <td>The 7th Voyage of Sinbad</td>\n",
       "      <td>When a princess is shrunken by an evil wizard,...</td>\n",
       "    </tr>\n",
       "    <tr>\n",
       "      <th>9998</th>\n",
       "      <td>9077</td>\n",
       "      <td>Tarantula</td>\n",
       "      <td>A lone-wolf scientist sequestered in a mansion...</td>\n",
       "    </tr>\n",
       "    <tr>\n",
       "      <th>9999</th>\n",
       "      <td>12232</td>\n",
       "      <td>The Thief of Bagdad</td>\n",
       "      <td>When Prince Ahmad is blinded and cast out of B...</td>\n",
       "    </tr>\n",
       "  </tbody>\n",
       "</table>\n",
       "<p>10000 rows × 3 columns</p>\n",
       "</div>\n",
       "    <div class=\"colab-df-buttons\">\n",
       "\n",
       "  <div class=\"colab-df-container\">\n",
       "    <button class=\"colab-df-convert\" onclick=\"convertToInteractive('df-2e0b6eb8-d36a-4fc9-89de-fa0c2074fd07')\"\n",
       "            title=\"Convert this dataframe to an interactive table.\"\n",
       "            style=\"display:none;\">\n",
       "\n",
       "  <svg xmlns=\"http://www.w3.org/2000/svg\" height=\"24px\" viewBox=\"0 -960 960 960\">\n",
       "    <path d=\"M120-120v-720h720v720H120Zm60-500h600v-160H180v160Zm220 220h160v-160H400v160Zm0 220h160v-160H400v160ZM180-400h160v-160H180v160Zm440 0h160v-160H620v160ZM180-180h160v-160H180v160Zm440 0h160v-160H620v160Z\"/>\n",
       "  </svg>\n",
       "    </button>\n",
       "\n",
       "  <style>\n",
       "    .colab-df-container {\n",
       "      display:flex;\n",
       "      gap: 12px;\n",
       "    }\n",
       "\n",
       "    .colab-df-convert {\n",
       "      background-color: #E8F0FE;\n",
       "      border: none;\n",
       "      border-radius: 50%;\n",
       "      cursor: pointer;\n",
       "      display: none;\n",
       "      fill: #1967D2;\n",
       "      height: 32px;\n",
       "      padding: 0 0 0 0;\n",
       "      width: 32px;\n",
       "    }\n",
       "\n",
       "    .colab-df-convert:hover {\n",
       "      background-color: #E2EBFA;\n",
       "      box-shadow: 0px 1px 2px rgba(60, 64, 67, 0.3), 0px 1px 3px 1px rgba(60, 64, 67, 0.15);\n",
       "      fill: #174EA6;\n",
       "    }\n",
       "\n",
       "    .colab-df-buttons div {\n",
       "      margin-bottom: 4px;\n",
       "    }\n",
       "\n",
       "    [theme=dark] .colab-df-convert {\n",
       "      background-color: #3B4455;\n",
       "      fill: #D2E3FC;\n",
       "    }\n",
       "\n",
       "    [theme=dark] .colab-df-convert:hover {\n",
       "      background-color: #434B5C;\n",
       "      box-shadow: 0px 1px 3px 1px rgba(0, 0, 0, 0.15);\n",
       "      filter: drop-shadow(0px 1px 2px rgba(0, 0, 0, 0.3));\n",
       "      fill: #FFFFFF;\n",
       "    }\n",
       "  </style>\n",
       "\n",
       "    <script>\n",
       "      const buttonEl =\n",
       "        document.querySelector('#df-2e0b6eb8-d36a-4fc9-89de-fa0c2074fd07 button.colab-df-convert');\n",
       "      buttonEl.style.display =\n",
       "        google.colab.kernel.accessAllowed ? 'block' : 'none';\n",
       "\n",
       "      async function convertToInteractive(key) {\n",
       "        const element = document.querySelector('#df-2e0b6eb8-d36a-4fc9-89de-fa0c2074fd07');\n",
       "        const dataTable =\n",
       "          await google.colab.kernel.invokeFunction('convertToInteractive',\n",
       "                                                    [key], {});\n",
       "        if (!dataTable) return;\n",
       "\n",
       "        const docLinkHtml = 'Like what you see? Visit the ' +\n",
       "          '<a target=\"_blank\" href=https://colab.research.google.com/notebooks/data_table.ipynb>data table notebook</a>'\n",
       "          + ' to learn more about interactive tables.';\n",
       "        element.innerHTML = '';\n",
       "        dataTable['output_type'] = 'display_data';\n",
       "        await google.colab.output.renderOutput(dataTable, element);\n",
       "        const docLink = document.createElement('div');\n",
       "        docLink.innerHTML = docLinkHtml;\n",
       "        element.appendChild(docLink);\n",
       "      }\n",
       "    </script>\n",
       "  </div>\n",
       "\n",
       "\n",
       "<div id=\"df-5536f22b-87a3-4001-b11a-f0287139df1b\">\n",
       "  <button class=\"colab-df-quickchart\" onclick=\"quickchart('df-5536f22b-87a3-4001-b11a-f0287139df1b')\"\n",
       "            title=\"Suggest charts\"\n",
       "            style=\"display:none;\">\n",
       "\n",
       "<svg xmlns=\"http://www.w3.org/2000/svg\" height=\"24px\"viewBox=\"0 0 24 24\"\n",
       "     width=\"24px\">\n",
       "    <g>\n",
       "        <path d=\"M19 3H5c-1.1 0-2 .9-2 2v14c0 1.1.9 2 2 2h14c1.1 0 2-.9 2-2V5c0-1.1-.9-2-2-2zM9 17H7v-7h2v7zm4 0h-2V7h2v10zm4 0h-2v-4h2v4z\"/>\n",
       "    </g>\n",
       "</svg>\n",
       "  </button>\n",
       "\n",
       "<style>\n",
       "  .colab-df-quickchart {\n",
       "      --bg-color: #E8F0FE;\n",
       "      --fill-color: #1967D2;\n",
       "      --hover-bg-color: #E2EBFA;\n",
       "      --hover-fill-color: #174EA6;\n",
       "      --disabled-fill-color: #AAA;\n",
       "      --disabled-bg-color: #DDD;\n",
       "  }\n",
       "\n",
       "  [theme=dark] .colab-df-quickchart {\n",
       "      --bg-color: #3B4455;\n",
       "      --fill-color: #D2E3FC;\n",
       "      --hover-bg-color: #434B5C;\n",
       "      --hover-fill-color: #FFFFFF;\n",
       "      --disabled-bg-color: #3B4455;\n",
       "      --disabled-fill-color: #666;\n",
       "  }\n",
       "\n",
       "  .colab-df-quickchart {\n",
       "    background-color: var(--bg-color);\n",
       "    border: none;\n",
       "    border-radius: 50%;\n",
       "    cursor: pointer;\n",
       "    display: none;\n",
       "    fill: var(--fill-color);\n",
       "    height: 32px;\n",
       "    padding: 0;\n",
       "    width: 32px;\n",
       "  }\n",
       "\n",
       "  .colab-df-quickchart:hover {\n",
       "    background-color: var(--hover-bg-color);\n",
       "    box-shadow: 0 1px 2px rgba(60, 64, 67, 0.3), 0 1px 3px 1px rgba(60, 64, 67, 0.15);\n",
       "    fill: var(--button-hover-fill-color);\n",
       "  }\n",
       "\n",
       "  .colab-df-quickchart-complete:disabled,\n",
       "  .colab-df-quickchart-complete:disabled:hover {\n",
       "    background-color: var(--disabled-bg-color);\n",
       "    fill: var(--disabled-fill-color);\n",
       "    box-shadow: none;\n",
       "  }\n",
       "\n",
       "  .colab-df-spinner {\n",
       "    border: 2px solid var(--fill-color);\n",
       "    border-color: transparent;\n",
       "    border-bottom-color: var(--fill-color);\n",
       "    animation:\n",
       "      spin 1s steps(1) infinite;\n",
       "  }\n",
       "\n",
       "  @keyframes spin {\n",
       "    0% {\n",
       "      border-color: transparent;\n",
       "      border-bottom-color: var(--fill-color);\n",
       "      border-left-color: var(--fill-color);\n",
       "    }\n",
       "    20% {\n",
       "      border-color: transparent;\n",
       "      border-left-color: var(--fill-color);\n",
       "      border-top-color: var(--fill-color);\n",
       "    }\n",
       "    30% {\n",
       "      border-color: transparent;\n",
       "      border-left-color: var(--fill-color);\n",
       "      border-top-color: var(--fill-color);\n",
       "      border-right-color: var(--fill-color);\n",
       "    }\n",
       "    40% {\n",
       "      border-color: transparent;\n",
       "      border-right-color: var(--fill-color);\n",
       "      border-top-color: var(--fill-color);\n",
       "    }\n",
       "    60% {\n",
       "      border-color: transparent;\n",
       "      border-right-color: var(--fill-color);\n",
       "    }\n",
       "    80% {\n",
       "      border-color: transparent;\n",
       "      border-right-color: var(--fill-color);\n",
       "      border-bottom-color: var(--fill-color);\n",
       "    }\n",
       "    90% {\n",
       "      border-color: transparent;\n",
       "      border-bottom-color: var(--fill-color);\n",
       "    }\n",
       "  }\n",
       "</style>\n",
       "\n",
       "  <script>\n",
       "    async function quickchart(key) {\n",
       "      const quickchartButtonEl =\n",
       "        document.querySelector('#' + key + ' button');\n",
       "      quickchartButtonEl.disabled = true;  // To prevent multiple clicks.\n",
       "      quickchartButtonEl.classList.add('colab-df-spinner');\n",
       "      try {\n",
       "        const charts = await google.colab.kernel.invokeFunction(\n",
       "            'suggestCharts', [key], {});\n",
       "      } catch (error) {\n",
       "        console.error('Error during call to suggestCharts:', error);\n",
       "      }\n",
       "      quickchartButtonEl.classList.remove('colab-df-spinner');\n",
       "      quickchartButtonEl.classList.add('colab-df-quickchart-complete');\n",
       "    }\n",
       "    (() => {\n",
       "      let quickchartButtonEl =\n",
       "        document.querySelector('#df-5536f22b-87a3-4001-b11a-f0287139df1b button');\n",
       "      quickchartButtonEl.style.display =\n",
       "        google.colab.kernel.accessAllowed ? 'block' : 'none';\n",
       "    })();\n",
       "  </script>\n",
       "</div>\n",
       "    </div>\n",
       "  </div>\n"
      ],
      "application/vnd.google.colaboratory.intrinsic+json": {
       "type": "dataframe",
       "summary": "{\n  \"name\": \"pickle\",\n  \"rows\": 10000,\n  \"fields\": [\n    {\n      \"column\": \"id\",\n      \"properties\": {\n        \"dtype\": \"number\",\n        \"std\": 211422,\n        \"min\": 5,\n        \"max\": 934761,\n        \"num_unique_values\": 10000,\n        \"samples\": [\n          16633,\n          11077,\n          7484\n        ],\n        \"semantic_type\": \"\",\n        \"description\": \"\"\n      }\n    },\n    {\n      \"column\": \"title\",\n      \"properties\": {\n        \"dtype\": \"string\",\n        \"num_unique_values\": 9661,\n        \"samples\": [\n          \"Day of the Woman\",\n          \"The Vikings\",\n          \"Something's Gotta Give\"\n        ],\n        \"semantic_type\": \"\",\n        \"description\": \"\"\n      }\n    },\n    {\n      \"column\": \"tags\",\n      \"properties\": {\n        \"dtype\": \"string\",\n        \"num_unique_values\": 9984,\n        \"samples\": [\n          \"Some time after the Mousekewitz's have settled in America, they find that they are still having problems with the threat of cats. That makes them eager to try another home out in the west, where they are promised that mice and cats live in peace. Unfortunately, the one making this claim is an oily con artist named Cat R. Waul who is intent on his own sinister plan.Adventure,Animation,Family,Western\",\n          \"Set in post-WWII Leningrad as two female soldiers return from war and attempt to rebuild their lives in the ravaged city.Drama\",\n          \"Murderesses Velma Kelly and Roxie Hart find themselves on death row together and fight for the fame that will keep them from the gallows in 1920s Chicago.Comedy,Crime,Drama\"\n        ],\n        \"semantic_type\": \"\",\n        \"description\": \"\"\n      }\n    }\n  ]\n}"
      }
     },
     "metadata": {},
     "execution_count": 31
    }
   ],
   "execution_count": null
  },
  {
   "cell_type": "code",
   "id": "ae20e180",
   "metadata": {
    "ExecuteTime": {
     "end_time": "2024-07-21T13:33:52.487934Z",
     "start_time": "2024-07-21T13:33:52.486127Z"
    },
    "colab": {
     "base_uri": "https://localhost:8080/"
    },
    "id": "ae20e180",
    "outputId": "fb73d92b-ec54-42da-e048-831d82382ecc"
   },
   "source": [
    "pickle.load(open('similarityUpdate.pkl', 'rb'))"
   ],
   "outputs": [
    {
     "output_type": "execute_result",
     "data": {
      "text/plain": [
       "array([[1.        , 0.14350946, 0.03074377, ..., 0.11145564, 0.06019293,\n",
       "        0.14350946],\n",
       "       [0.14350946, 1.        , 0.0338255 , ..., 0.06131393, 0.06622662,\n",
       "        0.05263158],\n",
       "       [0.03074377, 0.0338255 , 1.        , ..., 0.07881104, 0.02128141,\n",
       "        0.0338255 ],\n",
       "       ...,\n",
       "       [0.11145564, 0.06131393, 0.07881104, ..., 1.        , 0.        ,\n",
       "        0.30656967],\n",
       "       [0.06019293, 0.06622662, 0.02128141, ..., 0.        , 1.        ,\n",
       "        0.        ],\n",
       "       [0.14350946, 0.05263158, 0.0338255 , ..., 0.30656967, 0.        ,\n",
       "        1.        ]])"
      ]
     },
     "metadata": {},
     "execution_count": 32
    }
   ],
   "execution_count": null
  }
 ],
 "metadata": {
  "kernelspec": {
   "display_name": "Python 3 (ipykernel)",
   "name": "python3",
   "language": "python"
  },
  "language_info": {
   "codemirror_mode": {
    "name": "ipython",
    "version": 3
   },
   "file_extension": ".py",
   "mimetype": "text/x-python",
   "name": "python",
   "nbconvert_exporter": "python",
   "pygments_lexer": "ipython3",
   "version": "3.8.5"
  },
  "colab": {
   "provenance": [],
   "gpuType": "T4"
  },
  "accelerator": "GPU"
 },
 "nbformat": 4,
 "nbformat_minor": 5
}
