{
 "cells": [
  {
   "metadata": {},
   "cell_type": "markdown",
   "source": "# select conda envirnment coz of FAISS library",
   "id": "1c9be17fed20c10f"
  },
  {
   "cell_type": "code",
   "id": "initial_id",
   "metadata": {
    "collapsed": true,
    "ExecuteTime": {
     "end_time": "2024-08-03T10:01:42.650586Z",
     "start_time": "2024-08-03T10:01:42.639814Z"
    }
   },
   "source": "import pandas as pd",
   "outputs": [],
   "execution_count": 14
  },
  {
   "metadata": {
    "ExecuteTime": {
     "end_time": "2024-08-03T10:01:43.102798Z",
     "start_time": "2024-08-03T10:01:43.044664Z"
    }
   },
   "cell_type": "code",
   "source": "df=pd.read_csv('datasetUpdate.csv')",
   "id": "168da2c40e886ce3",
   "outputs": [],
   "execution_count": 15
  },
  {
   "metadata": {
    "ExecuteTime": {
     "end_time": "2024-08-03T10:01:43.555503Z",
     "start_time": "2024-08-03T10:01:43.537221Z"
    }
   },
   "cell_type": "code",
   "source": "df = df[['title', 'overview', 'genre', 'release_date']]",
   "id": "43f9b715b014a107",
   "outputs": [],
   "execution_count": 16
  },
  {
   "metadata": {
    "ExecuteTime": {
     "end_time": "2024-08-03T10:01:44.117063Z",
     "start_time": "2024-08-03T10:01:44.089698Z"
    }
   },
   "cell_type": "code",
   "source": "df.describe()",
   "id": "ca3aeb4f8086bffe",
   "outputs": [
    {
     "data": {
      "text/plain": [
       "                       title  \\\n",
       "count                  10000   \n",
       "unique                  9661   \n",
       "top     Beauty and the Beast   \n",
       "freq                       4   \n",
       "\n",
       "                                                 overview   genre release_date  \n",
       "count                                                9987    9997        10000  \n",
       "unique                                               9985    2123         6113  \n",
       "top     \"Loro\", in two parts, is a period movie that c...  Comedy    11/4/2016  \n",
       "freq                                                    2     744            9  "
      ],
      "text/html": [
       "<div>\n",
       "<style scoped>\n",
       "    .dataframe tbody tr th:only-of-type {\n",
       "        vertical-align: middle;\n",
       "    }\n",
       "\n",
       "    .dataframe tbody tr th {\n",
       "        vertical-align: top;\n",
       "    }\n",
       "\n",
       "    .dataframe thead th {\n",
       "        text-align: right;\n",
       "    }\n",
       "</style>\n",
       "<table border=\"1\" class=\"dataframe\">\n",
       "  <thead>\n",
       "    <tr style=\"text-align: right;\">\n",
       "      <th></th>\n",
       "      <th>title</th>\n",
       "      <th>overview</th>\n",
       "      <th>genre</th>\n",
       "      <th>release_date</th>\n",
       "    </tr>\n",
       "  </thead>\n",
       "  <tbody>\n",
       "    <tr>\n",
       "      <th>count</th>\n",
       "      <td>10000</td>\n",
       "      <td>9987</td>\n",
       "      <td>9997</td>\n",
       "      <td>10000</td>\n",
       "    </tr>\n",
       "    <tr>\n",
       "      <th>unique</th>\n",
       "      <td>9661</td>\n",
       "      <td>9985</td>\n",
       "      <td>2123</td>\n",
       "      <td>6113</td>\n",
       "    </tr>\n",
       "    <tr>\n",
       "      <th>top</th>\n",
       "      <td>Beauty and the Beast</td>\n",
       "      <td>\"Loro\", in two parts, is a period movie that c...</td>\n",
       "      <td>Comedy</td>\n",
       "      <td>11/4/2016</td>\n",
       "    </tr>\n",
       "    <tr>\n",
       "      <th>freq</th>\n",
       "      <td>4</td>\n",
       "      <td>2</td>\n",
       "      <td>744</td>\n",
       "      <td>9</td>\n",
       "    </tr>\n",
       "  </tbody>\n",
       "</table>\n",
       "</div>"
      ]
     },
     "execution_count": 17,
     "metadata": {},
     "output_type": "execute_result"
    }
   ],
   "execution_count": 17
  },
  {
   "metadata": {
    "ExecuteTime": {
     "end_time": "2024-08-03T10:01:44.964527Z",
     "start_time": "2024-08-03T10:01:44.957669Z"
    }
   },
   "cell_type": "code",
   "source": "df.columns",
   "id": "f9b44bd7a3016f0f",
   "outputs": [
    {
     "data": {
      "text/plain": [
       "Index(['title', 'overview', 'genre', 'release_date'], dtype='object')"
      ]
     },
     "execution_count": 18,
     "metadata": {},
     "output_type": "execute_result"
    }
   ],
   "execution_count": 18
  },
  {
   "metadata": {
    "ExecuteTime": {
     "end_time": "2024-08-03T10:05:09.539199Z",
     "start_time": "2024-08-03T10:05:09.526103Z"
    }
   },
   "cell_type": "code",
   "source": "df=df[['title', 'overview', 'genre','release_date']]",
   "id": "55bbb8d0d5f98bac",
   "outputs": [],
   "execution_count": 26
  },
  {
   "metadata": {
    "ExecuteTime": {
     "end_time": "2024-08-03T10:05:10.224012Z",
     "start_time": "2024-08-03T10:05:10.209573Z"
    }
   },
   "cell_type": "code",
   "source": "df",
   "id": "e68234375253469",
   "outputs": [
    {
     "data": {
      "text/plain": [
       "                         title  \\\n",
       "0                    Inception   \n",
       "1                 Interstellar   \n",
       "2              The Dark Knight   \n",
       "3                 The Avengers   \n",
       "4                     Deadpool   \n",
       "...                        ...   \n",
       "9995     Splendor in the Grass   \n",
       "9996               Pillow Talk   \n",
       "9997  The 7th Voyage of Sinbad   \n",
       "9998                 Tarantula   \n",
       "9999       The Thief of Bagdad   \n",
       "\n",
       "                                               overview  \\\n",
       "0     Cobb, a skilled thief who commits corporate es...   \n",
       "1     The adventures of a group of explorers who mak...   \n",
       "2     Batman raises the stakes in his war on crime. ...   \n",
       "3     When an unexpected enemy emerges and threatens...   \n",
       "4     The origin story of former Special Forces oper...   \n",
       "...                                                 ...   \n",
       "9995  A fragile Kansas girl's unrequited and forbidd...   \n",
       "9996  A man and woman share a telephone line and des...   \n",
       "9997  When a princess is shrunken by an evil wizard,...   \n",
       "9998  A lone-wolf scientist sequestered in a mansion...   \n",
       "9999  When Prince Ahmad is blinded and cast out of B...   \n",
       "\n",
       "                                 genre release_date  \n",
       "0     Action,Science Fiction,Adventure    7/15/2010  \n",
       "1      Adventure,Drama,Science Fiction    11/5/2014  \n",
       "2          Drama,Action,Crime,Thriller    7/14/2008  \n",
       "3     Science Fiction,Action,Adventure    4/25/2012  \n",
       "4              Action,Adventure,Comedy     2/9/2016  \n",
       "...                                ...          ...  \n",
       "9995                     Drama,Romance   10/10/1961  \n",
       "9996                    Comedy,Romance    10/7/1959  \n",
       "9997   Action,Adventure,Family,Fantasy    12/5/1958  \n",
       "9998   Horror,Science Fiction,Thriller   12/14/1955  \n",
       "9999   Action,Adventure,Family,Fantasy   12/25/1940  \n",
       "\n",
       "[10000 rows x 4 columns]"
      ],
      "text/html": [
       "<div>\n",
       "<style scoped>\n",
       "    .dataframe tbody tr th:only-of-type {\n",
       "        vertical-align: middle;\n",
       "    }\n",
       "\n",
       "    .dataframe tbody tr th {\n",
       "        vertical-align: top;\n",
       "    }\n",
       "\n",
       "    .dataframe thead th {\n",
       "        text-align: right;\n",
       "    }\n",
       "</style>\n",
       "<table border=\"1\" class=\"dataframe\">\n",
       "  <thead>\n",
       "    <tr style=\"text-align: right;\">\n",
       "      <th></th>\n",
       "      <th>title</th>\n",
       "      <th>overview</th>\n",
       "      <th>genre</th>\n",
       "      <th>release_date</th>\n",
       "    </tr>\n",
       "  </thead>\n",
       "  <tbody>\n",
       "    <tr>\n",
       "      <th>0</th>\n",
       "      <td>Inception</td>\n",
       "      <td>Cobb, a skilled thief who commits corporate es...</td>\n",
       "      <td>Action,Science Fiction,Adventure</td>\n",
       "      <td>7/15/2010</td>\n",
       "    </tr>\n",
       "    <tr>\n",
       "      <th>1</th>\n",
       "      <td>Interstellar</td>\n",
       "      <td>The adventures of a group of explorers who mak...</td>\n",
       "      <td>Adventure,Drama,Science Fiction</td>\n",
       "      <td>11/5/2014</td>\n",
       "    </tr>\n",
       "    <tr>\n",
       "      <th>2</th>\n",
       "      <td>The Dark Knight</td>\n",
       "      <td>Batman raises the stakes in his war on crime. ...</td>\n",
       "      <td>Drama,Action,Crime,Thriller</td>\n",
       "      <td>7/14/2008</td>\n",
       "    </tr>\n",
       "    <tr>\n",
       "      <th>3</th>\n",
       "      <td>The Avengers</td>\n",
       "      <td>When an unexpected enemy emerges and threatens...</td>\n",
       "      <td>Science Fiction,Action,Adventure</td>\n",
       "      <td>4/25/2012</td>\n",
       "    </tr>\n",
       "    <tr>\n",
       "      <th>4</th>\n",
       "      <td>Deadpool</td>\n",
       "      <td>The origin story of former Special Forces oper...</td>\n",
       "      <td>Action,Adventure,Comedy</td>\n",
       "      <td>2/9/2016</td>\n",
       "    </tr>\n",
       "    <tr>\n",
       "      <th>...</th>\n",
       "      <td>...</td>\n",
       "      <td>...</td>\n",
       "      <td>...</td>\n",
       "      <td>...</td>\n",
       "    </tr>\n",
       "    <tr>\n",
       "      <th>9995</th>\n",
       "      <td>Splendor in the Grass</td>\n",
       "      <td>A fragile Kansas girl's unrequited and forbidd...</td>\n",
       "      <td>Drama,Romance</td>\n",
       "      <td>10/10/1961</td>\n",
       "    </tr>\n",
       "    <tr>\n",
       "      <th>9996</th>\n",
       "      <td>Pillow Talk</td>\n",
       "      <td>A man and woman share a telephone line and des...</td>\n",
       "      <td>Comedy,Romance</td>\n",
       "      <td>10/7/1959</td>\n",
       "    </tr>\n",
       "    <tr>\n",
       "      <th>9997</th>\n",
       "      <td>The 7th Voyage of Sinbad</td>\n",
       "      <td>When a princess is shrunken by an evil wizard,...</td>\n",
       "      <td>Action,Adventure,Family,Fantasy</td>\n",
       "      <td>12/5/1958</td>\n",
       "    </tr>\n",
       "    <tr>\n",
       "      <th>9998</th>\n",
       "      <td>Tarantula</td>\n",
       "      <td>A lone-wolf scientist sequestered in a mansion...</td>\n",
       "      <td>Horror,Science Fiction,Thriller</td>\n",
       "      <td>12/14/1955</td>\n",
       "    </tr>\n",
       "    <tr>\n",
       "      <th>9999</th>\n",
       "      <td>The Thief of Bagdad</td>\n",
       "      <td>When Prince Ahmad is blinded and cast out of B...</td>\n",
       "      <td>Action,Adventure,Family,Fantasy</td>\n",
       "      <td>12/25/1940</td>\n",
       "    </tr>\n",
       "  </tbody>\n",
       "</table>\n",
       "<p>10000 rows × 4 columns</p>\n",
       "</div>"
      ]
     },
     "execution_count": 27,
     "metadata": {},
     "output_type": "execute_result"
    }
   ],
   "execution_count": 27
  },
  {
   "metadata": {
    "ExecuteTime": {
     "end_time": "2024-08-03T10:03:00.255744Z",
     "start_time": "2024-08-03T10:03:00.242708Z"
    }
   },
   "cell_type": "code",
   "source": "# df['tags'] = df['overview']+df['genre']",
   "id": "b403d44835931b4f",
   "outputs": [],
   "execution_count": 21
  },
  {
   "metadata": {
    "ExecuteTime": {
     "end_time": "2024-08-03T10:03:05.037096Z",
     "start_time": "2024-08-03T10:03:05.016895Z"
    }
   },
   "cell_type": "code",
   "source": "# new_data = df.drop(columns=['overview', 'genre'])",
   "id": "ae6fd41c6acb9cd8",
   "outputs": [],
   "execution_count": 22
  },
  {
   "metadata": {
    "ExecuteTime": {
     "end_time": "2024-08-03T10:03:06.351414Z",
     "start_time": "2024-08-03T10:03:06.336351Z"
    }
   },
   "cell_type": "code",
   "source": "# new_data",
   "id": "b811062b7f9bfff",
   "outputs": [
    {
     "data": {
      "text/plain": [
       "                         title release_date  \\\n",
       "0                    Inception    7/15/2010   \n",
       "1                 Interstellar    11/5/2014   \n",
       "2              The Dark Knight    7/14/2008   \n",
       "3                 The Avengers    4/25/2012   \n",
       "4                     Deadpool     2/9/2016   \n",
       "...                        ...          ...   \n",
       "9995     Splendor in the Grass   10/10/1961   \n",
       "9996               Pillow Talk    10/7/1959   \n",
       "9997  The 7th Voyage of Sinbad    12/5/1958   \n",
       "9998                 Tarantula   12/14/1955   \n",
       "9999       The Thief of Bagdad   12/25/1940   \n",
       "\n",
       "                                                   tags  \n",
       "0     Cobb, a skilled thief who commits corporate es...  \n",
       "1     The adventures of a group of explorers who mak...  \n",
       "2     Batman raises the stakes in his war on crime. ...  \n",
       "3     When an unexpected enemy emerges and threatens...  \n",
       "4     The origin story of former Special Forces oper...  \n",
       "...                                                 ...  \n",
       "9995  A fragile Kansas girl's unrequited and forbidd...  \n",
       "9996  A man and woman share a telephone line and des...  \n",
       "9997  When a princess is shrunken by an evil wizard,...  \n",
       "9998  A lone-wolf scientist sequestered in a mansion...  \n",
       "9999  When Prince Ahmad is blinded and cast out of B...  \n",
       "\n",
       "[10000 rows x 3 columns]"
      ],
      "text/html": [
       "<div>\n",
       "<style scoped>\n",
       "    .dataframe tbody tr th:only-of-type {\n",
       "        vertical-align: middle;\n",
       "    }\n",
       "\n",
       "    .dataframe tbody tr th {\n",
       "        vertical-align: top;\n",
       "    }\n",
       "\n",
       "    .dataframe thead th {\n",
       "        text-align: right;\n",
       "    }\n",
       "</style>\n",
       "<table border=\"1\" class=\"dataframe\">\n",
       "  <thead>\n",
       "    <tr style=\"text-align: right;\">\n",
       "      <th></th>\n",
       "      <th>title</th>\n",
       "      <th>release_date</th>\n",
       "      <th>tags</th>\n",
       "    </tr>\n",
       "  </thead>\n",
       "  <tbody>\n",
       "    <tr>\n",
       "      <th>0</th>\n",
       "      <td>Inception</td>\n",
       "      <td>7/15/2010</td>\n",
       "      <td>Cobb, a skilled thief who commits corporate es...</td>\n",
       "    </tr>\n",
       "    <tr>\n",
       "      <th>1</th>\n",
       "      <td>Interstellar</td>\n",
       "      <td>11/5/2014</td>\n",
       "      <td>The adventures of a group of explorers who mak...</td>\n",
       "    </tr>\n",
       "    <tr>\n",
       "      <th>2</th>\n",
       "      <td>The Dark Knight</td>\n",
       "      <td>7/14/2008</td>\n",
       "      <td>Batman raises the stakes in his war on crime. ...</td>\n",
       "    </tr>\n",
       "    <tr>\n",
       "      <th>3</th>\n",
       "      <td>The Avengers</td>\n",
       "      <td>4/25/2012</td>\n",
       "      <td>When an unexpected enemy emerges and threatens...</td>\n",
       "    </tr>\n",
       "    <tr>\n",
       "      <th>4</th>\n",
       "      <td>Deadpool</td>\n",
       "      <td>2/9/2016</td>\n",
       "      <td>The origin story of former Special Forces oper...</td>\n",
       "    </tr>\n",
       "    <tr>\n",
       "      <th>...</th>\n",
       "      <td>...</td>\n",
       "      <td>...</td>\n",
       "      <td>...</td>\n",
       "    </tr>\n",
       "    <tr>\n",
       "      <th>9995</th>\n",
       "      <td>Splendor in the Grass</td>\n",
       "      <td>10/10/1961</td>\n",
       "      <td>A fragile Kansas girl's unrequited and forbidd...</td>\n",
       "    </tr>\n",
       "    <tr>\n",
       "      <th>9996</th>\n",
       "      <td>Pillow Talk</td>\n",
       "      <td>10/7/1959</td>\n",
       "      <td>A man and woman share a telephone line and des...</td>\n",
       "    </tr>\n",
       "    <tr>\n",
       "      <th>9997</th>\n",
       "      <td>The 7th Voyage of Sinbad</td>\n",
       "      <td>12/5/1958</td>\n",
       "      <td>When a princess is shrunken by an evil wizard,...</td>\n",
       "    </tr>\n",
       "    <tr>\n",
       "      <th>9998</th>\n",
       "      <td>Tarantula</td>\n",
       "      <td>12/14/1955</td>\n",
       "      <td>A lone-wolf scientist sequestered in a mansion...</td>\n",
       "    </tr>\n",
       "    <tr>\n",
       "      <th>9999</th>\n",
       "      <td>The Thief of Bagdad</td>\n",
       "      <td>12/25/1940</td>\n",
       "      <td>When Prince Ahmad is blinded and cast out of B...</td>\n",
       "    </tr>\n",
       "  </tbody>\n",
       "</table>\n",
       "<p>10000 rows × 3 columns</p>\n",
       "</div>"
      ]
     },
     "execution_count": 23,
     "metadata": {},
     "output_type": "execute_result"
    }
   ],
   "execution_count": 23
  },
  {
   "metadata": {
    "ExecuteTime": {
     "end_time": "2024-08-03T10:05:25.731658Z",
     "start_time": "2024-08-03T10:05:25.720657Z"
    }
   },
   "cell_type": "code",
   "source": [
    "# Create textual representation\n",
    "def create_textual_representation(row):\n",
    "    return f\"\"\"\n",
    "Title: {row['title']},\n",
    "Year: {row['release_date']},\n",
    "Genre: {row['genre']},\n",
    "\n",
    "Description: {row['overview']}\"\"\""
   ],
   "id": "4fb2d312de29b89c",
   "outputs": [],
   "execution_count": 28
  },
  {
   "metadata": {
    "ExecuteTime": {
     "end_time": "2024-08-03T10:05:30.695071Z",
     "start_time": "2024-08-03T10:05:30.531971Z"
    }
   },
   "cell_type": "code",
   "source": [
    "df_copy = df.copy()\n",
    "df_copy['textual_representation'] = df_copy.apply(create_textual_representation, axis=1)"
   ],
   "id": "62628e77acd1ba6e",
   "outputs": [],
   "execution_count": 29
  },
  {
   "metadata": {
    "ExecuteTime": {
     "end_time": "2024-08-03T10:05:36.349974Z",
     "start_time": "2024-08-03T10:05:36.336904Z"
    }
   },
   "cell_type": "code",
   "source": [
    "import faiss\n",
    "print(faiss.__version__)\n",
    "import requests\n",
    "import numpy as np\n",
    "# Initialize FAISS index\n",
    "dim = 4096  # Ensure this matches the dimension of the embeddings returned by the LLM\n",
    "index = faiss.IndexFlatL2(dim)"
   ],
   "id": "5c2c3d44699d1c73",
   "outputs": [
    {
     "name": "stdout",
     "output_type": "stream",
     "text": [
      "1.7.4\n"
     ]
    }
   ],
   "execution_count": 30
  },
  {
   "metadata": {
    "ExecuteTime": {
     "end_time": "2024-08-03T10:05:38.527788Z",
     "start_time": "2024-08-03T10:05:38.517912Z"
    }
   },
   "cell_type": "code",
   "source": [
    "# Generate embeddings and add to FAISS index\n",
    "x = np.zeros((len(df_copy['textual_representation']), dim), dtype='float32')"
   ],
   "id": "369e82f17af14dc4",
   "outputs": [],
   "execution_count": 31
  },
  {
   "metadata": {
    "ExecuteTime": {
     "end_time": "2024-08-03T10:05:39.879768Z",
     "start_time": "2024-08-03T10:05:39.861759Z"
    }
   },
   "cell_type": "code",
   "source": "#x",
   "id": "49da000bab6d3ba8",
   "outputs": [],
   "execution_count": 32
  },
  {
   "metadata": {
    "ExecuteTime": {
     "end_time": "2024-08-03T10:05:41.795234Z",
     "start_time": "2024-08-03T10:05:41.776149Z"
    }
   },
   "cell_type": "code",
   "source": [
    "for i, representation in enumerate(df_copy['textual_representation']):\n",
    "    if i % 1000 == 0:\n",
    "        print(f\"Processing textual representation {i}\")"
   ],
   "id": "9760cbd31b1abc5b",
   "outputs": [
    {
     "name": "stdout",
     "output_type": "stream",
     "text": [
      "Processing textual representation 0\n",
      "Processing textual representation 1000\n",
      "Processing textual representation 2000\n",
      "Processing textual representation 3000\n",
      "Processing textual representation 4000\n",
      "Processing textual representation 5000\n",
      "Processing textual representation 6000\n",
      "Processing textual representation 7000\n",
      "Processing textual representation 8000\n",
      "Processing textual representation 9000\n"
     ]
    }
   ],
   "execution_count": 33
  },
  {
   "metadata": {
    "ExecuteTime": {
     "end_time": "2024-08-03T10:07:11.632772Z",
     "start_time": "2024-08-03T10:07:11.615263Z"
    }
   },
   "cell_type": "code",
   "source": [
    "def get_embedding_from_api(representation, index):\n",
    "    try:\n",
    "        res = requests.post('http://localhost:11434/api/embeddings', \n",
    "                            json={'model': 'llama2', 'prompt': representation})\n",
    "        res.raise_for_status()  # Raise an HTTPError for bad responses\n",
    "        response_data = res.json()\n",
    "        \n",
    "        if 'embedding' in response_data:\n",
    "            return np.array(response_data['embedding'], dtype='float32')\n",
    "        else:\n",
    "            print(f\"Warning: No embedding key found in response for index {index}\")\n",
    "            return None\n",
    "    except requests.exceptions.RequestException as e:\n",
    "        print(f\"Error: Request failed for index {index}. Exception: {e}\")\n",
    "        return None"
   ],
   "id": "15bf9b5f98c48617",
   "outputs": [],
   "execution_count": 39
  },
  {
   "metadata": {
    "ExecuteTime": {
     "end_time": "2024-08-03T10:08:35.487132Z",
     "start_time": "2024-08-03T10:08:34.997642Z"
    }
   },
   "cell_type": "code",
   "source": [
    "index.add(x)\n",
    "faiss.write_index(index, 'index2')"
   ],
   "id": "90aab0f2cd432872",
   "outputs": [],
   "execution_count": 40
  },
  {
   "metadata": {
    "ExecuteTime": {
     "end_time": "2024-08-03T10:08:44.748499Z",
     "start_time": "2024-08-03T10:08:44.298987Z"
    }
   },
   "cell_type": "code",
   "source": [
    "# Load FAISS index and perform a search\n",
    "index = faiss.read_index('index')"
   ],
   "id": "84441c57d4b352d",
   "outputs": [],
   "execution_count": 41
  },
  {
   "metadata": {
    "ExecuteTime": {
     "end_time": "2024-08-03T10:08:51.305371Z",
     "start_time": "2024-08-03T10:08:51.292134Z"
    }
   },
   "cell_type": "code",
   "source": [
    "# Example recommendation\n",
    "recommend_movie = \"\"\"\n",
    "Title: The Plot,\n",
    "Year: 21 June 2024,\n",
    "Genre: \n",
    "\n",
    "Description: The Plot is a 2024 South Korean crime thriller film directed by Lee Yo-sup, starring Gang Dong-won. An adaptation of the Hong Kong film, Accident, it tells the story of Yeong-il, a designer who orchestrates a commissioned murder as a perfect accidental death, and gets caught up in an unexpected incident\n",
    "\"\"\""
   ],
   "id": "e67435fea0702009",
   "outputs": [],
   "execution_count": 42
  },
  {
   "metadata": {
    "ExecuteTime": {
     "end_time": "2024-08-03T10:09:03.881266Z",
     "start_time": "2024-08-03T10:09:00.692614Z"
    }
   },
   "cell_type": "code",
   "source": [
    "res = requests.post('http://localhost:11434/api/embeddings', \n",
    "                    json={'model': 'llama2', 'prompt': recommend_movie})"
   ],
   "id": "8fd451cd03cd2cdb",
   "outputs": [],
   "execution_count": 43
  },
  {
   "metadata": {
    "ExecuteTime": {
     "end_time": "2024-08-03T10:09:11.499803Z",
     "start_time": "2024-08-03T10:09:11.479292Z"
    }
   },
   "cell_type": "code",
   "source": [
    "embedding = np.array([res.json().get('embedding')], dtype='float32')\n",
    "D, I = index.search(embedding, 5)"
   ],
   "id": "db3ae2395303c1ba",
   "outputs": [],
   "execution_count": 44
  },
  {
   "metadata": {
    "ExecuteTime": {
     "end_time": "2024-08-03T10:09:24.164356Z",
     "start_time": "2024-08-03T10:09:24.151179Z"
    }
   },
   "cell_type": "code",
   "source": [
    "best_matches = np.array(df_copy['textual_representation'])[I.flatten()]\n",
    "for match in best_matches:\n",
    "    print('Next Movie')\n",
    "    print(match)\n",
    "    print()"
   ],
   "id": "d3efc4e38cb2aba1",
   "outputs": [
    {
     "name": "stdout",
     "output_type": "stream",
     "text": [
      "Next Movie\n",
      "\n",
      "Title: Interstellar,\n",
      "Year: 11/5/2014,\n",
      "Genre: Adventure,Drama,Science Fiction,\n",
      "\n",
      "Description: The adventures of a group of explorers who make use of a newly discovered wormhole to surpass the limitations on human space travel and conquer the vast distances involved in an interstellar voyage.\n",
      "\n",
      "Next Movie\n",
      "\n",
      "Title: The Dark Knight,\n",
      "Year: 7/14/2008,\n",
      "Genre: Drama,Action,Crime,Thriller,\n",
      "\n",
      "Description: Batman raises the stakes in his war on crime. With the help of Lt. Jim Gordon and District Attorney Harvey Dent, Batman sets out to dismantle the remaining criminal organizations that plague the streets. The partnership proves to be effective, but they soon find themselves prey to a reign of chaos unleashed by a rising criminal mastermind known to the terrified citizens of Gotham as the Joker.\n",
      "\n",
      "Next Movie\n",
      "\n",
      "Title: The Avengers,\n",
      "Year: 4/25/2012,\n",
      "Genre: Science Fiction,Action,Adventure,\n",
      "\n",
      "Description: When an unexpected enemy emerges and threatens global safety and security, Nick Fury, director of the international peacekeeping agency known as S.H.I.E.L.D., finds himself in need of a team to pull the world back from the brink of disaster. Spanning the globe, a daring recruitment effort begins!\n",
      "\n",
      "Next Movie\n",
      "\n",
      "Title: Deadpool,\n",
      "Year: 2/9/2016,\n",
      "Genre: Action,Adventure,Comedy,\n",
      "\n",
      "Description: The origin story of former Special Forces operative turned mercenary Wade Wilson, who, after being subjected to a rogue experiment that leaves him with accelerated healing powers, adopts the alter ego Deadpool. Armed with his new abilities and a dark, twisted sense of humor, Deadpool hunts down the man who nearly destroyed his life.\n",
      "\n",
      "Next Movie\n",
      "\n",
      "Title: Avatar,\n",
      "Year: 12/10/2009,\n",
      "Genre: Action,Adventure,Fantasy,Science Fiction,\n",
      "\n",
      "Description: In the 22nd century, a paraplegic Marine is dispatched to the moon Pandora on a unique mission, but becomes torn between following orders and protecting an alien civilization.\n",
      "\n"
     ]
    }
   ],
   "execution_count": 45
  },
  {
   "metadata": {
    "ExecuteTime": {
     "end_time": "2024-08-03T10:10:03.407070Z",
     "start_time": "2024-08-03T10:10:03.387030Z"
    }
   },
   "cell_type": "code",
   "source": [
    "import pickle\n",
    "# Save and load results\n",
    "pickle.dump(best_matches, open('best_matches.pkl', 'wb'))\n",
    "best_matches_loaded = pickle.load(open('best_matches.pkl', 'rb'))"
   ],
   "id": "d9ac497ad04126f5",
   "outputs": [],
   "execution_count": 46
  },
  {
   "metadata": {
    "ExecuteTime": {
     "end_time": "2024-08-03T10:11:17.252130Z",
     "start_time": "2024-08-03T10:11:17.247157Z"
    }
   },
   "cell_type": "code",
   "source": "print(best_matches_loaded)",
   "id": "9f9161ac11bc1454",
   "outputs": [
    {
     "name": "stdout",
     "output_type": "stream",
     "text": [
      "['\\nTitle: Interstellar,\\nYear: 11/5/2014,\\nGenre: Adventure,Drama,Science Fiction,\\n\\nDescription: The adventures of a group of explorers who make use of a newly discovered wormhole to surpass the limitations on human space travel and conquer the vast distances involved in an interstellar voyage.'\n",
      " '\\nTitle: The Dark Knight,\\nYear: 7/14/2008,\\nGenre: Drama,Action,Crime,Thriller,\\n\\nDescription: Batman raises the stakes in his war on crime. With the help of Lt. Jim Gordon and District Attorney Harvey Dent, Batman sets out to dismantle the remaining criminal organizations that plague the streets. The partnership proves to be effective, but they soon find themselves prey to a reign of chaos unleashed by a rising criminal mastermind known to the terrified citizens of Gotham as the Joker.'\n",
      " '\\nTitle: The Avengers,\\nYear: 4/25/2012,\\nGenre: Science Fiction,Action,Adventure,\\n\\nDescription: When an unexpected enemy emerges and threatens global safety and security, Nick Fury, director of the international peacekeeping agency known as S.H.I.E.L.D., finds himself in need of a team to pull the world back from the brink of disaster. Spanning the globe, a daring recruitment effort begins!'\n",
      " '\\nTitle: Deadpool,\\nYear: 2/9/2016,\\nGenre: Action,Adventure,Comedy,\\n\\nDescription: The origin story of former Special Forces operative turned mercenary Wade Wilson, who, after being subjected to a rogue experiment that leaves him with accelerated healing powers, adopts the alter ego Deadpool. Armed with his new abilities and a dark, twisted sense of humor, Deadpool hunts down the man who nearly destroyed his life.'\n",
      " '\\nTitle: Avatar,\\nYear: 12/10/2009,\\nGenre: Action,Adventure,Fantasy,Science Fiction,\\n\\nDescription: In the 22nd century, a paraplegic Marine is dispatched to the moon Pandora on a unique mission, but becomes torn between following orders and protecting an alien civilization.']\n"
     ]
    }
   ],
   "execution_count": 47
  },
  {
   "metadata": {},
   "cell_type": "code",
   "outputs": [],
   "execution_count": null,
   "source": "",
   "id": "a10dd777568a3faf"
  }
 ],
 "metadata": {
  "kernelspec": {
   "display_name": "Python 3",
   "language": "python",
   "name": "python3"
  },
  "language_info": {
   "codemirror_mode": {
    "name": "ipython",
    "version": 2
   },
   "file_extension": ".py",
   "mimetype": "text/x-python",
   "name": "python",
   "nbconvert_exporter": "python",
   "pygments_lexer": "ipython2",
   "version": "2.7.6"
  }
 },
 "nbformat": 4,
 "nbformat_minor": 5
}
